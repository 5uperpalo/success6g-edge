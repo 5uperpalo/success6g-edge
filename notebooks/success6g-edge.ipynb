{
 "cells": [
  {
   "cell_type": "markdown",
   "id": "6e315011-2603-43f4-acc1-79d21e8e67fc",
   "metadata": {},
   "source": [
    "# Idneo code"
   ]
  },
  {
   "cell_type": "code",
   "execution_count": 1,
   "id": "7961dc18-e63b-49b6-8479-163ad48caeb9",
   "metadata": {},
   "outputs": [],
   "source": [
    "import os\n",
    "\n",
    "os.chdir(\"..\")"
   ]
  },
  {
   "cell_type": "code",
   "execution_count": 2,
   "id": "0e516ea0-228e-4ee1-bd1a-8e5ac80f200a",
   "metadata": {},
   "outputs": [],
   "source": [
    "import pandas as pd\n",
    "from tools.vehicle.src.csv_parser import proccess_csv\n",
    "from tools.vehicle.src.data_handler import order_by_ts_relative\n",
    "import matplotlib.pyplot as plt\n",
    "import argparse\n",
    "import time\n",
    "import redis\n",
    "from lightgbm import LGBMClassifier\n",
    "import pandas as pd\n",
    "import ast\n",
    "import redis\n",
    "from influxdb_client import InfluxDBClient, BucketsApi, Point\n",
    "from influxdb_client.client.organizations_api import OrganizationsApi\n",
    "from influxdb_client.client.write_api import SYNCHRONOUS"
   ]
  },
  {
   "cell_type": "code",
   "execution_count": 3,
   "id": "0733d8d6-fcac-4509-bffd-5307c99e2e3b",
   "metadata": {},
   "outputs": [
    {
     "name": "stdout",
     "output_type": "stream",
     "text": [
      "['Vehicle speed', 'Time since engine start', 'Normed load value', 'Accelerator pedal position', 'Engine torque', 'Oil fill level', 'Engine oil temperature', 'Fuel level', 'Fuel consumption', 'Brake pressure', 'Engaged gear: raw signal-Bits 0-7', 'Efficiency of the SCR catalytic converter']\n",
      "Dataset has begun after  0 seconds...\n"
     ]
    }
   ],
   "source": [
    "data_sets = [\n",
    "    \"DS1_stopped_with_ignition_on_22Feb24_115812.csv\",\n",
    "    \"DS1_stopped_with_ignition_on_25Jan24_124019.csv\",\n",
    "    \"DS1_stopped_with_ignition_on_25Jan24_151531.csv\",\n",
    "    \"DS1_stopped_with_ignition_on_25Mar24_153740.CSV\",\n",
    "    \"DS2_national_road_90km_h_max_25Jan24_153019.csv\",\n",
    "    \"DS2_national_road_90km_h_max_25Mar24_133516.CSV\",\n",
    "    \"DS3_highway_120km_h_max_22Feb24_121145.csv\",\n",
    "    \"DS3_highway_120km_h_max_25Mar24_154857.csv\",\n",
    "]\n",
    "file = \"tools/vehicle/datasets/ateca_R4_2.0l_TDI/\" + data_sets[0]\n",
    "# Pre-process csv dataset\n",
    "data_ordered_by_sensor = proccess_csv(file)\n",
    "\n",
    "# Timestamp sorting\n",
    "data_ordered_by_time = order_by_ts_relative(data_ordered_by_sensor)"
   ]
  },
  {
   "cell_type": "code",
   "execution_count": 4,
   "id": "9afecde9-bf41-4ea2-9013-9700670d8dc3",
   "metadata": {},
   "outputs": [
    {
     "data": {
      "text/plain": [
       "dict_keys(['sensor', 'unit', 'values'])"
      ]
     },
     "execution_count": 4,
     "metadata": {},
     "output_type": "execute_result"
    }
   ],
   "source": [
    "data_ordered_by_sensor[0].keys()"
   ]
  },
  {
   "cell_type": "code",
   "execution_count": 5,
   "id": "92a1e0b5-d246-444f-974e-900c4e5fa018",
   "metadata": {},
   "outputs": [
    {
     "data": {
      "text/plain": [
       "('Vehicle_speed',\n",
       " ' km/h',\n",
       " [{'ts_relative': 1.74, 'value': 0.0},\n",
       "  {'ts_relative': 3.19, 'value': 0.0},\n",
       "  {'ts_relative': 4.69, 'value': 0.0},\n",
       "  {'ts_relative': 6.17, 'value': 0.0},\n",
       "  {'ts_relative': 7.61, 'value': 0.0}])"
      ]
     },
     "execution_count": 5,
     "metadata": {},
     "output_type": "execute_result"
    }
   ],
   "source": [
    "data_ordered_by_sensor[0][\"sensor\"], data_ordered_by_sensor[0][\n",
    "    \"unit\"\n",
    "], data_ordered_by_sensor[0][\"values\"][:5]"
   ]
  },
  {
   "cell_type": "code",
   "execution_count": 6,
   "id": "985feebf-06e3-44a2-9339-c3b4dacfe676",
   "metadata": {},
   "outputs": [
    {
     "data": {
      "text/plain": [
       "[{0.14: {'sensor': 'Efficiency_of_the_SCR_catalytic_converter', 'value': 0.0}},\n",
       " {0.36: {'sensor': 'Time_since_engine_start', 'value': 0.0}},\n",
       " {0.46: {'sensor': 'Normed_load_value', 'value': 23.1}},\n",
       " {0.57: {'sensor': 'Accelerator_pedal_position', 'value': 14.5}},\n",
       " {0.69: {'sensor': 'Engine_torque', 'value': 48.4}}]"
      ]
     },
     "execution_count": 6,
     "metadata": {},
     "output_type": "execute_result"
    }
   ],
   "source": [
    "data_ordered_by_time[:5]"
   ]
  },
  {
   "cell_type": "code",
   "execution_count": 7,
   "id": "efd38ebc-e34f-45a3-9915-f71dd9c3bfba",
   "metadata": {},
   "outputs": [],
   "source": [
    "df = pd.read_csv(file)"
   ]
  },
  {
   "cell_type": "code",
   "execution_count": 8,
   "id": "f9ae4ff4-1aa3-477b-80ac-ad6bae01610b",
   "metadata": {},
   "outputs": [
    {
     "data": {
      "text/html": [
       "<div>\n",
       "<style scoped>\n",
       "    .dataframe tbody tr th:only-of-type {\n",
       "        vertical-align: middle;\n",
       "    }\n",
       "\n",
       "    .dataframe tbody tr th {\n",
       "        vertical-align: top;\n",
       "    }\n",
       "\n",
       "    .dataframe thead th {\n",
       "        text-align: right;\n",
       "    }\n",
       "</style>\n",
       "<table border=\"1\" class=\"dataframe\">\n",
       "  <thead>\n",
       "    <tr style=\"text-align: right;\">\n",
       "      <th></th>\n",
       "      <th>Unnamed: 0</th>\n",
       "      <th>STAMP</th>\n",
       "      <th>Vehicle speed</th>\n",
       "      <th>STAMP.1</th>\n",
       "      <th>Time since engine start</th>\n",
       "      <th>STAMP.2</th>\n",
       "      <th>Normed load value</th>\n",
       "      <th>STAMP.3</th>\n",
       "      <th>Accelerator pedal position</th>\n",
       "      <th>STAMP.4</th>\n",
       "      <th>...</th>\n",
       "      <th>Fuel level</th>\n",
       "      <th>STAMP.8</th>\n",
       "      <th>Fuel consumption</th>\n",
       "      <th>STAMP.9</th>\n",
       "      <th>Brake pressure</th>\n",
       "      <th>STAMP.10</th>\n",
       "      <th>Engaged gear: raw signal-Bits 0-7</th>\n",
       "      <th>STAMP.11</th>\n",
       "      <th>Efficiency of the SCR catalytic converter</th>\n",
       "      <th>Unnamed: 25</th>\n",
       "    </tr>\n",
       "  </thead>\n",
       "  <tbody>\n",
       "    <tr>\n",
       "      <th>0</th>\n",
       "      <td>NaN</td>\n",
       "      <td>NaN</td>\n",
       "      <td>km/h</td>\n",
       "      <td>NaN</td>\n",
       "      <td>s</td>\n",
       "      <td>NaN</td>\n",
       "      <td>%</td>\n",
       "      <td>NaN</td>\n",
       "      <td>%</td>\n",
       "      <td>NaN</td>\n",
       "      <td>...</td>\n",
       "      <td>l</td>\n",
       "      <td>NaN</td>\n",
       "      <td>l/h</td>\n",
       "      <td>NaN</td>\n",
       "      <td>MPa</td>\n",
       "      <td>NaN</td>\n",
       "      <td></td>\n",
       "      <td>NaN</td>\n",
       "      <td></td>\n",
       "      <td>NaN</td>\n",
       "    </tr>\n",
       "    <tr>\n",
       "      <th>1</th>\n",
       "      <td>NaN</td>\n",
       "      <td>0.24</td>\n",
       "      <td>0</td>\n",
       "      <td>0.36</td>\n",
       "      <td>0</td>\n",
       "      <td>0.46</td>\n",
       "      <td>23.1</td>\n",
       "      <td>0.57</td>\n",
       "      <td>14.5</td>\n",
       "      <td>0.69</td>\n",
       "      <td>...</td>\n",
       "      <td>24.00</td>\n",
       "      <td>1.23</td>\n",
       "      <td>1.15</td>\n",
       "      <td>1.35</td>\n",
       "      <td>3.63</td>\n",
       "      <td>1.49</td>\n",
       "      <td>0</td>\n",
       "      <td>0.14</td>\n",
       "      <td>0.00000</td>\n",
       "      <td>NaN</td>\n",
       "    </tr>\n",
       "    <tr>\n",
       "      <th>2</th>\n",
       "      <td>NaN</td>\n",
       "      <td>1.74</td>\n",
       "      <td>0</td>\n",
       "      <td>1.86</td>\n",
       "      <td>1</td>\n",
       "      <td>1.95</td>\n",
       "      <td>32.5</td>\n",
       "      <td>2.07</td>\n",
       "      <td>14.5</td>\n",
       "      <td>2.19</td>\n",
       "      <td>...</td>\n",
       "      <td>24.00</td>\n",
       "      <td>2.69</td>\n",
       "      <td>1.19</td>\n",
       "      <td>2.81</td>\n",
       "      <td>3.63</td>\n",
       "      <td>2.95</td>\n",
       "      <td>0</td>\n",
       "      <td>1.64</td>\n",
       "      <td>0.00000</td>\n",
       "      <td>NaN</td>\n",
       "    </tr>\n",
       "    <tr>\n",
       "      <th>3</th>\n",
       "      <td>NaN</td>\n",
       "      <td>3.19</td>\n",
       "      <td>0</td>\n",
       "      <td>3.28</td>\n",
       "      <td>3</td>\n",
       "      <td>3.39</td>\n",
       "      <td>41.2</td>\n",
       "      <td>3.50</td>\n",
       "      <td>14.5</td>\n",
       "      <td>3.62</td>\n",
       "      <td>...</td>\n",
       "      <td>24.00</td>\n",
       "      <td>4.16</td>\n",
       "      <td>1.15</td>\n",
       "      <td>4.30</td>\n",
       "      <td>3.54</td>\n",
       "      <td>4.43</td>\n",
       "      <td>0</td>\n",
       "      <td>3.09</td>\n",
       "      <td>0.00000</td>\n",
       "      <td>NaN</td>\n",
       "    </tr>\n",
       "    <tr>\n",
       "      <th>4</th>\n",
       "      <td>NaN</td>\n",
       "      <td>4.69</td>\n",
       "      <td>0</td>\n",
       "      <td>4.80</td>\n",
       "      <td>4</td>\n",
       "      <td>4.91</td>\n",
       "      <td>34.9</td>\n",
       "      <td>5.02</td>\n",
       "      <td>14.5</td>\n",
       "      <td>5.15</td>\n",
       "      <td>...</td>\n",
       "      <td>24.00</td>\n",
       "      <td>5.68</td>\n",
       "      <td>1.07</td>\n",
       "      <td>5.80</td>\n",
       "      <td>3.51</td>\n",
       "      <td>5.93</td>\n",
       "      <td>0</td>\n",
       "      <td>4.58</td>\n",
       "      <td>0.00363</td>\n",
       "      <td>NaN</td>\n",
       "    </tr>\n",
       "  </tbody>\n",
       "</table>\n",
       "<p>5 rows × 26 columns</p>\n",
       "</div>"
      ],
      "text/plain": [
       "   Unnamed: 0  STAMP Vehicle speed  STAMP.1 Time since engine start  STAMP.2  \\\n",
       "0         NaN    NaN          km/h      NaN                       s      NaN   \n",
       "1         NaN   0.24             0     0.36                       0     0.46   \n",
       "2         NaN   1.74             0     1.86                       1     1.95   \n",
       "3         NaN   3.19             0     3.28                       3     3.39   \n",
       "4         NaN   4.69             0     4.80                       4     4.91   \n",
       "\n",
       "  Normed load value  STAMP.3 Accelerator pedal position  STAMP.4  ...  \\\n",
       "0                 %      NaN                          %      NaN  ...   \n",
       "1              23.1     0.57                       14.5     0.69  ...   \n",
       "2              32.5     2.07                       14.5     2.19  ...   \n",
       "3              41.2     3.50                       14.5     3.62  ...   \n",
       "4              34.9     5.02                       14.5     5.15  ...   \n",
       "\n",
       "  Fuel level  STAMP.8 Fuel consumption  STAMP.9 Brake pressure  STAMP.10  \\\n",
       "0          l      NaN              l/h      NaN            MPa       NaN   \n",
       "1      24.00     1.23             1.15     1.35           3.63      1.49   \n",
       "2      24.00     2.69             1.19     2.81           3.63      2.95   \n",
       "3      24.00     4.16             1.15     4.30           3.54      4.43   \n",
       "4      24.00     5.68             1.07     5.80           3.51      5.93   \n",
       "\n",
       "  Engaged gear: raw signal-Bits 0-7  STAMP.11  \\\n",
       "0                                         NaN   \n",
       "1                                 0      0.14   \n",
       "2                                 0      1.64   \n",
       "3                                 0      3.09   \n",
       "4                                 0      4.58   \n",
       "\n",
       "  Efficiency of the SCR catalytic converter  Unnamed: 25  \n",
       "0                                                    NaN  \n",
       "1                                   0.00000          NaN  \n",
       "2                                   0.00000          NaN  \n",
       "3                                   0.00000          NaN  \n",
       "4                                   0.00363          NaN  \n",
       "\n",
       "[5 rows x 26 columns]"
      ]
     },
     "execution_count": 8,
     "metadata": {},
     "output_type": "execute_result"
    }
   ],
   "source": [
    "df.head()"
   ]
  },
  {
   "cell_type": "code",
   "execution_count": 9,
   "id": "cfcffbed-394e-496c-914e-3af3639f22c6",
   "metadata": {},
   "outputs": [],
   "source": [
    "df.drop(columns=[\"Unnamed: 0\", \"Unnamed: 25\"], inplace=True)\n",
    "df.drop(index=0, inplace=True)"
   ]
  },
  {
   "cell_type": "code",
   "execution_count": 10,
   "id": "3bb992a2-6a4d-4ad4-9b2d-6de33f5680e2",
   "metadata": {},
   "outputs": [],
   "source": [
    "timestamp_columns = [col for col in df.columns if col.startswith(\"STAMP\")]"
   ]
  },
  {
   "cell_type": "code",
   "execution_count": 11,
   "id": "44d9d1af-41b6-45b6-924c-e8fb6c74f122",
   "metadata": {},
   "outputs": [
    {
     "data": {
      "image/png": "[encoded data removed]",
      "text/plain": [
       "<Figure size 640x480 with 12 Axes>"
      ]
     },
     "metadata": {},
     "output_type": "display_data"
    }
   ],
   "source": [
    "df[timestamp_columns].diff().hist()\n",
    "plt.suptitle(\"Distribution of time stmap differences between samples from each sensor\");"
   ]
  },
  {
   "cell_type": "markdown",
   "id": "5e0700f9-ae50-42a2-822a-35de3440ced8",
   "metadata": {},
   "source": [
    "## Check if the timestamp values are not overlapping\n",
    "Chce if the data format is correct and the data could be used in \"tabular chunks\" for prediction in the model, i.e. if the maximum timestamp in each row is lower than the minimum timestamp in the following row"
   ]
  },
  {
   "cell_type": "code",
   "execution_count": 12,
   "id": "0a7a5ae1-8523-4cfe-a639-3ee055ed1f1c",
   "metadata": {},
   "outputs": [],
   "source": [
    "temp = df[timestamp_columns].min(axis=1)[1:].reset_index(drop=True) - df[\n",
    "    timestamp_columns\n",
    "].max(axis=1)[:-1].reset_index(drop=True)"
   ]
  },
  {
   "cell_type": "code",
   "execution_count": 13,
   "id": "b0f4cc1a-c612-45cd-9220-531c404fb0e7",
   "metadata": {},
   "outputs": [
    {
     "data": {
      "text/plain": [
       "np.int64(428)"
      ]
     },
     "execution_count": 13,
     "metadata": {},
     "output_type": "execute_result"
    }
   ],
   "source": [
    "(temp > 0).sum()"
   ]
  },
  {
   "cell_type": "code",
   "execution_count": 14,
   "id": "838a4ed0-4740-46c6-bda3-53693f33ad03",
   "metadata": {},
   "outputs": [
    {
     "data": {
      "text/plain": [
       "np.int64(0)"
      ]
     },
     "execution_count": 14,
     "metadata": {},
     "output_type": "execute_result"
    }
   ],
   "source": [
    "(temp <= 0).sum()"
   ]
  },
  {
   "cell_type": "markdown",
   "id": "ec631978-fc04-4fd2-9f6d-4b8061d89a2c",
   "metadata": {},
   "source": [
    "## Model"
   ]
  },
  {
   "cell_type": "markdown",
   "id": "d033f246-0988-4885-8f96-c15143f854fb",
   "metadata": {},
   "source": [
    "### Add some class to train the model"
   ]
  },
  {
   "cell_type": "code",
   "execution_count": 16,
   "id": "7c9208f3",
   "metadata": {},
   "outputs": [
    {
     "data": {
      "text/plain": [
       "Index(['Vehicle speed', 'Time since engine start', 'Normed load value',\n",
       "       'Accelerator pedal position', 'Engine torque', 'Oil fill level',\n",
       "       'Engine oil temperature', 'Fuel level', 'Fuel consumption',\n",
       "       'Brake pressure', 'Engaged gear: raw signal-Bits 0-7',\n",
       "       'Efficiency of the SCR catalytic converter', 'timestamp', 'class'],\n",
       "      dtype='object')"
      ]
     },
     "execution_count": 16,
     "metadata": {},
     "output_type": "execute_result"
    }
   ],
   "source": [
    "df_train.columns"
   ]
  },
  {
   "cell_type": "code",
   "execution_count": 15,
   "id": "7c3c94d2-3cd4-4aa7-a4a2-cb3ad6abd832",
   "metadata": {},
   "outputs": [],
   "source": [
    "df_train = df.drop(columns=timestamp_columns)\n",
    "# keep only the first timestamp column\n",
    "df_train[\"timestamp\"] = df[\"STAMP\"]\n",
    "df_train[\"class\"] = 0\n",
    "df_train.loc[:100, [\"class\"]] = 1\n",
    "df_train.loc[:100, [\"Normed load value\"]] = 100"
   ]
  },
  {
   "cell_type": "code",
   "execution_count": null,
   "id": "c6fdf467-63b5-4d2a-b4eb-e1dbaea5e5aa",
   "metadata": {},
   "outputs": [],
   "source": [
    "df_train[df_train.drop(columns=[\"class\"]).columns] = df_train[\n",
    "    df_train.drop(columns=[\"class\"]).columns\n",
    "].astype(float)"
   ]
  },
  {
   "cell_type": "code",
   "execution_count": null,
   "id": "221b3d4a-3896-43c2-94da-592f9becb976",
   "metadata": {},
   "outputs": [],
   "source": [
    "# Remove special characters from column names\n",
    "df_train.columns = df_train.columns.str.replace(\"[^A-Za-z0-9]+\", \"_\", regex=True)"
   ]
  },
  {
   "cell_type": "code",
   "execution_count": 51,
   "id": "2ae49bf3-5288-4cda-ac57-e06127833c3a",
   "metadata": {},
   "outputs": [],
   "source": [
    "# add some vehicle id\n",
    "df_train[\"vehicle_id\"] = \"abc123\""
   ]
  },
  {
   "cell_type": "markdown",
   "id": "5ab7ec23-5fa2-4e34-b694-1341bda924ea",
   "metadata": {},
   "source": [
    "### Train the model"
   ]
  },
  {
   "cell_type": "code",
   "execution_count": 52,
   "id": "f8eabf4a-e0c8-4e0c-959e-f40149fb69e1",
   "metadata": {},
   "outputs": [
    {
     "name": "stdout",
     "output_type": "stream",
     "text": [
      "[LightGBM] [Info] Number of positive: 100, number of negative: 329\n",
      "[LightGBM] [Info] Auto-choosing col-wise multi-threading, the overhead of testing was 0.000439 seconds.\n",
      "You can set `force_col_wise=true` to remove the overhead.\n",
      "[LightGBM] [Info] Total Bins 516\n",
      "[LightGBM] [Info] Number of data points in the train set: 429, number of used features: 9\n",
      "[LightGBM] [Info] [binary:BoostFromScore]: pavg=0.233100 -> initscore=-1.190888\n",
      "[LightGBM] [Info] Start training from score -1.190888\n",
      "[LightGBM] [Warning] No further splits with positive gain, best gain: -inf\n",
      "[LightGBM] [Warning] No further splits with positive gain, best gain: -inf\n",
      "[LightGBM] [Warning] No further splits with positive gain, best gain: -inf\n",
      "[LightGBM] [Warning] No further splits with positive gain, best gain: -inf\n",
      "[LightGBM] [Warning] No further splits with positive gain, best gain: -inf\n",
      "[LightGBM] [Warning] No further splits with positive gain, best gain: -inf\n",
      "[LightGBM] [Warning] No further splits with positive gain, best gain: -inf\n",
      "[LightGBM] [Warning] No further splits with positive gain, best gain: -inf\n",
      "[LightGBM] [Warning] No further splits with positive gain, best gain: -inf\n",
      "[LightGBM] [Warning] No further splits with positive gain, best gain: -inf\n",
      "[LightGBM] [Warning] No further splits with positive gain, best gain: -inf\n",
      "[LightGBM] [Warning] No further splits with positive gain, best gain: -inf\n",
      "[LightGBM] [Warning] No further splits with positive gain, best gain: -inf\n",
      "[LightGBM] [Warning] No further splits with positive gain, best gain: -inf\n",
      "[LightGBM] [Warning] No further splits with positive gain, best gain: -inf\n",
      "[LightGBM] [Warning] No further splits with positive gain, best gain: -inf\n",
      "[LightGBM] [Warning] No further splits with positive gain, best gain: -inf\n",
      "[LightGBM] [Warning] No further splits with positive gain, best gain: -inf\n",
      "[LightGBM] [Warning] No further splits with positive gain, best gain: -inf\n",
      "[LightGBM] [Warning] No further splits with positive gain, best gain: -inf\n",
      "[LightGBM] [Warning] No further splits with positive gain, best gain: -inf\n",
      "[LightGBM] [Warning] No further splits with positive gain, best gain: -inf\n",
      "[LightGBM] [Warning] No further splits with positive gain, best gain: -inf\n",
      "[LightGBM] [Warning] No further splits with positive gain, best gain: -inf\n",
      "[LightGBM] [Warning] No further splits with positive gain, best gain: -inf\n",
      "[LightGBM] [Warning] No further splits with positive gain, best gain: -inf\n",
      "[LightGBM] [Warning] No further splits with positive gain, best gain: -inf\n",
      "[LightGBM] [Warning] No further splits with positive gain, best gain: -inf\n",
      "[LightGBM] [Warning] No further splits with positive gain, best gain: -inf\n",
      "[LightGBM] [Warning] No further splits with positive gain, best gain: -inf\n",
      "[LightGBM] [Warning] No further splits with positive gain, best gain: -inf\n",
      "[LightGBM] [Warning] No further splits with positive gain, best gain: -inf\n",
      "[LightGBM] [Warning] No further splits with positive gain, best gain: -inf\n",
      "[LightGBM] [Warning] No further splits with positive gain, best gain: -inf\n",
      "[LightGBM] [Warning] No further splits with positive gain, best gain: -inf\n",
      "[LightGBM] [Warning] No further splits with positive gain, best gain: -inf\n",
      "[LightGBM] [Warning] No further splits with positive gain, best gain: -inf\n",
      "[LightGBM] [Warning] No further splits with positive gain, best gain: -inf\n",
      "[LightGBM] [Warning] No further splits with positive gain, best gain: -inf\n",
      "[LightGBM] [Warning] No further splits with positive gain, best gain: -inf\n",
      "[LightGBM] [Warning] No further splits with positive gain, best gain: -inf\n",
      "[LightGBM] [Warning] No further splits with positive gain, best gain: -inf\n",
      "[LightGBM] [Warning] No further splits with positive gain, best gain: -inf\n",
      "[LightGBM] [Warning] No further splits with positive gain, best gain: -inf\n",
      "[LightGBM] [Warning] No further splits with positive gain, best gain: -inf\n",
      "[LightGBM] [Warning] No further splits with positive gain, best gain: -inf\n",
      "[LightGBM] [Warning] No further splits with positive gain, best gain: -inf\n",
      "[LightGBM] [Warning] No further splits with positive gain, best gain: -inf\n",
      "[LightGBM] [Warning] No further splits with positive gain, best gain: -inf\n",
      "[LightGBM] [Warning] No further splits with positive gain, best gain: -inf\n",
      "[LightGBM] [Warning] No further splits with positive gain, best gain: -inf\n",
      "[LightGBM] [Warning] No further splits with positive gain, best gain: -inf\n",
      "[LightGBM] [Warning] No further splits with positive gain, best gain: -inf\n",
      "[LightGBM] [Warning] No further splits with positive gain, best gain: -inf\n",
      "[LightGBM] [Warning] No further splits with positive gain, best gain: -inf\n",
      "[LightGBM] [Warning] No further splits with positive gain, best gain: -inf\n",
      "[LightGBM] [Warning] No further splits with positive gain, best gain: -inf\n",
      "[LightGBM] [Warning] No further splits with positive gain, best gain: -inf\n",
      "[LightGBM] [Warning] No further splits with positive gain, best gain: -inf\n",
      "[LightGBM] [Warning] No further splits with positive gain, best gain: -inf\n",
      "[LightGBM] [Warning] No further splits with positive gain, best gain: -inf\n",
      "[LightGBM] [Warning] No further splits with positive gain, best gain: -inf\n",
      "[LightGBM] [Warning] No further splits with positive gain, best gain: -inf\n",
      "[LightGBM] [Warning] No further splits with positive gain, best gain: -inf\n",
      "[LightGBM] [Warning] No further splits with positive gain, best gain: -inf\n",
      "[LightGBM] [Warning] No further splits with positive gain, best gain: -inf\n",
      "[LightGBM] [Warning] No further splits with positive gain, best gain: -inf\n",
      "[LightGBM] [Warning] No further splits with positive gain, best gain: -inf\n",
      "[LightGBM] [Warning] No further splits with positive gain, best gain: -inf\n",
      "[LightGBM] [Warning] No further splits with positive gain, best gain: -inf\n",
      "[LightGBM] [Warning] No further splits with positive gain, best gain: -inf\n",
      "[LightGBM] [Warning] No further splits with positive gain, best gain: -inf\n",
      "[LightGBM] [Warning] No further splits with positive gain, best gain: -inf\n",
      "[LightGBM] [Warning] No further splits with positive gain, best gain: -inf\n",
      "[LightGBM] [Warning] No further splits with positive gain, best gain: -inf\n",
      "[LightGBM] [Warning] No further splits with positive gain, best gain: -inf\n",
      "[LightGBM] [Warning] No further splits with positive gain, best gain: -inf\n",
      "[LightGBM] [Warning] No further splits with positive gain, best gain: -inf\n",
      "[LightGBM] [Warning] No further splits with positive gain, best gain: -inf\n",
      "[LightGBM] [Warning] No further splits with positive gain, best gain: -inf\n",
      "[LightGBM] [Warning] No further splits with positive gain, best gain: -inf\n",
      "[LightGBM] [Warning] No further splits with positive gain, best gain: -inf\n",
      "[LightGBM] [Warning] No further splits with positive gain, best gain: -inf\n",
      "[LightGBM] [Warning] No further splits with positive gain, best gain: -inf\n",
      "[LightGBM] [Warning] No further splits with positive gain, best gain: -inf\n",
      "[LightGBM] [Warning] No further splits with positive gain, best gain: -inf\n",
      "[LightGBM] [Warning] No further splits with positive gain, best gain: -inf\n",
      "[LightGBM] [Warning] No further splits with positive gain, best gain: -inf\n",
      "[LightGBM] [Warning] No further splits with positive gain, best gain: -inf\n",
      "[LightGBM] [Warning] No further splits with positive gain, best gain: -inf\n",
      "[LightGBM] [Warning] No further splits with positive gain, best gain: -inf\n",
      "[LightGBM] [Warning] No further splits with positive gain, best gain: -inf\n",
      "[LightGBM] [Warning] No further splits with positive gain, best gain: -inf\n",
      "[LightGBM] [Warning] No further splits with positive gain, best gain: -inf\n",
      "[LightGBM] [Warning] No further splits with positive gain, best gain: -inf\n",
      "[LightGBM] [Warning] No further splits with positive gain, best gain: -inf\n",
      "[LightGBM] [Warning] No further splits with positive gain, best gain: -inf\n",
      "[LightGBM] [Warning] No further splits with positive gain, best gain: -inf\n",
      "[LightGBM] [Warning] No further splits with positive gain, best gain: -inf\n",
      "[LightGBM] [Warning] No further splits with positive gain, best gain: -inf\n"
     ]
    },
    {
     "data": {
      "text/html": [
       "<style>#sk-container-id-3 {color: black;background-color: white;}#sk-container-id-3 pre{padding: 0;}#sk-container-id-3 div.sk-toggleable {background-color: white;}#sk-container-id-3 label.sk-toggleable__label {cursor: pointer;display: block;width: 100%;margin-bottom: 0;padding: 0.3em;box-sizing: border-box;text-align: center;}#sk-container-id-3 label.sk-toggleable__label-arrow:before {content: \"▸\";float: left;margin-right: 0.25em;color: #696969;}#sk-container-id-3 label.sk-toggleable__label-arrow:hover:before {color: black;}#sk-container-id-3 div.sk-estimator:hover label.sk-toggleable__label-arrow:before {color: black;}#sk-container-id-3 div.sk-toggleable__content {max-height: 0;max-width: 0;overflow: hidden;text-align: left;background-color: #f0f8ff;}#sk-container-id-3 div.sk-toggleable__content pre {margin: 0.2em;color: black;border-radius: 0.25em;background-color: #f0f8ff;}#sk-container-id-3 input.sk-toggleable__control:checked~div.sk-toggleable__content {max-height: 200px;max-width: 100%;overflow: auto;}#sk-container-id-3 input.sk-toggleable__control:checked~label.sk-toggleable__label-arrow:before {content: \"▾\";}#sk-container-id-3 div.sk-estimator input.sk-toggleable__control:checked~label.sk-toggleable__label {background-color: #d4ebff;}#sk-container-id-3 div.sk-label input.sk-toggleable__control:checked~label.sk-toggleable__label {background-color: #d4ebff;}#sk-container-id-3 input.sk-hidden--visually {border: 0;clip: rect(1px 1px 1px 1px);clip: rect(1px, 1px, 1px, 1px);height: 1px;margin: -1px;overflow: hidden;padding: 0;position: absolute;width: 1px;}#sk-container-id-3 div.sk-estimator {font-family: monospace;background-color: #f0f8ff;border: 1px dotted black;border-radius: 0.25em;box-sizing: border-box;margin-bottom: 0.5em;}#sk-container-id-3 div.sk-estimator:hover {background-color: #d4ebff;}#sk-container-id-3 div.sk-parallel-item::after {content: \"\";width: 100%;border-bottom: 1px solid gray;flex-grow: 1;}#sk-container-id-3 div.sk-label:hover label.sk-toggleable__label {background-color: #d4ebff;}#sk-container-id-3 div.sk-serial::before {content: \"\";position: absolute;border-left: 1px solid gray;box-sizing: border-box;top: 0;bottom: 0;left: 50%;z-index: 0;}#sk-container-id-3 div.sk-serial {display: flex;flex-direction: column;align-items: center;background-color: white;padding-right: 0.2em;padding-left: 0.2em;position: relative;}#sk-container-id-3 div.sk-item {position: relative;z-index: 1;}#sk-container-id-3 div.sk-parallel {display: flex;align-items: stretch;justify-content: center;background-color: white;position: relative;}#sk-container-id-3 div.sk-item::before, #sk-container-id-3 div.sk-parallel-item::before {content: \"\";position: absolute;border-left: 1px solid gray;box-sizing: border-box;top: 0;bottom: 0;left: 50%;z-index: -1;}#sk-container-id-3 div.sk-parallel-item {display: flex;flex-direction: column;z-index: 1;position: relative;background-color: white;}#sk-container-id-3 div.sk-parallel-item:first-child::after {align-self: flex-end;width: 50%;}#sk-container-id-3 div.sk-parallel-item:last-child::after {align-self: flex-start;width: 50%;}#sk-container-id-3 div.sk-parallel-item:only-child::after {width: 0;}#sk-container-id-3 div.sk-dashed-wrapped {border: 1px dashed gray;margin: 0 0.4em 0.5em 0.4em;box-sizing: border-box;padding-bottom: 0.4em;background-color: white;}#sk-container-id-3 div.sk-label label {font-family: monospace;font-weight: bold;display: inline-block;line-height: 1.2em;}#sk-container-id-3 div.sk-label-container {text-align: center;}#sk-container-id-3 div.sk-container {/* jupyter's `normalize.less` sets `[hidden] { display: none; }` but bootstrap.min.css set `[hidden] { display: none !important; }` so we also need the `!important` here to be able to override the default hidden behavior on the sphinx rendered scikit-learn.org. See: https://github.com/scikit-learn/scikit-learn/issues/21755 */display: inline-block !important;position: relative;}#sk-container-id-3 div.sk-text-repr-fallback {display: none;}</style><div id=\"sk-container-id-3\" class=\"sk-top-container\"><div class=\"sk-text-repr-fallback\"><pre>LGBMClassifier()</pre><b>In a Jupyter environment, please rerun this cell to show the HTML representation or trust the notebook. <br />On GitHub, the HTML representation is unable to render, please try loading this page with nbviewer.org.</b></div><div class=\"sk-container\" hidden><div class=\"sk-item\"><div class=\"sk-estimator sk-toggleable\"><input class=\"sk-toggleable__control sk-hidden--visually\" id=\"sk-estimator-id-3\" type=\"checkbox\" checked><label for=\"sk-estimator-id-3\" class=\"sk-toggleable__label sk-toggleable__label-arrow\">LGBMClassifier</label><div class=\"sk-toggleable__content\"><pre>LGBMClassifier()</pre></div></div></div></div></div>"
      ],
      "text/plain": [
       "LGBMClassifier()"
      ]
     },
     "execution_count": 52,
     "metadata": {},
     "output_type": "execute_result"
    }
   ],
   "source": [
    "model = LGBMClassifier()\n",
    "model.fit(\n",
    "    df_train.drop(columns=[\"class\", \"timestamp\", \"vehicle_id\"]), df_train[\"class\"]\n",
    ")"
   ]
  },
  {
   "cell_type": "code",
   "execution_count": 117,
   "id": "5c9c7735-4b81-4796-a9e6-09df7735f233",
   "metadata": {},
   "outputs": [],
   "source": [
    "df_pred = df_train.iloc[95:105][[\"timestamp\", \"vehicle_id\"]].reset_index(drop=True)\n",
    "df_pred[\"prediction\"] = model.predict(\n",
    "    df_train.iloc[95:105]\n",
    "    .drop(columns=[\"class\", \"timestamp\", \"vehicle_id\"])\n",
    "    .reset_index(drop=True)\n",
    ")\n",
    "\n",
    "df_pred[\"timestamp\"] = pd.to_datetime(\n",
    "    time.time() - 3600 + df_pred[\"timestamp\"], unit=\"s\"\n",
    ")"
   ]
  },
  {
   "cell_type": "code",
   "execution_count": 118,
   "id": "2c890401-0815-44fc-83f6-045793d22edf",
   "metadata": {},
   "outputs": [
    {
     "data": {
      "text/html": [
       "<div>\n",
       "<style scoped>\n",
       "    .dataframe tbody tr th:only-of-type {\n",
       "        vertical-align: middle;\n",
       "    }\n",
       "\n",
       "    .dataframe tbody tr th {\n",
       "        vertical-align: top;\n",
       "    }\n",
       "\n",
       "    .dataframe thead th {\n",
       "        text-align: right;\n",
       "    }\n",
       "</style>\n",
       "<table border=\"1\" class=\"dataframe\">\n",
       "  <thead>\n",
       "    <tr style=\"text-align: right;\">\n",
       "      <th></th>\n",
       "      <th>timestamp</th>\n",
       "      <th>vehicle_id</th>\n",
       "      <th>prediction</th>\n",
       "    </tr>\n",
       "  </thead>\n",
       "  <tbody>\n",
       "    <tr>\n",
       "      <th>0</th>\n",
       "      <td>2024-07-30 11:56:40.044199467</td>\n",
       "      <td>abc123</td>\n",
       "      <td>1</td>\n",
       "    </tr>\n",
       "    <tr>\n",
       "      <th>1</th>\n",
       "      <td>2024-07-30 11:56:41.464199305</td>\n",
       "      <td>abc123</td>\n",
       "      <td>1</td>\n",
       "    </tr>\n",
       "    <tr>\n",
       "      <th>2</th>\n",
       "      <td>2024-07-30 11:56:42.954199314</td>\n",
       "      <td>abc123</td>\n",
       "      <td>1</td>\n",
       "    </tr>\n",
       "    <tr>\n",
       "      <th>3</th>\n",
       "      <td>2024-07-30 11:56:44.474199295</td>\n",
       "      <td>abc123</td>\n",
       "      <td>1</td>\n",
       "    </tr>\n",
       "    <tr>\n",
       "      <th>4</th>\n",
       "      <td>2024-07-30 11:56:45.914199352</td>\n",
       "      <td>abc123</td>\n",
       "      <td>1</td>\n",
       "    </tr>\n",
       "    <tr>\n",
       "      <th>5</th>\n",
       "      <td>2024-07-30 11:56:47.334199429</td>\n",
       "      <td>abc123</td>\n",
       "      <td>0</td>\n",
       "    </tr>\n",
       "    <tr>\n",
       "      <th>6</th>\n",
       "      <td>2024-07-30 11:56:48.894199371</td>\n",
       "      <td>abc123</td>\n",
       "      <td>0</td>\n",
       "    </tr>\n",
       "    <tr>\n",
       "      <th>7</th>\n",
       "      <td>2024-07-30 11:56:50.384199381</td>\n",
       "      <td>abc123</td>\n",
       "      <td>0</td>\n",
       "    </tr>\n",
       "    <tr>\n",
       "      <th>8</th>\n",
       "      <td>2024-07-30 11:56:51.864199400</td>\n",
       "      <td>abc123</td>\n",
       "      <td>0</td>\n",
       "    </tr>\n",
       "    <tr>\n",
       "      <th>9</th>\n",
       "      <td>2024-07-30 11:56:53.384199381</td>\n",
       "      <td>abc123</td>\n",
       "      <td>0</td>\n",
       "    </tr>\n",
       "  </tbody>\n",
       "</table>\n",
       "</div>"
      ],
      "text/plain": [
       "                      timestamp vehicle_id  prediction\n",
       "0 2024-07-30 11:56:40.044199467     abc123           1\n",
       "1 2024-07-30 11:56:41.464199305     abc123           1\n",
       "2 2024-07-30 11:56:42.954199314     abc123           1\n",
       "3 2024-07-30 11:56:44.474199295     abc123           1\n",
       "4 2024-07-30 11:56:45.914199352     abc123           1\n",
       "5 2024-07-30 11:56:47.334199429     abc123           0\n",
       "6 2024-07-30 11:56:48.894199371     abc123           0\n",
       "7 2024-07-30 11:56:50.384199381     abc123           0\n",
       "8 2024-07-30 11:56:51.864199400     abc123           0\n",
       "9 2024-07-30 11:56:53.384199381     abc123           0"
      ]
     },
     "execution_count": 118,
     "metadata": {},
     "output_type": "execute_result"
    }
   ],
   "source": [
    "df_pred"
   ]
  },
  {
   "cell_type": "code",
   "execution_count": 120,
   "id": "7a94415a-10bb-49d2-bc0d-a068d9b86693",
   "metadata": {},
   "outputs": [],
   "source": [
    "# # https://github.com/influxdata/helm-charts/blob/master/charts/influxdb2/values.yaml\n",
    "# INFLUXDB_IP = \"10.152.183.219\"\n",
    "# INFLUXDB_PORT = 80\n",
    "# INFLUXDB_USER = \"admin\"\n",
    "# INFLUXDB_PASS = \"admin_pass\"\n",
    "\n",
    "# influxdbClient = InfluxDBClient(url=f\"http://{INFLUXDB_IP}:{str(INFLUXDB_PORT)}\", username=INFLUXDB_USER, password=INFLUXDB_PASS, org=\"influxdata\")\n",
    "# # influxdbClient = InfluxDBClient(url=f\"http://{INFLUXDB_IP}:{str(INFLUXDB_PORT)}\", token=\"admin_token\", org=\"influxdata\")\n",
    "\n",
    "# write_api = influxdbClient.write_api(write_options=SYNCHRONOUS)\n",
    "\n",
    "# Function to convert a DataFrame row to an InfluxDB Point\n",
    "def df_row_to_point(row):\n",
    "    return (\n",
    "        Point(\"prediction\")\n",
    "        .tag(\"vehicle_id\", row[\"vehicle_id\"])\n",
    "        .field(\"value\", row[\"prediction\"])\n",
    "        .time(row[\"timestamp\"])\n",
    "    )\n",
    "\n",
    "\n",
    "# Convert DataFrame to InfluxDB Points and write\n",
    "points = [df_row_to_point(row) for index, row in df_pred.iterrows()]\n",
    "\n",
    "# Write points to InfluxDB\n",
    "write_api.write(bucket=\"default\", record=points)"
   ]
  },
  {
   "cell_type": "markdown",
   "id": "203c464e-79b8-4a57-98be-927c0094324d",
   "metadata": {},
   "source": [
    "## Query/collect data from redis and send it to influxdb\n",
    "This is a case when the data is not forwarded directly to inference service, i.e. legacy solution made due to previous agreements in the project"
   ]
  },
  {
   "cell_type": "markdown",
   "id": "fa922a40-a832-4598-8762-1ef32d552d32",
   "metadata": {},
   "source": [
    "### Subcsribe to channel and define actions"
   ]
  },
  {
   "cell_type": "code",
   "execution_count": 65,
   "id": "db0b2389-1e43-4114-992d-b9fb184da507",
   "metadata": {},
   "outputs": [
    {
     "data": {
      "text/plain": [
       "<PubSubWorkerThread(Thread-6, started 128202013926976)>"
      ]
     },
     "execution_count": 65,
     "metadata": {},
     "output_type": "execute_result"
    }
   ],
   "source": [
    "REDIS_PASSWORD = \"redis\"\n",
    "REDIS_IP = \"10.152.183.169\"\n",
    "REDIS_PORT = 6379\n",
    "INFLUXDB_IP = \"10.152.183.216\"\n",
    "INFLUXDB_PORT = 8086\n",
    "INFLUXDB_USER = \"admin\"\n",
    "INFLUXDB_PASS = \"admin\"\n",
    "\n",
    "redisClient = redis.Redis(host=REDIS_IP, password=REDIS_PASSWORD, port=REDIS_PORT)\n",
    "influxdbClient = InfluxDBClient(\n",
    "    url=f\"http://{INFLUXDB_PORT}:{str(INFLUXDB_PORT)}\",\n",
    "    username=INFLUXDB_USER,\n",
    "    password=INFLUXDB_PASS,\n",
    ")\n",
    "\n",
    "\n",
    "def handle_message(message):\n",
    "    print(f\"New data arrived:\\n{message['data']}\")\n",
    "    # Convert the message data (bytes) to string\n",
    "    json_data = message[\"data\"].decode(\"utf-8\")\n",
    "    # Convert JSON string to DataFrame\n",
    "    df = pd.read_json(json_data, orient=\"split\")\n",
    "    print(df)\n",
    "    df_pred = model.predict(df.drop(columns=[\"class\", \"timestamp\", \"vehicle_id\"]))\n",
    "    print(f\"Predictions:\\n{df_pred}\")\n",
    "\n",
    "\n",
    "# Subscribe to the \"idneo_v2x\" channel\n",
    "pubsub = redisClient.pubsub()\n",
    "pubsub.subscribe(**{\"idneo_v2x\": handle_message})\n",
    "\n",
    "# Wait for messages\n",
    "pubsub.run_in_thread(sleep_time=1)"
   ]
  },
  {
   "cell_type": "markdown",
   "id": "1f60f0ad-4c42-414a-88e4-345d6e19c47f",
   "metadata": {},
   "source": [
    "### Publish the data into the channel and make predictions"
   ]
  },
  {
   "cell_type": "code",
   "execution_count": null,
   "id": "bbbb2aa8-f6fe-418d-8e75-3503edccb235",
   "metadata": {},
   "outputs": [],
   "source": [
    "df_test_json = df_train.iloc[95:105].reset_index(drop=True).to_json(orient=\"split\")\n",
    "\n",
    "\n",
    "time.sleep(2)  # Wait for a few seconds before publishing\n",
    "redisClient.publish(\"idneo_v2x\", df_test_json)"
   ]
  },
  {
   "cell_type": "markdown",
   "id": "f12c5349-1368-484f-8ef3-e7e9a6468604",
   "metadata": {},
   "source": [
    "## Send predictions to InfluxDB\n",
    "* https://www.influxdata.com/blog/writing-data-to-influxdb-with-python/\n",
    "* https://gist.github.com/noahcrowley/941e87422cd6fc43b0e9e8f0d0877836/#file-write_test-py"
   ]
  },
  {
   "cell_type": "code",
   "execution_count": null,
   "id": "7f95b492-174f-4cc0-865e-60d3b42137d0",
   "metadata": {},
   "outputs": [],
   "source": []
  }
 ],
 "metadata": {
  "kernelspec": {
   "display_name": "Python 3 (ipykernel)",
   "language": "python",
   "name": "python3"
  },
  "language_info": {
   "codemirror_mode": {
    "name": "ipython",
    "version": 3
   },
   "file_extension": ".py",
   "mimetype": "text/x-python",
   "name": "python",
   "nbconvert_exporter": "python",
   "pygments_lexer": "ipython3",
   "version": "3.12.6"
  }
 },
 "nbformat": 4,
 "nbformat_minor": 5
}
