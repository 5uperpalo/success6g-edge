{
 "cells": [
  {
   "cell_type": "markdown",
   "metadata": {},
   "source": [
    "# Simple notebook to test sending data to Redis\n",
    "\n",
    "This notebook serves as \"simulation of a car\" sending a data to Redis database to see if the script in `04_model_training_pipeline.ipynb` is working"
   ]
  },
  {
   "cell_type": "markdown",
   "metadata": {},
   "source": [
    "## Imports"
   ]
  },
  {
   "cell_type": "code",
   "execution_count": 1,
   "metadata": {},
   "outputs": [],
   "source": [
    "import os\n",
    "import sys\n",
    "\n",
    "sys.path.append(os.getcwd())\n",
    "os.chdir(\"../..\")\n",
    "os.environ[\"REDIS_PASSWORD\"] = \"redis\"\n",
    "os.environ[\"REDIS_HOST\"] = \"10.152.183.250\"\n",
    "os.environ[\"REDIS_PORT\"] = \"6379\""
   ]
  },
  {
   "cell_type": "code",
   "execution_count": 2,
   "metadata": {},
   "outputs": [
    {
     "data": {
      "text/html": [
       "<style>.jp-OutputArea-output {display:flex}</style>"
      ],
      "text/plain": [
       "<IPython.core.display.HTML object>"
      ]
     },
     "metadata": {},
     "output_type": "display_data"
    }
   ],
   "source": [
    "import json\n",
    "import pandas as pd\n",
    "\n",
    "from sklearn.model_selection import train_test_split\n",
    "\n",
    "import ast\n",
    "import time\n",
    "import redis\n",
    "\n",
    "# workaround - horizontal scrollbar is not working in jupyterlab\n",
    "from IPython.display import display, HTML\n",
    "display(HTML(\"<style>.jp-OutputArea-output {display:flex}</style>\"))"
   ]
  },
  {
   "cell_type": "markdown",
   "metadata": {},
   "source": [
    "## Datasets"
   ]
  },
  {
   "cell_type": "code",
   "execution_count": 3,
   "metadata": {},
   "outputs": [],
   "source": [
    "def load_new_dataset(num: int):\n",
    "    data_sets = [\n",
    "        \"DS1_stopped_with_ignition_on_22Feb24_115812.csv\",\n",
    "        \"DS1_stopped_with_ignition_on_25Jan24_124019.csv\",\n",
    "        \"DS1_stopped_with_ignition_on_25Jan24_151531.csv\",\n",
    "        \"DS1_stopped_with_ignition_on_25Mar24_153740.CSV\",\n",
    "        \"DS2_national_road_90km_h_max_25Jan24_153019.csv\",\n",
    "        \"DS2_national_road_90km_h_max_25Mar24_133516.CSV\",\n",
    "        \"DS3_highway_120km_h_max_22Feb24_121145.csv\",\n",
    "        \"DS3_highway_120km_h_max_25Mar24_154857.csv\"\n",
    "    ]\n",
    "    file = \"tools/vehicle/datasets/ateca_R4_2.0l_TDI/\" + data_sets[num]\n",
    "    \n",
    "    df = pd.read_csv(file)\n",
    "    df.head()\n",
    "    df.drop(columns=[\"Unnamed: 0\", \"Unnamed: 25\"], inplace=True)\n",
    "    df.drop(index=0, inplace=True)\n",
    "\n",
    "    timestamp_columns = [col for col in df.columns if col.startswith(\"STAMP\")]\n",
    "    # keep only the first timestamp column\n",
    "    df[\"timestamp\"] = df[\"STAMP\"]\n",
    "    df = df.drop(columns=timestamp_columns)\n",
    "\n",
    "    df[\"class\"] = 0\n",
    "    df[\"vehicle_id\"] = \"123abc\"\n",
    "    df.loc[:100, [\"class\"]] = 1\n",
    "    df.loc[:100, [\"Normed load value\"]] = 100\n",
    "    \n",
    "    df[df.drop(columns=[\"class\", \"vehicle_id\"]).columns] = df[df.drop(columns=[\"class\", \"vehicle_id\"]).columns].astype(float)\n",
    "    \n",
    "    # Remove special characters from column names\n",
    "    df.columns = df.columns.str.replace('[^A-Za-z0-9]+', '_', regex=True)\n",
    "\n",
    "    # add some \"reasonable\" timestamp for testing\n",
    "    df[\"timestamp\"] = pd.to_datetime(time.time() - 3600 + df[\"timestamp\"], unit=\"s\")\n",
    "    return df\n",
    "\n",
    "def load_old_dataset():\n",
    "    with open(\"data/log_tiguan_27_mar_dac.txt\") as f:\n",
    "        data = ast.literal_eval(f.read())\n",
    "    \n",
    "    df = pd.DataFrame()\n",
    "    for data_value in data:\n",
    "        temp_df = pd.DataFrame(data_value[list(data_value)[0]]).sort_values(\n",
    "            by=\"ts_millis:\", ascending=True\n",
    "        )[\"value\"]\n",
    "        temp_df.rename(list(data_value)[0], inplace=True)\n",
    "        df = pd.concat([df, temp_df], axis=1)\n",
    "    \n",
    "    df.dropna(inplace=True)\n",
    "    df[\"class\"] = 0\n",
    "    df[\"vehicle_id\"] = \"123abc\"\n",
    "    df.loc[:100, [\"class\"]] = 1\n",
    "    df.loc[:100, [\"engine_load\"]] = 100\n",
    "\n",
    "    # add some \"reasonable\" timestamp for testing\n",
    "    df[\"timestamp\"] = pd.to_datetime([time.time() - 3600 + ix for ix in list(df.index)], unit=\"s\")\n",
    "    return df    "
   ]
  },
  {
   "cell_type": "code",
   "execution_count": 4,
   "metadata": {},
   "outputs": [],
   "source": [
    "# 1. get/create some example data\n",
    "\n",
    "# df_pd = load_old_dataset()\n",
    "df_pd = load_new_dataset(num=1)"
   ]
  },
  {
   "cell_type": "code",
   "execution_count": 5,
   "metadata": {},
   "outputs": [],
   "source": [
    "target_col = \"class\"\n",
    "id_cols = [\"vehicle_id\", \"timestamp\"]\n",
    "cat_cols = []\n",
    "cont_cols = df_pd.drop(\n",
    "    columns=id_cols + cat_cols + [target_col]\n",
    ").columns.values.tolist()\n",
    "df_pd[cat_cols] = df_pd[cat_cols].astype(str)"
   ]
  },
  {
   "cell_type": "code",
   "execution_count": 6,
   "metadata": {},
   "outputs": [],
   "source": [
    "valid_size = 0.2\n",
    "test_size = 0.5\n",
    "random_state = 1\n",
    "df_train, df_valid = train_test_split(\n",
    "    df_pd, test_size=valid_size, stratify=df_pd[target_col], random_state=random_state\n",
    ")\n",
    "df_valid, df_test = train_test_split(\n",
    "    df_valid,\n",
    "    test_size=test_size,\n",
    "    stratify=df_valid[target_col],\n",
    "    random_state=random_state,\n",
    ")"
   ]
  },
  {
   "cell_type": "code",
   "execution_count": 7,
   "metadata": {},
   "outputs": [
    {
     "data": {
      "text/html": [
       "<div>\n",
       "<style scoped>\n",
       "    .dataframe tbody tr th:only-of-type {\n",
       "        vertical-align: middle;\n",
       "    }\n",
       "\n",
       "    .dataframe tbody tr th {\n",
       "        vertical-align: top;\n",
       "    }\n",
       "\n",
       "    .dataframe thead th {\n",
       "        text-align: right;\n",
       "    }\n",
       "</style>\n",
       "<table border=\"1\" class=\"dataframe\">\n",
       "  <thead>\n",
       "    <tr style=\"text-align: right;\">\n",
       "      <th></th>\n",
       "      <th>Vehicle_speed</th>\n",
       "      <th>Time_since_engine_start</th>\n",
       "      <th>Normed_load_value</th>\n",
       "      <th>Accelerator_pedal_position</th>\n",
       "      <th>Engine_torque</th>\n",
       "      <th>Oil_fill_level</th>\n",
       "      <th>Engine_oil_temperature</th>\n",
       "      <th>Fuel_level</th>\n",
       "      <th>Fuel_consumption</th>\n",
       "      <th>Brake_pressure</th>\n",
       "      <th>Engaged_gear_raw_signal_Bits_0_7</th>\n",
       "      <th>Efficiency_of_the_SCR_catalytic_converter</th>\n",
       "      <th>timestamp</th>\n",
       "      <th>class</th>\n",
       "      <th>vehicle_id</th>\n",
       "    </tr>\n",
       "  </thead>\n",
       "  <tbody>\n",
       "    <tr>\n",
       "      <th>36</th>\n",
       "      <td>0.0</td>\n",
       "      <td>120.0</td>\n",
       "      <td>100.0</td>\n",
       "      <td>14.5</td>\n",
       "      <td>40.4</td>\n",
       "      <td>30.044</td>\n",
       "      <td>13.5</td>\n",
       "      <td>9.0</td>\n",
       "      <td>0.82</td>\n",
       "      <td>-0.03</td>\n",
       "      <td>0.0</td>\n",
       "      <td>0.00430</td>\n",
       "      <td>2024-08-08 08:43:15.730782509</td>\n",
       "      <td>1</td>\n",
       "      <td>123abc</td>\n",
       "    </tr>\n",
       "    <tr>\n",
       "      <th>126</th>\n",
       "      <td>0.0</td>\n",
       "      <td>255.0</td>\n",
       "      <td>27.8</td>\n",
       "      <td>14.5</td>\n",
       "      <td>36.5</td>\n",
       "      <td>29.924</td>\n",
       "      <td>19.8</td>\n",
       "      <td>9.0</td>\n",
       "      <td>0.73</td>\n",
       "      <td>-0.03</td>\n",
       "      <td>0.0</td>\n",
       "      <td>0.04614</td>\n",
       "      <td>2024-08-08 08:45:30.280782461</td>\n",
       "      <td>0</td>\n",
       "      <td>123abc</td>\n",
       "    </tr>\n",
       "    <tr>\n",
       "      <th>102</th>\n",
       "      <td>0.0</td>\n",
       "      <td>219.0</td>\n",
       "      <td>29.8</td>\n",
       "      <td>14.5</td>\n",
       "      <td>38.8</td>\n",
       "      <td>29.804</td>\n",
       "      <td>18.5</td>\n",
       "      <td>9.0</td>\n",
       "      <td>0.77</td>\n",
       "      <td>-0.03</td>\n",
       "      <td>0.0</td>\n",
       "      <td>0.00906</td>\n",
       "      <td>2024-08-08 08:44:54.430782557</td>\n",
       "      <td>0</td>\n",
       "      <td>123abc</td>\n",
       "    </tr>\n",
       "    <tr>\n",
       "      <th>81</th>\n",
       "      <td>0.0</td>\n",
       "      <td>187.0</td>\n",
       "      <td>100.0</td>\n",
       "      <td>14.5</td>\n",
       "      <td>39.6</td>\n",
       "      <td>29.864</td>\n",
       "      <td>17.1</td>\n",
       "      <td>9.0</td>\n",
       "      <td>0.80</td>\n",
       "      <td>-0.03</td>\n",
       "      <td>0.0</td>\n",
       "      <td>0.05289</td>\n",
       "      <td>2024-08-08 08:44:23.020782471</td>\n",
       "      <td>1</td>\n",
       "      <td>123abc</td>\n",
       "    </tr>\n",
       "    <tr>\n",
       "      <th>426</th>\n",
       "      <td>0.0</td>\n",
       "      <td>705.0</td>\n",
       "      <td>25.1</td>\n",
       "      <td>14.5</td>\n",
       "      <td>30.5</td>\n",
       "      <td>35.524</td>\n",
       "      <td>29.8</td>\n",
       "      <td>8.0</td>\n",
       "      <td>0.60</td>\n",
       "      <td>-0.03</td>\n",
       "      <td>0.0</td>\n",
       "      <td>0.08121</td>\n",
       "      <td>2024-08-08 08:53:00.800782442</td>\n",
       "      <td>0</td>\n",
       "      <td>123abc</td>\n",
       "    </tr>\n",
       "  </tbody>\n",
       "</table>\n",
       "</div>"
      ],
      "text/plain": [
       "     Vehicle_speed  Time_since_engine_start  Normed_load_value  \\\n",
       "36             0.0                    120.0              100.0   \n",
       "126            0.0                    255.0               27.8   \n",
       "102            0.0                    219.0               29.8   \n",
       "81             0.0                    187.0              100.0   \n",
       "426            0.0                    705.0               25.1   \n",
       "\n",
       "     Accelerator_pedal_position  Engine_torque  Oil_fill_level  \\\n",
       "36                         14.5           40.4          30.044   \n",
       "126                        14.5           36.5          29.924   \n",
       "102                        14.5           38.8          29.804   \n",
       "81                         14.5           39.6          29.864   \n",
       "426                        14.5           30.5          35.524   \n",
       "\n",
       "     Engine_oil_temperature  Fuel_level  Fuel_consumption  Brake_pressure  \\\n",
       "36                     13.5         9.0              0.82           -0.03   \n",
       "126                    19.8         9.0              0.73           -0.03   \n",
       "102                    18.5         9.0              0.77           -0.03   \n",
       "81                     17.1         9.0              0.80           -0.03   \n",
       "426                    29.8         8.0              0.60           -0.03   \n",
       "\n",
       "     Engaged_gear_raw_signal_Bits_0_7  \\\n",
       "36                                0.0   \n",
       "126                               0.0   \n",
       "102                               0.0   \n",
       "81                                0.0   \n",
       "426                               0.0   \n",
       "\n",
       "     Efficiency_of_the_SCR_catalytic_converter                     timestamp  \\\n",
       "36                                     0.00430 2024-08-08 08:43:15.730782509   \n",
       "126                                    0.04614 2024-08-08 08:45:30.280782461   \n",
       "102                                    0.00906 2024-08-08 08:44:54.430782557   \n",
       "81                                     0.05289 2024-08-08 08:44:23.020782471   \n",
       "426                                    0.08121 2024-08-08 08:53:00.800782442   \n",
       "\n",
       "     class vehicle_id  \n",
       "36       1     123abc  \n",
       "126      0     123abc  \n",
       "102      0     123abc  \n",
       "81       1     123abc  \n",
       "426      0     123abc  "
      ]
     },
     "execution_count": 7,
     "metadata": {},
     "output_type": "execute_result"
    }
   ],
   "source": [
    "df_test.head()"
   ]
  },
  {
   "cell_type": "code",
   "execution_count": 10,
   "metadata": {},
   "outputs": [
    {
     "data": {
      "text/plain": [
       "2"
      ]
     },
     "execution_count": 10,
     "metadata": {},
     "output_type": "execute_result"
    }
   ],
   "source": [
    "df_test_redis = df_test.copy()\n",
    "df_test_redis[\"timestamp\"] -= pd.to_timedelta(1, unit=\"h\")\n",
    "df_test_redis_json = df_test_redis.drop(columns=[\"class\"]).reset_index(drop=True).to_json(orient=\"split\")\n",
    "redisClient = redis.Redis(host=os.environ[\"REDIS_HOST\"], password=os.environ[\"REDIS_PASSWORD\"], port=os.environ[\"REDIS_PORT\"])\n",
    "\n",
    "\n",
    "time.sleep(2)  # Wait for a few seconds before publishing\n",
    "redisClient.publish(\"idneo_v2x\", df_test_redis_json)"
   ]
  }
 ],
 "metadata": {
  "@webio": {
   "lastCommId": null,
   "lastKernelId": null
  },
  "hide_input": false,
  "interpreter": {
   "hash": "607fd6e109c58f0c2b9243752eb24f156017faf2fedd41f01500ce520d155ec1"
  },
  "kernelspec": {
   "display_name": "Python 3 (ipykernel)",
   "language": "python",
   "name": "python3"
  },
  "language_info": {
   "codemirror_mode": {
    "name": "ipython",
    "version": 3
   },
   "file_extension": ".py",
   "mimetype": "text/x-python",
   "name": "python",
   "nbconvert_exporter": "python",
   "pygments_lexer": "ipython3",
   "version": "3.10.11"
  },
  "toc": {
   "base_numbering": 1,
   "nav_menu": {},
   "number_sections": true,
   "sideBar": true,
   "skip_h1_title": false,
   "title_cell": "Table of Contents",
   "title_sidebar": "Contents",
   "toc_cell": false,
   "toc_position": {
    "height": "calc(100% - 180px)",
    "left": "10px",
    "top": "150px",
    "width": "222.539px"
   },
   "toc_section_display": true,
   "toc_window_display": true
  },
  "toc-autonumbering": true
 },
 "nbformat": 4,
 "nbformat_minor": 4
}
