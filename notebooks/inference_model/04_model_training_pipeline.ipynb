{
 "cells": [
  {
   "cell_type": "markdown",
   "metadata": {},
   "source": [
    "# Example usage notebook\n",
    "Objects and functions in this notebook are listed with all paramaters to ilustrate their capabillities. Most of the paramaters have default values in the implementation"
   ]
  },
  {
   "cell_type": "markdown",
   "metadata": {},
   "source": [
    "## Imports"
   ]
  },
  {
   "cell_type": "code",
   "execution_count": 1,
   "metadata": {},
   "outputs": [],
   "source": [
    "import os\n",
    "import sys\n",
    "\n",
    "sys.path.append(os.getcwd())\n",
    "os.chdir(\"../..\")\n",
    "\n",
    "import pandas as pd\n",
    "import mlflow\n",
    "\n",
    "pd.set_option(\"display.max_columns\", 200)\n",
    "pd.set_option(\"display.max_rows\", 300)\n",
    "os.environ[\"AWS_ACCESS_KEY_ID\"] = \"minioadmin\"\n",
    "os.environ[\"AWS_SECRET_ACCESS_KEY\"] = \"minioadmin\"\n",
    "os.environ[\"MLFLOW_S3_ENDPOINT_URL\"] = f\"http://10.152.183.156:9000\"\n",
    "\n",
    "os.environ[\"REDIS_PASSWORD\"] = \"redis\"\n",
    "os.environ[\"REDIS_HOST\"] = \"10.152.183.169\"\n",
    "os.environ[\"REDIS_PORT\"] = \"6379\"\n",
    "os.environ[\"INFLUXDB_HOST\"] = \"10.152.183.219\"\n",
    "os.environ[\"INFLUXDB_PORT\"] = \"80\"\n",
    "os.environ[\"INFLUXDB_USER\"] = \"admin\"\n",
    "os.environ[\"INFLUXDB_PASS\"] = \"admin_pass\""
   ]
  },
  {
   "cell_type": "code",
   "execution_count": 2,
   "metadata": {},
   "outputs": [
    {
     "data": {
      "text/html": [
       "<style>.jp-OutputArea-output {display:flex}</style>"
      ],
      "text/plain": [
       "<IPython.core.display.HTML object>"
      ]
     },
     "metadata": {},
     "output_type": "display_data"
    }
   ],
   "source": [
    "import os\n",
    "import json\n",
    "from typing import Literal\n",
    "import pandas as pd\n",
    "\n",
    "from inference_model.preprocessing.preprocess import PreprocessData\n",
    "from inference_model.training.trainer import Trainer, S6GTrainer\n",
    "from inference_model.training.optuna_optimizer import LGBOptunaOptimizer\n",
    "\n",
    "import dill\n",
    "import numpy as np\n",
    "from inference_model.utils import dill_dump, dill_load\n",
    "from inference_model.training.utils import flatten_dict, get_or_create_experiment\n",
    "from sklearn.model_selection import train_test_split\n",
    "\n",
    "from pprint import pprint\n",
    "import ast\n",
    "import time\n",
    "import redis\n",
    "\n",
    "# workaround - horizontal scrollbar is not working in jupyterlab\n",
    "from IPython.display import display, HTML\n",
    "display(HTML(\"<style>.jp-OutputArea-output {display:flex}</style>\"))"
   ]
  },
  {
   "cell_type": "markdown",
   "metadata": {},
   "source": [
    "## Train a testing model "
   ]
  },
  {
   "cell_type": "code",
   "execution_count": 3,
   "metadata": {},
   "outputs": [],
   "source": [
    "def load_new_dataset(num: int):\n",
    "    data_sets = [\n",
    "        \"DS1_stopped_with_ignition_on_22Feb24_115812.csv\",\n",
    "        \"DS1_stopped_with_ignition_on_25Jan24_124019.csv\",\n",
    "        \"DS1_stopped_with_ignition_on_25Jan24_151531.csv\",\n",
    "        \"DS1_stopped_with_ignition_on_25Mar24_153740.CSV\",\n",
    "        \"DS2_national_road_90km_h_max_25Jan24_153019.csv\",\n",
    "        \"DS2_national_road_90km_h_max_25Mar24_133516.CSV\",\n",
    "        \"DS3_highway_120km_h_max_22Feb24_121145.csv\",\n",
    "        \"DS3_highway_120km_h_max_25Mar24_154857.csv\"\n",
    "    ]\n",
    "    file = \"tools/vehicle/datasets/ateca_R4_2.0l_TDI/\" + data_sets[num]\n",
    "    \n",
    "    df = pd.read_csv(file)\n",
    "    df.head()\n",
    "    df.drop(columns=[\"Unnamed: 0\", \"Unnamed: 25\"], inplace=True)\n",
    "    df.drop(index=0, inplace=True)\n",
    "\n",
    "    timestamp_columns = [col for col in df.columns if col.startswith(\"STAMP\")]\n",
    "    # keep only the first timestamp column\n",
    "    df[\"timestamp\"] = df[\"STAMP\"]\n",
    "    df = df.drop(columns=timestamp_columns)\n",
    "\n",
    "    df[\"class\"] = 0\n",
    "    df[\"vehicle_id\"] = \"123abc\"\n",
    "    df.loc[:100, [\"class\"]] = 1\n",
    "    df.loc[:100, [\"Normed load value\"]] = 100\n",
    "    \n",
    "    df[df.drop(columns=[\"class\", \"vehicle_id\"]).columns] = df[df.drop(columns=[\"class\", \"vehicle_id\"]).columns].astype(float)\n",
    "    \n",
    "    # Remove special characters from column names\n",
    "    df.columns = df.columns.str.replace('[^A-Za-z0-9]+', '_', regex=True)\n",
    "\n",
    "    # add some \"reasonable\" timestamp for testing\n",
    "    df[\"timestamp\"] = pd.to_datetime(time.time() - 3600 + df[\"timestamp\"], unit=\"s\")\n",
    "    return df\n",
    "\n",
    "def load_old_dataset():\n",
    "    with open(\"data/log_tiguan_27_mar_dac.txt\") as f:\n",
    "        data = ast.literal_eval(f.read())\n",
    "    \n",
    "    df = pd.DataFrame()\n",
    "    for data_value in data:\n",
    "        temp_df = pd.DataFrame(data_value[list(data_value)[0]]).sort_values(\n",
    "            by=\"ts_millis:\", ascending=True\n",
    "        )[\"value\"]\n",
    "        temp_df.rename(list(data_value)[0], inplace=True)\n",
    "        df = pd.concat([df, temp_df], axis=1)\n",
    "    \n",
    "    df.dropna(inplace=True)\n",
    "    df[\"class\"] = 0\n",
    "    df[\"vehicle_id\"] = \"123abc\"\n",
    "    df.loc[:100, [\"class\"]] = 1\n",
    "    df.loc[:100, [\"engine_load\"]] = 100\n",
    "\n",
    "    # add some \"reasonable\" timestamp for testing\n",
    "    df[\"timestamp\"] = pd.to_datetime([time.time() - 3600 + ix for ix in list(df.index)], unit=\"s\")\n",
    "    return df    "
   ]
  },
  {
   "cell_type": "code",
   "execution_count": 4,
   "metadata": {},
   "outputs": [],
   "source": [
    "# 1. get/create some example data\n",
    "\n",
    "# df_pd = load_old_dataset()\n",
    "df_pd = load_new_dataset(num=1)"
   ]
  },
  {
   "cell_type": "code",
   "execution_count": 5,
   "metadata": {},
   "outputs": [],
   "source": [
    "target_col = \"class\"\n",
    "id_cols = [\"vehicle_id\", \"timestamp\"]\n",
    "cat_cols = []\n",
    "cont_cols = df_pd.drop(\n",
    "    columns=id_cols + cat_cols + [target_col]\n",
    ").columns.values.tolist()\n",
    "df_pd[cat_cols] = df_pd[cat_cols].astype(str)"
   ]
  },
  {
   "cell_type": "code",
   "execution_count": 6,
   "metadata": {},
   "outputs": [],
   "source": [
    "valid_size = 0.2\n",
    "test_size = 0.5\n",
    "random_state = 1\n",
    "df_train, df_valid = train_test_split(\n",
    "    df_pd, test_size=valid_size, stratify=df_pd[target_col], random_state=random_state\n",
    ")\n",
    "df_valid, df_test = train_test_split(\n",
    "    df_valid,\n",
    "    test_size=test_size,\n",
    "    stratify=df_valid[target_col],\n",
    "    random_state=random_state,\n",
    ")"
   ]
  },
  {
   "cell_type": "code",
   "execution_count": 7,
   "metadata": {},
   "outputs": [],
   "source": [
    "prepare_data = PreprocessData(\n",
    "    id_cols=id_cols,\n",
    "    target_col=target_col,\n",
    "    cat_cols=cat_cols,\n",
    "    cont_cols=cont_cols,\n",
    ")\n",
    "# this should be fitted only on training data\n",
    "_ = prepare_data.fit(df=df_pd)"
   ]
  },
  {
   "cell_type": "code",
   "execution_count": 8,
   "metadata": {
    "scrolled": true
   },
   "outputs": [
    {
     "name": "stderr",
     "output_type": "stream",
     "text": [
      "[I 2024-08-07 12:09:05,154] A new study created in memory with name: LightGBMTuner\n",
      "feature_fraction, val_score: inf:   0%|          | 0/7 [00:00<?, ?it/s]"
     ]
    },
    {
     "name": "stdout",
     "output_type": "stream",
     "text": [
      "Training until validation scores don't improve for 50 rounds\n"
     ]
    },
    {
     "name": "stderr",
     "output_type": "stream",
     "text": [
      "feature_fraction, val_score: 0.000003:  14%|#4        | 1/7 [00:01<00:06,  1.11s/it][I 2024-08-07 12:09:06,272] Trial 0 finished with value: 2.736732655192808e-06 and parameters: {'feature_fraction': 0.4}. Best is trial 0 with value: 2.736732655192808e-06.\n",
      "feature_fraction, val_score: 0.000003:  14%|#4        | 1/7 [00:01<00:06,  1.11s/it]"
     ]
    },
    {
     "name": "stdout",
     "output_type": "stream",
     "text": [
      "Early stopping, best iteration is:\n",
      "[136]\tvalid_0's binary_logloss: 2.73673e-06\n",
      "Training until validation scores don't improve for 50 rounds\n",
      "Early stopping, best iteration is:\n",
      "[123]\tvalid_0's binary_logloss: 3.04492e-06\n"
     ]
    },
    {
     "name": "stderr",
     "output_type": "stream",
     "text": [
      "feature_fraction, val_score: 0.000003:  29%|##8       | 2/7 [00:01<00:02,  1.74it/s][I 2024-08-07 12:09:06,471] Trial 1 finished with value: 3.044920910157273e-06 and parameters: {'feature_fraction': 1.0}. Best is trial 0 with value: 2.736732655192808e-06.\n",
      "feature_fraction, val_score: 0.000003:  29%|##8       | 2/7 [00:01<00:02,  1.74it/s]"
     ]
    },
    {
     "name": "stdout",
     "output_type": "stream",
     "text": [
      "Training until validation scores don't improve for 50 rounds\n",
      "Early stopping, best iteration is:\n",
      "[122]\tvalid_0's binary_logloss: 2.62603e-06\n"
     ]
    },
    {
     "name": "stderr",
     "output_type": "stream",
     "text": [
      "feature_fraction, val_score: 0.000003:  43%|####2     | 3/7 [00:01<00:01,  2.26it/s][I 2024-08-07 12:09:06,759] Trial 2 finished with value: 2.626032357902686e-06 and parameters: {'feature_fraction': 0.8}. Best is trial 2 with value: 2.626032357902686e-06.\n",
      "feature_fraction, val_score: 0.000003:  43%|####2     | 3/7 [00:01<00:01,  2.26it/s]"
     ]
    },
    {
     "name": "stdout",
     "output_type": "stream",
     "text": [
      "Training until validation scores don't improve for 50 rounds\n"
     ]
    },
    {
     "name": "stderr",
     "output_type": "stream",
     "text": [
      "feature_fraction, val_score: 0.000003:  57%|#####7    | 4/7 [00:01<00:01,  2.79it/s][I 2024-08-07 12:09:06,987] Trial 3 finished with value: 3.0142284746906754e-06 and parameters: {'feature_fraction': 0.8999999999999999}. Best is trial 2 with value: 2.626032357902686e-06.\n",
      "feature_fraction, val_score: 0.000003:  57%|#####7    | 4/7 [00:01<00:01,  2.79it/s]"
     ]
    },
    {
     "name": "stdout",
     "output_type": "stream",
     "text": [
      "Early stopping, best iteration is:\n",
      "[140]\tvalid_0's binary_logloss: 3.01423e-06\n",
      "Training until validation scores don't improve for 50 rounds\n"
     ]
    },
    {
     "name": "stderr",
     "output_type": "stream",
     "text": [
      "feature_fraction, val_score: 0.000003:  71%|#######1  | 5/7 [00:02<00:00,  3.01it/s][I 2024-08-07 12:09:07,274] Trial 4 finished with value: 2.5088073440362348e-06 and parameters: {'feature_fraction': 0.7}. Best is trial 4 with value: 2.5088073440362348e-06.\n",
      "feature_fraction, val_score: 0.000003:  71%|#######1  | 5/7 [00:02<00:00,  3.01it/s]"
     ]
    },
    {
     "name": "stdout",
     "output_type": "stream",
     "text": [
      "Early stopping, best iteration is:\n",
      "[125]\tvalid_0's binary_logloss: 2.50881e-06\n",
      "Training until validation scores don't improve for 50 rounds\n"
     ]
    },
    {
     "name": "stderr",
     "output_type": "stream",
     "text": [
      "feature_fraction, val_score: 0.000002:  86%|########5 | 6/7 [00:02<00:00,  3.10it/s][I 2024-08-07 12:09:07,578] Trial 5 finished with value: 2.4087932119840814e-06 and parameters: {'feature_fraction': 0.6}. Best is trial 5 with value: 2.4087932119840814e-06.\n",
      "feature_fraction, val_score: 0.000002:  86%|########5 | 6/7 [00:02<00:00,  3.10it/s]"
     ]
    },
    {
     "name": "stdout",
     "output_type": "stream",
     "text": [
      "Early stopping, best iteration is:\n",
      "[168]\tvalid_0's binary_logloss: 2.40879e-06\n",
      "Training until validation scores don't improve for 50 rounds\n"
     ]
    },
    {
     "name": "stderr",
     "output_type": "stream",
     "text": [
      "feature_fraction, val_score: 0.000002: 100%|##########| 7/7 [00:02<00:00,  2.63it/s][I 2024-08-07 12:09:08,076] Trial 6 finished with value: 2.3026435797335585e-06 and parameters: {'feature_fraction': 0.5}. Best is trial 6 with value: 2.3026435797335585e-06.\n",
      "feature_fraction, val_score: 0.000002: 100%|##########| 7/7 [00:02<00:00,  2.39it/s]\n"
     ]
    },
    {
     "name": "stdout",
     "output_type": "stream",
     "text": [
      "Early stopping, best iteration is:\n",
      "[163]\tvalid_0's binary_logloss: 2.30264e-06\n"
     ]
    },
    {
     "name": "stderr",
     "output_type": "stream",
     "text": [
      "num_leaves, val_score: 0.000002:   0%|          | 0/20 [00:00<?, ?it/s]"
     ]
    },
    {
     "name": "stdout",
     "output_type": "stream",
     "text": [
      "Training until validation scores don't improve for 50 rounds\n"
     ]
    },
    {
     "name": "stderr",
     "output_type": "stream",
     "text": [
      "num_leaves, val_score: 0.000002:   5%|5         | 1/20 [00:00<00:05,  3.17it/s][I 2024-08-07 12:09:08,471] Trial 7 finished with value: 2.3026435797335585e-06 and parameters: {'num_leaves': 166}. Best is trial 7 with value: 2.3026435797335585e-06.\n",
      "num_leaves, val_score: 0.000002:   5%|5         | 1/20 [00:00<00:05,  3.17it/s]"
     ]
    },
    {
     "name": "stdout",
     "output_type": "stream",
     "text": [
      "Early stopping, best iteration is:\n",
      "[127]\tvalid_0's binary_logloss: 2.30264e-06\n",
      "Training until validation scores don't improve for 50 rounds\n"
     ]
    },
    {
     "name": "stderr",
     "output_type": "stream",
     "text": [
      "num_leaves, val_score: 0.000002:  10%|#         | 2/20 [00:00<00:07,  2.36it/s][I 2024-08-07 12:09:08,972] Trial 8 finished with value: 2.3026435797335585e-06 and parameters: {'num_leaves': 92}. Best is trial 7 with value: 2.3026435797335585e-06.\n",
      "num_leaves, val_score: 0.000002:  10%|#         | 2/20 [00:00<00:07,  2.36it/s]"
     ]
    },
    {
     "name": "stdout",
     "output_type": "stream",
     "text": [
      "Early stopping, best iteration is:\n",
      "[161]\tvalid_0's binary_logloss: 2.30264e-06\n",
      "Training until validation scores don't improve for 50 rounds\n"
     ]
    },
    {
     "name": "stderr",
     "output_type": "stream",
     "text": [
      "num_leaves, val_score: 0.000002:  15%|#5        | 3/20 [00:02<00:13,  1.27it/s][I 2024-08-07 12:09:10,253] Trial 9 finished with value: 2.302643579733558e-06 and parameters: {'num_leaves': 234}. Best is trial 9 with value: 2.302643579733558e-06.\n",
      "num_leaves, val_score: 0.000002:  15%|#5        | 3/20 [00:02<00:13,  1.27it/s]"
     ]
    },
    {
     "name": "stdout",
     "output_type": "stream",
     "text": [
      "Early stopping, best iteration is:\n",
      "[141]\tvalid_0's binary_logloss: 2.30264e-06\n",
      "Training until validation scores don't improve for 50 rounds\n"
     ]
    },
    {
     "name": "stderr",
     "output_type": "stream",
     "text": [
      "num_leaves, val_score: 0.000002:  20%|##        | 4/20 [00:03<00:18,  1.15s/it][I 2024-08-07 12:09:11,953] Trial 10 finished with value: 2.302643579733558e-06 and parameters: {'num_leaves': 253}. Best is trial 9 with value: 2.302643579733558e-06.\n",
      "num_leaves, val_score: 0.000002:  20%|##        | 4/20 [00:03<00:18,  1.15s/it]"
     ]
    },
    {
     "name": "stdout",
     "output_type": "stream",
     "text": [
      "Early stopping, best iteration is:\n",
      "[132]\tvalid_0's binary_logloss: 2.30264e-06\n",
      "Training until validation scores don't improve for 50 rounds\n"
     ]
    },
    {
     "name": "stderr",
     "output_type": "stream",
     "text": [
      "num_leaves, val_score: 0.000002:  25%|##5       | 5/20 [00:04<00:14,  1.02it/s][I 2024-08-07 12:09:12,577] Trial 11 finished with value: 2.302643579733558e-06 and parameters: {'num_leaves': 243}. Best is trial 9 with value: 2.302643579733558e-06.\n",
      "num_leaves, val_score: 0.000002:  25%|##5       | 5/20 [00:04<00:14,  1.02it/s]"
     ]
    },
    {
     "name": "stdout",
     "output_type": "stream",
     "text": [
      "Early stopping, best iteration is:\n",
      "[169]\tvalid_0's binary_logloss: 2.30264e-06\n",
      "Training until validation scores don't improve for 50 rounds\n"
     ]
    },
    {
     "name": "stderr",
     "output_type": "stream",
     "text": [
      "num_leaves, val_score: 0.000002:  30%|###       | 6/20 [00:04<00:10,  1.28it/s][I 2024-08-07 12:09:12,974] Trial 12 finished with value: 2.3026435797335585e-06 and parameters: {'num_leaves': 254}. Best is trial 9 with value: 2.302643579733558e-06.\n",
      "num_leaves, val_score: 0.000002:  30%|###       | 6/20 [00:04<00:10,  1.28it/s]"
     ]
    },
    {
     "name": "stdout",
     "output_type": "stream",
     "text": [
      "Early stopping, best iteration is:\n",
      "[150]\tvalid_0's binary_logloss: 2.30264e-06\n",
      "Training until validation scores don't improve for 50 rounds\n"
     ]
    },
    {
     "name": "stderr",
     "output_type": "stream",
     "text": [
      "num_leaves, val_score: 0.000002:  35%|###5      | 7/20 [00:05<00:08,  1.53it/s][I 2024-08-07 12:09:13,364] Trial 13 finished with value: 2.302643579733558e-06 and parameters: {'num_leaves': 184}. Best is trial 9 with value: 2.302643579733558e-06.\n",
      "num_leaves, val_score: 0.000002:  35%|###5      | 7/20 [00:05<00:08,  1.53it/s]"
     ]
    },
    {
     "name": "stdout",
     "output_type": "stream",
     "text": [
      "Early stopping, best iteration is:\n",
      "[146]\tvalid_0's binary_logloss: 2.30264e-06\n",
      "Training until validation scores don't improve for 50 rounds\n"
     ]
    },
    {
     "name": "stderr",
     "output_type": "stream",
     "text": [
      "num_leaves, val_score: 0.000002:  40%|####      | 8/20 [00:05<00:06,  1.95it/s][I 2024-08-07 12:09:13,570] Trial 14 finished with value: 2.32688351902294e-06 and parameters: {'num_leaves': 4}. Best is trial 9 with value: 2.302643579733558e-06.\n",
      "num_leaves, val_score: 0.000002:  40%|####      | 8/20 [00:05<00:06,  1.95it/s]"
     ]
    },
    {
     "name": "stdout",
     "output_type": "stream",
     "text": [
      "Early stopping, best iteration is:\n",
      "[131]\tvalid_0's binary_logloss: 2.32688e-06\n",
      "Training until validation scores don't improve for 50 rounds\n"
     ]
    },
    {
     "name": "stderr",
     "output_type": "stream",
     "text": [
      "num_leaves, val_score: 0.000002:  45%|####5     | 9/20 [00:05<00:04,  2.25it/s][I 2024-08-07 12:09:13,870] Trial 15 finished with value: 2.3026435797335585e-06 and parameters: {'num_leaves': 210}. Best is trial 9 with value: 2.302643579733558e-06.\n",
      "num_leaves, val_score: 0.000002:  45%|####5     | 9/20 [00:05<00:04,  2.25it/s]"
     ]
    },
    {
     "name": "stdout",
     "output_type": "stream",
     "text": [
      "Early stopping, best iteration is:\n",
      "[126]\tvalid_0's binary_logloss: 2.30264e-06\n",
      "Training until validation scores don't improve for 50 rounds\n"
     ]
    },
    {
     "name": "stderr",
     "output_type": "stream",
     "text": [
      "num_leaves, val_score: 0.000002:  50%|#####     | 10/20 [00:06<00:03,  2.50it/s][I 2024-08-07 12:09:14,167] Trial 16 finished with value: 2.3026435797335585e-06 and parameters: {'num_leaves': 112}. Best is trial 9 with value: 2.302643579733558e-06.\n",
      "num_leaves, val_score: 0.000002:  50%|#####     | 10/20 [00:06<00:03,  2.50it/s]"
     ]
    },
    {
     "name": "stdout",
     "output_type": "stream",
     "text": [
      "Early stopping, best iteration is:\n",
      "[138]\tvalid_0's binary_logloss: 2.30264e-06\n",
      "Training until validation scores don't improve for 50 rounds\n"
     ]
    },
    {
     "name": "stderr",
     "output_type": "stream",
     "text": [
      "num_leaves, val_score: 0.000002:  55%|#####5    | 11/20 [00:06<00:03,  2.66it/s][I 2024-08-07 12:09:14,489] Trial 17 finished with value: 2.3026435797335585e-06 and parameters: {'num_leaves': 254}. Best is trial 9 with value: 2.302643579733558e-06.\n",
      "num_leaves, val_score: 0.000002:  55%|#####5    | 11/20 [00:06<00:03,  2.66it/s]"
     ]
    },
    {
     "name": "stdout",
     "output_type": "stream",
     "text": [
      "Early stopping, best iteration is:\n",
      "[133]\tvalid_0's binary_logloss: 2.30264e-06\n",
      "Training until validation scores don't improve for 50 rounds\n"
     ]
    },
    {
     "name": "stderr",
     "output_type": "stream",
     "text": [
      "num_leaves, val_score: 0.000002:  60%|######    | 12/20 [00:06<00:03,  2.66it/s][I 2024-08-07 12:09:14,866] Trial 18 finished with value: 2.302643579733558e-06 and parameters: {'num_leaves': 201}. Best is trial 9 with value: 2.302643579733558e-06.\n",
      "num_leaves, val_score: 0.000002:  60%|######    | 12/20 [00:06<00:03,  2.66it/s]"
     ]
    },
    {
     "name": "stdout",
     "output_type": "stream",
     "text": [
      "Early stopping, best iteration is:\n",
      "[154]\tvalid_0's binary_logloss: 2.30264e-06\n",
      "Training until validation scores don't improve for 50 rounds\n"
     ]
    },
    {
     "name": "stderr",
     "output_type": "stream",
     "text": [
      "num_leaves, val_score: 0.000002:  65%|######5   | 13/20 [00:07<00:02,  2.82it/s][I 2024-08-07 12:09:15,174] Trial 19 finished with value: 2.3026435797335585e-06 and parameters: {'num_leaves': 144}. Best is trial 9 with value: 2.302643579733558e-06.\n",
      "num_leaves, val_score: 0.000002:  65%|######5   | 13/20 [00:07<00:02,  2.82it/s]"
     ]
    },
    {
     "name": "stdout",
     "output_type": "stream",
     "text": [
      "Early stopping, best iteration is:\n",
      "[127]\tvalid_0's binary_logloss: 2.30264e-06\n",
      "Training until validation scores don't improve for 50 rounds\n"
     ]
    },
    {
     "name": "stderr",
     "output_type": "stream",
     "text": [
      "num_leaves, val_score: 0.000002:  70%|#######   | 14/20 [00:07<00:02,  2.19it/s][I 2024-08-07 12:09:15,866] Trial 20 finished with value: 2.3026435797335585e-06 and parameters: {'num_leaves': 58}. Best is trial 9 with value: 2.302643579733558e-06.\n",
      "num_leaves, val_score: 0.000002:  70%|#######   | 14/20 [00:07<00:02,  2.19it/s]"
     ]
    },
    {
     "name": "stdout",
     "output_type": "stream",
     "text": [
      "Early stopping, best iteration is:\n",
      "[127]\tvalid_0's binary_logloss: 2.30264e-06\n",
      "Training until validation scores don't improve for 50 rounds\n"
     ]
    },
    {
     "name": "stderr",
     "output_type": "stream",
     "text": [
      "num_leaves, val_score: 0.000002:  75%|#######5  | 15/20 [00:08<00:02,  2.11it/s][I 2024-08-07 12:09:16,378] Trial 21 finished with value: 2.3026435797335585e-06 and parameters: {'num_leaves': 230}. Best is trial 9 with value: 2.302643579733558e-06.\n",
      "num_leaves, val_score: 0.000002:  75%|#######5  | 15/20 [00:08<00:02,  2.11it/s]"
     ]
    },
    {
     "name": "stdout",
     "output_type": "stream",
     "text": [
      "Early stopping, best iteration is:\n",
      "[127]\tvalid_0's binary_logloss: 2.30264e-06\n",
      "Training until validation scores don't improve for 50 rounds\n"
     ]
    },
    {
     "name": "stderr",
     "output_type": "stream",
     "text": [
      "num_leaves, val_score: 0.000002:  80%|########  | 16/20 [00:08<00:01,  2.38it/s][I 2024-08-07 12:09:16,673] Trial 22 finished with value: 2.3026435797335585e-06 and parameters: {'num_leaves': 224}. Best is trial 9 with value: 2.302643579733558e-06.\n",
      "num_leaves, val_score: 0.000002:  80%|########  | 16/20 [00:08<00:01,  2.38it/s]"
     ]
    },
    {
     "name": "stdout",
     "output_type": "stream",
     "text": [
      "Early stopping, best iteration is:\n",
      "[128]\tvalid_0's binary_logloss: 2.30264e-06\n",
      "Training until validation scores don't improve for 50 rounds\n"
     ]
    },
    {
     "name": "stderr",
     "output_type": "stream",
     "text": [
      "num_leaves, val_score: 0.000002:  85%|########5 | 17/20 [00:08<00:01,  2.60it/s][I 2024-08-07 12:09:16,975] Trial 23 finished with value: 2.302643579733558e-06 and parameters: {'num_leaves': 255}. Best is trial 9 with value: 2.302643579733558e-06.\n",
      "num_leaves, val_score: 0.000002:  85%|########5 | 17/20 [00:08<00:01,  2.60it/s]"
     ]
    },
    {
     "name": "stdout",
     "output_type": "stream",
     "text": [
      "Early stopping, best iteration is:\n",
      "[151]\tvalid_0's binary_logloss: 2.30264e-06\n",
      "Training until validation scores don't improve for 50 rounds\n"
     ]
    },
    {
     "name": "stderr",
     "output_type": "stream",
     "text": [
      "num_leaves, val_score: 0.000002:  90%|######### | 18/20 [00:09<00:00,  2.78it/s][I 2024-08-07 12:09:17,277] Trial 24 finished with value: 2.3026435797335585e-06 and parameters: {'num_leaves': 177}. Best is trial 9 with value: 2.302643579733558e-06.\n",
      "num_leaves, val_score: 0.000002:  90%|######### | 18/20 [00:09<00:00,  2.78it/s]"
     ]
    },
    {
     "name": "stdout",
     "output_type": "stream",
     "text": [
      "Early stopping, best iteration is:\n",
      "[128]\tvalid_0's binary_logloss: 2.30264e-06\n",
      "Training until validation scores don't improve for 50 rounds\n"
     ]
    },
    {
     "name": "stderr",
     "output_type": "stream",
     "text": [
      "num_leaves, val_score: 0.000002:  95%|#########5| 19/20 [00:09<00:00,  2.91it/s][I 2024-08-07 12:09:17,582] Trial 25 finished with value: 2.3026435797335585e-06 and parameters: {'num_leaves': 228}. Best is trial 9 with value: 2.302643579733558e-06.\n",
      "num_leaves, val_score: 0.000002:  95%|#########5| 19/20 [00:09<00:00,  2.91it/s]"
     ]
    },
    {
     "name": "stdout",
     "output_type": "stream",
     "text": [
      "Early stopping, best iteration is:\n",
      "[133]\tvalid_0's binary_logloss: 2.30264e-06\n",
      "Training until validation scores don't improve for 50 rounds\n"
     ]
    },
    {
     "name": "stderr",
     "output_type": "stream",
     "text": [
      "num_leaves, val_score: 0.000002: 100%|##########| 20/20 [00:09<00:00,  2.83it/s][I 2024-08-07 12:09:17,960] Trial 26 finished with value: 2.3026435797335585e-06 and parameters: {'num_leaves': 200}. Best is trial 9 with value: 2.302643579733558e-06.\n",
      "num_leaves, val_score: 0.000002: 100%|##########| 20/20 [00:09<00:00,  2.04it/s]\n"
     ]
    },
    {
     "name": "stdout",
     "output_type": "stream",
     "text": [
      "Early stopping, best iteration is:\n",
      "[128]\tvalid_0's binary_logloss: 2.30264e-06\n"
     ]
    },
    {
     "name": "stderr",
     "output_type": "stream",
     "text": [
      "bagging, val_score: 0.000002:   0%|          | 0/10 [00:00<?, ?it/s]"
     ]
    },
    {
     "name": "stdout",
     "output_type": "stream",
     "text": [
      "Training until validation scores don't improve for 50 rounds\n"
     ]
    },
    {
     "name": "stderr",
     "output_type": "stream",
     "text": [
      "bagging, val_score: 0.000002:  10%|#         | 1/10 [00:00<00:02,  3.33it/s][I 2024-08-07 12:09:18,277] Trial 27 finished with value: 1.8217289583391978e-06 and parameters: {'bagging_fraction': 0.9186870037877966, 'bagging_freq': 5}. Best is trial 27 with value: 1.8217289583391978e-06.\n",
      "bagging, val_score: 0.000002:  10%|#         | 1/10 [00:00<00:02,  3.33it/s]"
     ]
    },
    {
     "name": "stdout",
     "output_type": "stream",
     "text": [
      "Early stopping, best iteration is:\n",
      "[131]\tvalid_0's binary_logloss: 1.82173e-06\n",
      "Training until validation scores don't improve for 50 rounds\n"
     ]
    },
    {
     "name": "stderr",
     "output_type": "stream",
     "text": [
      "bagging, val_score: 0.000002:  20%|##        | 2/10 [00:00<00:03,  2.10it/s][I 2024-08-07 12:09:18,874] Trial 28 finished with value: 2.30608955175627e-06 and parameters: {'bagging_fraction': 0.937169398578819, 'bagging_freq': 5}. Best is trial 27 with value: 1.8217289583391978e-06.\n",
      "bagging, val_score: 0.000002:  20%|##        | 2/10 [00:00<00:03,  2.10it/s]"
     ]
    },
    {
     "name": "stdout",
     "output_type": "stream",
     "text": [
      "Early stopping, best iteration is:\n",
      "[150]\tvalid_0's binary_logloss: 2.30609e-06\n",
      "Training until validation scores don't improve for 50 rounds\n"
     ]
    },
    {
     "name": "stderr",
     "output_type": "stream",
     "text": [
      "bagging, val_score: 0.000002:  30%|###       | 3/10 [00:01<00:04,  1.62it/s][I 2024-08-07 12:09:19,661] Trial 29 finished with value: 3.6023232764931705e-06 and parameters: {'bagging_fraction': 0.813748871073336, 'bagging_freq': 7}. Best is trial 27 with value: 1.8217289583391978e-06.\n",
      "bagging, val_score: 0.000002:  30%|###       | 3/10 [00:01<00:04,  1.62it/s]"
     ]
    },
    {
     "name": "stdout",
     "output_type": "stream",
     "text": [
      "Early stopping, best iteration is:\n",
      "[155]\tvalid_0's binary_logloss: 3.60232e-06\n",
      "Training until validation scores don't improve for 50 rounds\n"
     ]
    },
    {
     "name": "stderr",
     "output_type": "stream",
     "text": [
      "bagging, val_score: 0.000002:  40%|####      | 4/10 [00:02<00:03,  1.62it/s][I 2024-08-07 12:09:20,274] Trial 30 finished with value: 8.015241021691184e-06 and parameters: {'bagging_fraction': 0.42798127832343386, 'bagging_freq': 1}. Best is trial 27 with value: 1.8217289583391978e-06.\n",
      "bagging, val_score: 0.000002:  40%|####      | 4/10 [00:02<00:03,  1.62it/s]"
     ]
    },
    {
     "name": "stdout",
     "output_type": "stream",
     "text": [
      "Early stopping, best iteration is:\n",
      "[287]\tvalid_0's binary_logloss: 8.01524e-06\n",
      "Training until validation scores don't improve for 50 rounds\n"
     ]
    },
    {
     "name": "stderr",
     "output_type": "stream",
     "text": [
      "bagging, val_score: 0.000002:  50%|#####     | 5/10 [00:02<00:02,  1.72it/s][I 2024-08-07 12:09:20,792] Trial 31 finished with value: 2.092841100136325e-06 and parameters: {'bagging_fraction': 0.9833295811414526, 'bagging_freq': 4}. Best is trial 27 with value: 1.8217289583391978e-06.\n",
      "bagging, val_score: 0.000002:  50%|#####     | 5/10 [00:02<00:02,  1.72it/s]"
     ]
    },
    {
     "name": "stdout",
     "output_type": "stream",
     "text": [
      "Early stopping, best iteration is:\n",
      "[151]\tvalid_0's binary_logloss: 2.09284e-06\n",
      "Training until validation scores don't improve for 50 rounds\n"
     ]
    },
    {
     "name": "stderr",
     "output_type": "stream",
     "text": [
      "bagging, val_score: 0.000002:  60%|######    | 6/10 [00:03<00:02,  1.63it/s][I 2024-08-07 12:09:21,473] Trial 32 finished with value: 2.17285755574527e-06 and parameters: {'bagging_fraction': 0.9745245955764804, 'bagging_freq': 4}. Best is trial 27 with value: 1.8217289583391978e-06.\n",
      "bagging, val_score: 0.000002:  60%|######    | 6/10 [00:03<00:02,  1.63it/s]"
     ]
    },
    {
     "name": "stdout",
     "output_type": "stream",
     "text": [
      "Early stopping, best iteration is:\n",
      "[149]\tvalid_0's binary_logloss: 2.17286e-06\n",
      "Training until validation scores don't improve for 50 rounds\n"
     ]
    },
    {
     "name": "stderr",
     "output_type": "stream",
     "text": [
      "bagging, val_score: 0.000002:  70%|#######   | 7/10 [00:03<00:01,  1.83it/s][I 2024-08-07 12:09:21,876] Trial 33 finished with value: 2.302643579733558e-06 and parameters: {'bagging_fraction': 0.9979870799775385, 'bagging_freq': 4}. Best is trial 27 with value: 1.8217289583391978e-06.\n",
      "bagging, val_score: 0.000002:  70%|#######   | 7/10 [00:03<00:01,  1.83it/s]"
     ]
    },
    {
     "name": "stdout",
     "output_type": "stream",
     "text": [
      "Early stopping, best iteration is:\n",
      "[170]\tvalid_0's binary_logloss: 2.30264e-06\n",
      "Training until validation scores don't improve for 50 rounds\n"
     ]
    },
    {
     "name": "stderr",
     "output_type": "stream",
     "text": [
      "bagging, val_score: 0.000002:  80%|########  | 8/10 [00:04<00:01,  1.89it/s][I 2024-08-07 12:09:22,369] Trial 34 finished with value: 2.3026435797335585e-06 and parameters: {'bagging_fraction': 0.9990371675667474, 'bagging_freq': 4}. Best is trial 27 with value: 1.8217289583391978e-06.\n",
      "bagging, val_score: 0.000002:  80%|########  | 8/10 [00:04<00:01,  1.89it/s]"
     ]
    },
    {
     "name": "stdout",
     "output_type": "stream",
     "text": [
      "Early stopping, best iteration is:\n",
      "[138]\tvalid_0's binary_logloss: 2.30264e-06\n",
      "Training until validation scores don't improve for 50 rounds\n"
     ]
    },
    {
     "name": "stderr",
     "output_type": "stream",
     "text": [
      "bagging, val_score: 0.000002:  90%|######### | 9/10 [00:04<00:00,  2.02it/s][I 2024-08-07 12:09:22,787] Trial 35 finished with value: 1.7345669270148782e-06 and parameters: {'bagging_fraction': 0.8333419593827704, 'bagging_freq': 5}. Best is trial 35 with value: 1.7345669270148782e-06.\n",
      "bagging, val_score: 0.000002:  90%|######### | 9/10 [00:04<00:00,  2.02it/s]"
     ]
    },
    {
     "name": "stdout",
     "output_type": "stream",
     "text": [
      "Early stopping, best iteration is:\n",
      "[136]\tvalid_0's binary_logloss: 1.73457e-06\n",
      "Training until validation scores don't improve for 50 rounds\n"
     ]
    },
    {
     "name": "stderr",
     "output_type": "stream",
     "text": [
      "bagging, val_score: 0.000002: 100%|##########| 10/10 [00:05<00:00,  2.17it/s][I 2024-08-07 12:09:23,171] Trial 36 finished with value: 1.612267360647842e-06 and parameters: {'bagging_fraction': 0.867927872040359, 'bagging_freq': 5}. Best is trial 36 with value: 1.612267360647842e-06.\n",
      "bagging, val_score: 0.000002: 100%|##########| 10/10 [00:05<00:00,  1.92it/s]\n"
     ]
    },
    {
     "name": "stdout",
     "output_type": "stream",
     "text": [
      "Early stopping, best iteration is:\n",
      "[136]\tvalid_0's binary_logloss: 1.61227e-06\n"
     ]
    },
    {
     "name": "stderr",
     "output_type": "stream",
     "text": [
      "feature_fraction_stage2, val_score: 0.000002:   0%|          | 0/6 [00:00<?, ?it/s]"
     ]
    },
    {
     "name": "stdout",
     "output_type": "stream",
     "text": [
      "Training until validation scores don't improve for 50 rounds\n"
     ]
    },
    {
     "name": "stderr",
     "output_type": "stream",
     "text": [
      "feature_fraction_stage2, val_score: 0.000002:  17%|#6        | 1/6 [00:00<00:01,  2.60it/s][I 2024-08-07 12:09:23,564] Trial 37 finished with value: 1.612267360647842e-06 and parameters: {'feature_fraction': 0.5479999999999999}. Best is trial 37 with value: 1.612267360647842e-06.\n",
      "feature_fraction_stage2, val_score: 0.000002:  17%|#6        | 1/6 [00:00<00:01,  2.60it/s]"
     ]
    },
    {
     "name": "stdout",
     "output_type": "stream",
     "text": [
      "Early stopping, best iteration is:\n",
      "[134]\tvalid_0's binary_logloss: 1.61227e-06\n",
      "Training until validation scores don't improve for 50 rounds\n"
     ]
    },
    {
     "name": "stderr",
     "output_type": "stream",
     "text": [
      "feature_fraction_stage2, val_score: 0.000002:  33%|###3      | 2/6 [00:00<00:01,  2.53it/s][I 2024-08-07 12:09:23,967] Trial 38 finished with value: 1.612267360647842e-06 and parameters: {'feature_fraction': 0.484}. Best is trial 37 with value: 1.612267360647842e-06.\n",
      "feature_fraction_stage2, val_score: 0.000002:  33%|###3      | 2/6 [00:00<00:01,  2.53it/s]"
     ]
    },
    {
     "name": "stdout",
     "output_type": "stream",
     "text": [
      "Early stopping, best iteration is:\n",
      "[134]\tvalid_0's binary_logloss: 1.61227e-06\n",
      "Training until validation scores don't improve for 50 rounds\n"
     ]
    },
    {
     "name": "stderr",
     "output_type": "stream",
     "text": [
      "feature_fraction_stage2, val_score: 0.000002:  50%|#####     | 3/6 [00:01<00:01,  2.84it/s][I 2024-08-07 12:09:24,268] Trial 39 finished with value: 2.6859464095164043e-06 and parameters: {'feature_fraction': 0.42}. Best is trial 37 with value: 1.612267360647842e-06.\n",
      "feature_fraction_stage2, val_score: 0.000002:  50%|#####     | 3/6 [00:01<00:01,  2.84it/s]"
     ]
    },
    {
     "name": "stdout",
     "output_type": "stream",
     "text": [
      "Early stopping, best iteration is:\n",
      "[124]\tvalid_0's binary_logloss: 2.68595e-06\n",
      "Training until validation scores don't improve for 50 rounds\n"
     ]
    },
    {
     "name": "stderr",
     "output_type": "stream",
     "text": [
      "feature_fraction_stage2, val_score: 0.000002:  67%|######6   | 4/6 [00:01<00:00,  3.01it/s][I 2024-08-07 12:09:24,570] Trial 40 finished with value: 1.612267360647842e-06 and parameters: {'feature_fraction': 0.516}. Best is trial 37 with value: 1.612267360647842e-06.\n",
      "feature_fraction_stage2, val_score: 0.000002:  67%|######6   | 4/6 [00:01<00:00,  3.01it/s]"
     ]
    },
    {
     "name": "stdout",
     "output_type": "stream",
     "text": [
      "Early stopping, best iteration is:\n",
      "[131]\tvalid_0's binary_logloss: 1.61227e-06\n",
      "Training until validation scores don't improve for 50 rounds\n"
     ]
    },
    {
     "name": "stderr",
     "output_type": "stream",
     "text": [
      "feature_fraction_stage2, val_score: 0.000002:  83%|########3 | 5/6 [00:02<00:00,  1.87it/s][I 2024-08-07 12:09:25,461] Trial 41 finished with value: 1.6122673606478415e-06 and parameters: {'feature_fraction': 0.45199999999999996}. Best is trial 41 with value: 1.6122673606478415e-06.\n",
      "feature_fraction_stage2, val_score: 0.000002:  83%|########3 | 5/6 [00:02<00:00,  1.87it/s]"
     ]
    },
    {
     "name": "stdout",
     "output_type": "stream",
     "text": [
      "Early stopping, best iteration is:\n",
      "[168]\tvalid_0's binary_logloss: 1.61227e-06\n",
      "Training until validation scores don't improve for 50 rounds\n"
     ]
    },
    {
     "name": "stderr",
     "output_type": "stream",
     "text": [
      "feature_fraction_stage2, val_score: 0.000002: 100%|##########| 6/6 [00:02<00:00,  2.19it/s][I 2024-08-07 12:09:25,770] Trial 42 finished with value: 1.6414877741727898e-06 and parameters: {'feature_fraction': 0.58}. Best is trial 41 with value: 1.6122673606478415e-06.\n",
      "feature_fraction_stage2, val_score: 0.000002: 100%|##########| 6/6 [00:02<00:00,  2.31it/s]\n"
     ]
    },
    {
     "name": "stdout",
     "output_type": "stream",
     "text": [
      "Early stopping, best iteration is:\n",
      "[133]\tvalid_0's binary_logloss: 1.64149e-06\n"
     ]
    },
    {
     "name": "stderr",
     "output_type": "stream",
     "text": [
      "regularization_factors, val_score: 0.000002:   0%|          | 0/20 [00:00<?, ?it/s]"
     ]
    },
    {
     "name": "stdout",
     "output_type": "stream",
     "text": [
      "Training until validation scores don't improve for 50 rounds\n"
     ]
    },
    {
     "name": "stderr",
     "output_type": "stream",
     "text": [
      "regularization_factors, val_score: 0.000002:   5%|5         | 1/20 [00:00<00:03,  5.21it/s][I 2024-08-07 12:09:25,980] Trial 43 finished with value: 1.5021034465362997e-06 and parameters: {'lambda_l1': 5.763676248133896e-07, 'lambda_l2': 0.0002788392339773973}. Best is trial 43 with value: 1.5021034465362997e-06.\n",
      "regularization_factors, val_score: 0.000002:   5%|5         | 1/20 [00:00<00:03,  5.21it/s]"
     ]
    },
    {
     "name": "stdout",
     "output_type": "stream",
     "text": [
      "Early stopping, best iteration is:\n",
      "[132]\tvalid_0's binary_logloss: 1.5021e-06\n",
      "Training until validation scores don't improve for 50 rounds\n"
     ]
    },
    {
     "name": "stderr",
     "output_type": "stream",
     "text": [
      "regularization_factors, val_score: 0.000002:  10%|#         | 2/20 [00:00<00:03,  5.04it/s][I 2024-08-07 12:09:26,182] Trial 44 finished with value: 1.5087074180044877e-06 and parameters: {'lambda_l1': 5.318989555350645e-07, 'lambda_l2': 0.0002849497788090724}. Best is trial 43 with value: 1.5021034465362997e-06.\n",
      "regularization_factors, val_score: 0.000002:  10%|#         | 2/20 [00:00<00:03,  5.04it/s]"
     ]
    },
    {
     "name": "stdout",
     "output_type": "stream",
     "text": [
      "Early stopping, best iteration is:\n",
      "[149]\tvalid_0's binary_logloss: 1.50871e-06\n",
      "Training until validation scores don't improve for 50 rounds\n"
     ]
    },
    {
     "name": "stderr",
     "output_type": "stream",
     "text": [
      "regularization_factors, val_score: 0.000001:  15%|#5        | 3/20 [00:00<00:03,  4.92it/s][I 2024-08-07 12:09:26,450] Trial 45 finished with value: 1.4632140642699954e-06 and parameters: {'lambda_l1': 2.9165437804140206e-07, 'lambda_l2': 0.00024383457900198087}. Best is trial 45 with value: 1.4632140642699954e-06.\n",
      "regularization_factors, val_score: 0.000001:  15%|#5        | 3/20 [00:00<00:03,  4.92it/s]"
     ]
    },
    {
     "name": "stdout",
     "output_type": "stream",
     "text": [
      "Early stopping, best iteration is:\n",
      "[132]\tvalid_0's binary_logloss: 1.46321e-06\n",
      "Training until validation scores don't improve for 50 rounds\n"
     ]
    },
    {
     "name": "stderr",
     "output_type": "stream",
     "text": [
      "regularization_factors, val_score: 0.000001:  20%|##        | 4/20 [00:00<00:03,  4.30it/s][I 2024-08-07 12:09:26,670] Trial 46 finished with value: 1.5015985028201733e-06 and parameters: {'lambda_l1': 2.774828158177569e-07, 'lambda_l2': 0.00027871632832015544}. Best is trial 45 with value: 1.4632140642699954e-06.\n",
      "regularization_factors, val_score: 0.000001:  20%|##        | 4/20 [00:00<00:03,  4.30it/s]"
     ]
    },
    {
     "name": "stdout",
     "output_type": "stream",
     "text": [
      "Early stopping, best iteration is:\n",
      "[132]\tvalid_0's binary_logloss: 1.5016e-06\n",
      "Training until validation scores don't improve for 50 rounds\n"
     ]
    },
    {
     "name": "stderr",
     "output_type": "stream",
     "text": [
      "regularization_factors, val_score: 0.000001:  25%|##5       | 5/20 [00:01<00:03,  4.48it/s][I 2024-08-07 12:09:26,876] Trial 47 finished with value: 1.4820977449467571e-06 and parameters: {'lambda_l1': 3.345083587194761e-07, 'lambda_l2': 0.0002608629928279968}. Best is trial 45 with value: 1.4632140642699954e-06.\n",
      "regularization_factors, val_score: 0.000001:  25%|##5       | 5/20 [00:01<00:03,  4.48it/s]"
     ]
    },
    {
     "name": "stdout",
     "output_type": "stream",
     "text": [
      "Early stopping, best iteration is:\n",
      "[144]\tvalid_0's binary_logloss: 1.4821e-06\n",
      "Training until validation scores don't improve for 50 rounds\n"
     ]
    },
    {
     "name": "stderr",
     "output_type": "stream",
     "text": [
      "regularization_factors, val_score: 0.000001:  30%|###       | 6/20 [00:01<00:03,  4.62it/s][I 2024-08-07 12:09:27,080] Trial 48 finished with value: 1.4971337845622793e-06 and parameters: {'lambda_l1': 2.9092409952035696e-07, 'lambda_l2': 0.0002746145779678195}. Best is trial 45 with value: 1.4632140642699954e-06.\n",
      "regularization_factors, val_score: 0.000001:  30%|###       | 6/20 [00:01<00:03,  4.62it/s]"
     ]
    },
    {
     "name": "stdout",
     "output_type": "stream",
     "text": [
      "Early stopping, best iteration is:\n",
      "[153]\tvalid_0's binary_logloss: 1.49713e-06\n",
      "Training until validation scores don't improve for 50 rounds\n",
      "Early stopping, best iteration is:\n",
      "[139]\tvalid_0's binary_logloss: 1.45252e-06\n"
     ]
    },
    {
     "name": "stderr",
     "output_type": "stream",
     "text": [
      "regularization_factors, val_score: 0.000001:  35%|###5      | 7/20 [00:01<00:02,  4.74it/s][I 2024-08-07 12:09:27,278] Trial 49 finished with value: 1.4525188456193324e-06 and parameters: {'lambda_l1': 2.9415328026214427e-07, 'lambda_l2': 0.00034581565250441413}. Best is trial 49 with value: 1.4525188456193324e-06.\n",
      "regularization_factors, val_score: 0.000001:  35%|###5      | 7/20 [00:01<00:02,  4.74it/s]"
     ]
    },
    {
     "name": "stdout",
     "output_type": "stream",
     "text": [
      "Training until validation scores don't improve for 50 rounds\n",
      "Early stopping, best iteration is:\n",
      "[164]\tvalid_0's binary_logloss: 1.26074e-06\n"
     ]
    },
    {
     "name": "stderr",
     "output_type": "stream",
     "text": [
      "regularization_factors, val_score: 0.000001:  40%|####      | 8/20 [00:01<00:02,  4.24it/s][I 2024-08-07 12:09:27,569] Trial 50 finished with value: 1.2607382393996627e-06 and parameters: {'lambda_l1': 1.9973782903271662e-07, 'lambda_l2': 0.00036520656813362546}. Best is trial 50 with value: 1.2607382393996627e-06.\n",
      "regularization_factors, val_score: 0.000001:  45%|####5     | 9/20 [00:01<00:02,  4.41it/s][I 2024-08-07 12:09:27,775] Trial 51 finished with value: 1.2687777335577554e-06 and parameters: {'lambda_l1': 1.9029351215039642e-07, 'lambda_l2': 0.00037361771850758375}. Best is trial 50 with value: 1.2607382393996627e-06.\n",
      "regularization_factors, val_score: 0.000001:  45%|####5     | 9/20 [00:01<00:02,  4.41it/s]"
     ]
    },
    {
     "name": "stdout",
     "output_type": "stream",
     "text": [
      "Training until validation scores don't improve for 50 rounds\n",
      "Early stopping, best iteration is:\n",
      "[168]\tvalid_0's binary_logloss: 1.26878e-06\n"
     ]
    },
    {
     "name": "stderr",
     "output_type": "stream",
     "text": [
      "regularization_factors, val_score: 0.000001:  50%|#####     | 10/20 [00:02<00:02,  4.58it/s][I 2024-08-07 12:09:27,975] Trial 52 finished with value: 1.4939932599635608e-06 and parameters: {'lambda_l1': 1.9378958918727942e-07, 'lambda_l2': 0.0002718552016649665}. Best is trial 50 with value: 1.2607382393996627e-06.\n",
      "regularization_factors, val_score: 0.000001:  50%|#####     | 10/20 [00:02<00:02,  4.58it/s]"
     ]
    },
    {
     "name": "stdout",
     "output_type": "stream",
     "text": [
      "Training until validation scores don't improve for 50 rounds\n",
      "Early stopping, best iteration is:\n",
      "[133]\tvalid_0's binary_logloss: 1.49399e-06\n",
      "Training until validation scores don't improve for 50 rounds\n"
     ]
    },
    {
     "name": "stderr",
     "output_type": "stream",
     "text": [
      "regularization_factors, val_score: 0.000001:  55%|#####5    | 11/20 [00:02<00:01,  4.66it/s][I 2024-08-07 12:09:28,180] Trial 53 finished with value: 1.3379608714370438e-06 and parameters: {'lambda_l1': 1.6451966279925413e-07, 'lambda_l2': 0.00041445003806608074}. Best is trial 50 with value: 1.2607382393996627e-06.\n",
      "regularization_factors, val_score: 0.000001:  55%|#####5    | 11/20 [00:02<00:01,  4.66it/s]"
     ]
    },
    {
     "name": "stdout",
     "output_type": "stream",
     "text": [
      "Early stopping, best iteration is:\n",
      "[146]\tvalid_0's binary_logloss: 1.33796e-06\n",
      "Training until validation scores don't improve for 50 rounds\n",
      "Early stopping, best iteration is:\n",
      "[144]\tvalid_0's binary_logloss: 1.38103e-06\n"
     ]
    },
    {
     "name": "stderr",
     "output_type": "stream",
     "text": [
      "regularization_factors, val_score: 0.000001:  60%|######    | 12/20 [00:02<00:01,  4.75it/s][I 2024-08-07 12:09:28,381] Trial 54 finished with value: 1.3810301109180486e-06 and parameters: {'lambda_l1': 9.730996801182648e-08, 'lambda_l2': 0.0005627904498645886}. Best is trial 50 with value: 1.2607382393996627e-06.\n",
      "regularization_factors, val_score: 0.000001:  60%|######    | 12/20 [00:02<00:01,  4.75it/s]"
     ]
    },
    {
     "name": "stdout",
     "output_type": "stream",
     "text": [
      "Training until validation scores don't improve for 50 rounds\n"
     ]
    },
    {
     "name": "stderr",
     "output_type": "stream",
     "text": [
      "regularization_factors, val_score: 0.000001:  65%|######5   | 13/20 [00:03<00:03,  2.10it/s][I 2024-08-07 12:09:29,473] Trial 55 finished with value: 2.280444200125636e-06 and parameters: {'lambda_l1': 4.691856188470086e-08, 'lambda_l2': 0.0984078888153355}. Best is trial 50 with value: 1.2607382393996627e-06.\n",
      "regularization_factors, val_score: 0.000001:  65%|######5   | 13/20 [00:03<00:03,  2.10it/s]"
     ]
    },
    {
     "name": "stdout",
     "output_type": "stream",
     "text": [
      "Did not meet early stopping. Best iteration is:\n",
      "[1000]\tvalid_0's binary_logloss: 2.28044e-06\n",
      "Training until validation scores don't improve for 50 rounds\n"
     ]
    },
    {
     "name": "stderr",
     "output_type": "stream",
     "text": [
      "regularization_factors, val_score: 0.000001:  70%|#######   | 14/20 [00:04<00:03,  1.74it/s][I 2024-08-07 12:09:30,278] Trial 56 finished with value: 4.131588561008407e-05 and parameters: {'lambda_l1': 0.03125532116063038, 'lambda_l2': 0.01730269625906255}. Best is trial 50 with value: 1.2607382393996627e-06.\n",
      "regularization_factors, val_score: 0.000001:  70%|#######   | 14/20 [00:04<00:03,  1.74it/s]"
     ]
    },
    {
     "name": "stdout",
     "output_type": "stream",
     "text": [
      "Early stopping, best iteration is:\n",
      "[748]\tvalid_0's binary_logloss: 4.13159e-05\n",
      "Training until validation scores don't improve for 50 rounds\n"
     ]
    },
    {
     "name": "stderr",
     "output_type": "stream",
     "text": [
      "regularization_factors, val_score: 0.000001:  75%|#######5  | 15/20 [00:04<00:02,  2.02it/s][I 2024-08-07 12:09:30,589] Trial 57 finished with value: 1.6101175754963528e-06 and parameters: {'lambda_l1': 2.0658709570602858e-08, 'lambda_l2': 1.195302210852152e-08}. Best is trial 50 with value: 1.2607382393996627e-06.\n",
      "regularization_factors, val_score: 0.000001:  75%|#######5  | 15/20 [00:04<00:02,  2.02it/s]"
     ]
    },
    {
     "name": "stdout",
     "output_type": "stream",
     "text": [
      "Early stopping, best iteration is:\n",
      "[132]\tvalid_0's binary_logloss: 1.61012e-06\n",
      "Training until validation scores don't improve for 50 rounds\n"
     ]
    },
    {
     "name": "stderr",
     "output_type": "stream",
     "text": [
      "regularization_factors, val_score: 0.000001:  80%|########  | 16/20 [00:05<00:01,  2.17it/s][I 2024-08-07 12:09:30,966] Trial 58 finished with value: 1.392852523385062e-06 and parameters: {'lambda_l1': 7.744926991878488e-05, 'lambda_l2': 6.890638137606572e-06}. Best is trial 50 with value: 1.2607382393996627e-06.\n",
      "regularization_factors, val_score: 0.000001:  80%|########  | 16/20 [00:05<00:01,  2.17it/s]"
     ]
    },
    {
     "name": "stdout",
     "output_type": "stream",
     "text": [
      "Early stopping, best iteration is:\n",
      "[175]\tvalid_0's binary_logloss: 1.39285e-06\n",
      "Training until validation scores don't improve for 50 rounds\n"
     ]
    },
    {
     "name": "stderr",
     "output_type": "stream",
     "text": [
      "regularization_factors, val_score: 0.000001:  85%|########5 | 17/20 [00:05<00:01,  2.26it/s][I 2024-08-07 12:09:31,368] Trial 59 finished with value: 1.6349366419871983e-06 and parameters: {'lambda_l1': 3.7433374518309295e-05, 'lambda_l2': 1.8596123708446957e-06}. Best is trial 50 with value: 1.2607382393996627e-06.\n",
      "regularization_factors, val_score: 0.000001:  85%|########5 | 17/20 [00:05<00:01,  2.26it/s]"
     ]
    },
    {
     "name": "stdout",
     "output_type": "stream",
     "text": [
      "Early stopping, best iteration is:\n",
      "[163]\tvalid_0's binary_logloss: 1.63494e-06\n",
      "Training until validation scores don't improve for 50 rounds\n"
     ]
    },
    {
     "name": "stderr",
     "output_type": "stream",
     "text": [
      "regularization_factors, val_score: 0.000001:  90%|######### | 18/20 [00:05<00:00,  2.31it/s][I 2024-08-07 12:09:31,775] Trial 60 finished with value: 1.6214915766613955e-06 and parameters: {'lambda_l1': 2.086313115430124e-05, 'lambda_l2': 8.598292059388441e-06}. Best is trial 50 with value: 1.2607382393996627e-06.\n",
      "regularization_factors, val_score: 0.000001:  90%|######### | 18/20 [00:05<00:00,  2.31it/s]"
     ]
    },
    {
     "name": "stdout",
     "output_type": "stream",
     "text": [
      "Early stopping, best iteration is:\n",
      "[164]\tvalid_0's binary_logloss: 1.62149e-06\n",
      "Training until validation scores don't improve for 50 rounds\n"
     ]
    },
    {
     "name": "stderr",
     "output_type": "stream",
     "text": [
      "regularization_factors, val_score: 0.000001:  95%|#########5| 19/20 [00:06<00:00,  2.38it/s][I 2024-08-07 12:09:32,169] Trial 61 finished with value: 1.4618894006765968e-06 and parameters: {'lambda_l1': 4.729897696100894e-06, 'lambda_l2': 0.0035347538263388258}. Best is trial 50 with value: 1.2607382393996627e-06.\n",
      "regularization_factors, val_score: 0.000001:  95%|#########5| 19/20 [00:06<00:00,  2.38it/s]"
     ]
    },
    {
     "name": "stdout",
     "output_type": "stream",
     "text": [
      "Early stopping, best iteration is:\n",
      "[221]\tvalid_0's binary_logloss: 1.46189e-06\n",
      "Training until validation scores don't improve for 50 rounds\n"
     ]
    },
    {
     "name": "stderr",
     "output_type": "stream",
     "text": [
      "regularization_factors, val_score: 0.000001: 100%|##########| 20/20 [00:06<00:00,  2.42it/s][I 2024-08-07 12:09:32,564] Trial 62 finished with value: 2.0518105931435447e-06 and parameters: {'lambda_l1': 8.663601962089021e-06, 'lambda_l2': 0.005493038387145207}. Best is trial 50 with value: 1.2607382393996627e-06.\n",
      "regularization_factors, val_score: 0.000001: 100%|##########| 20/20 [00:06<00:00,  2.95it/s]\n"
     ]
    },
    {
     "name": "stdout",
     "output_type": "stream",
     "text": [
      "Early stopping, best iteration is:\n",
      "[176]\tvalid_0's binary_logloss: 2.05181e-06\n"
     ]
    },
    {
     "name": "stderr",
     "output_type": "stream",
     "text": [
      "min_child_samples, val_score: 0.000001:   0%|          | 0/5 [00:00<?, ?it/s]"
     ]
    },
    {
     "name": "stdout",
     "output_type": "stream",
     "text": [
      "Training until validation scores don't improve for 50 rounds\n"
     ]
    },
    {
     "name": "stderr",
     "output_type": "stream",
     "text": [
      "min_child_samples, val_score: 0.000001:  20%|##        | 1/5 [00:01<00:04,  1.18s/it][I 2024-08-07 12:09:33,762] Trial 63 finished with value: 4.156526415183335e-06 and parameters: {'min_child_samples': 100}. Best is trial 63 with value: 4.156526415183335e-06.\n",
      "min_child_samples, val_score: 0.000001:  20%|##        | 1/5 [00:01<00:04,  1.18s/it]"
     ]
    },
    {
     "name": "stdout",
     "output_type": "stream",
     "text": [
      "Early stopping, best iteration is:\n",
      "[340]\tvalid_0's binary_logloss: 4.15653e-06\n",
      "Training until validation scores don't improve for 50 rounds\n"
     ]
    },
    {
     "name": "stderr",
     "output_type": "stream",
     "text": [
      "min_child_samples, val_score: 0.000001:  40%|####      | 2/5 [00:01<00:02,  1.19it/s][I 2024-08-07 12:09:34,358] Trial 64 finished with value: 1.3664556456410175e-06 and parameters: {'min_child_samples': 10}. Best is trial 64 with value: 1.3664556456410175e-06.\n",
      "min_child_samples, val_score: 0.000001:  40%|####      | 2/5 [00:01<00:02,  1.19it/s]"
     ]
    },
    {
     "name": "stdout",
     "output_type": "stream",
     "text": [
      "Early stopping, best iteration is:\n",
      "[137]\tvalid_0's binary_logloss: 1.36646e-06\n",
      "Training until validation scores don't improve for 50 rounds\n"
     ]
    },
    {
     "name": "stderr",
     "output_type": "stream",
     "text": [
      "min_child_samples, val_score: 0.000001:  60%|######    | 3/5 [00:02<00:01,  1.36it/s][I 2024-08-07 12:09:34,976] Trial 65 finished with value: 1.2682356737149834e-06 and parameters: {'min_child_samples': 25}. Best is trial 65 with value: 1.2682356737149834e-06.\n",
      "min_child_samples, val_score: 0.000001:  60%|######    | 3/5 [00:02<00:01,  1.36it/s]"
     ]
    },
    {
     "name": "stdout",
     "output_type": "stream",
     "text": [
      "Early stopping, best iteration is:\n",
      "[149]\tvalid_0's binary_logloss: 1.26824e-06\n",
      "Training until validation scores don't improve for 50 rounds\n"
     ]
    },
    {
     "name": "stderr",
     "output_type": "stream",
     "text": [
      "min_child_samples, val_score: 0.000001:  80%|########  | 4/5 [00:02<00:00,  1.53it/s][I 2024-08-07 12:09:35,553] Trial 66 finished with value: 1.4670301362813648e-06 and parameters: {'min_child_samples': 5}. Best is trial 65 with value: 1.2682356737149834e-06.\n",
      "min_child_samples, val_score: 0.000001:  80%|########  | 4/5 [00:02<00:00,  1.53it/s]"
     ]
    },
    {
     "name": "stdout",
     "output_type": "stream",
     "text": [
      "Early stopping, best iteration is:\n",
      "[133]\tvalid_0's binary_logloss: 1.46703e-06\n",
      "Training until validation scores don't improve for 50 rounds\n"
     ]
    },
    {
     "name": "stderr",
     "output_type": "stream",
     "text": [
      "min_child_samples, val_score: 0.000001: 100%|##########| 5/5 [00:03<00:00,  1.95it/s][I 2024-08-07 12:09:35,763] Trial 67 finished with value: 1.1149564171476875e-06 and parameters: {'min_child_samples': 50}. Best is trial 67 with value: 1.1149564171476875e-06.\n",
      "min_child_samples, val_score: 0.000001: 100%|##########| 5/5 [00:03<00:00,  1.57it/s]"
     ]
    },
    {
     "name": "stdout",
     "output_type": "stream",
     "text": [
      "Early stopping, best iteration is:\n",
      "[172]\tvalid_0's binary_logloss: 1.11496e-06\n"
     ]
    },
    {
     "name": "stderr",
     "output_type": "stream",
     "text": [
      "\n"
     ]
    }
   ],
   "source": [
    "optimizer = LGBOptunaOptimizer(\n",
    "    objective=\"binary\",\n",
    "    n_class=2,\n",
    ")\n",
    "\n",
    "# trainer = Trainer(\n",
    "trainer = S6GTrainer(\n",
    "    cat_cols=prepare_data.cat_cols,\n",
    "    target_col=prepare_data.target_col,\n",
    "    id_cols=id_cols,\n",
    "    objective=\"binary\",\n",
    "    n_class=2,\n",
    "    optimizer=optimizer,\n",
    "    preprocessors=[prepare_data],\n",
    ")\n",
    "\n",
    "metrics_dict = trainer.fit(\n",
    "    df_train=df_train,\n",
    "    df_valid=df_valid,\n",
    "    df_test=df_test,\n",
    ")"
   ]
  },
  {
   "cell_type": "code",
   "execution_count": 9,
   "metadata": {},
   "outputs": [
    {
     "data": {
      "text/html": [
       "<div>\n",
       "<style scoped>\n",
       "    .dataframe tbody tr th:only-of-type {\n",
       "        vertical-align: middle;\n",
       "    }\n",
       "\n",
       "    .dataframe tbody tr th {\n",
       "        vertical-align: top;\n",
       "    }\n",
       "\n",
       "    .dataframe thead th {\n",
       "        text-align: right;\n",
       "    }\n",
       "</style>\n",
       "<table border=\"1\" class=\"dataframe\">\n",
       "  <thead>\n",
       "    <tr style=\"text-align: right;\">\n",
       "      <th></th>\n",
       "      <th>Vehicle_speed</th>\n",
       "      <th>Time_since_engine_start</th>\n",
       "      <th>Normed_load_value</th>\n",
       "      <th>Accelerator_pedal_position</th>\n",
       "      <th>Engine_torque</th>\n",
       "      <th>Oil_fill_level</th>\n",
       "      <th>Engine_oil_temperature</th>\n",
       "      <th>Fuel_level</th>\n",
       "      <th>Fuel_consumption</th>\n",
       "      <th>Brake_pressure</th>\n",
       "      <th>Engaged_gear_raw_signal_Bits_0_7</th>\n",
       "      <th>Efficiency_of_the_SCR_catalytic_converter</th>\n",
       "      <th>timestamp</th>\n",
       "      <th>class</th>\n",
       "      <th>vehicle_id</th>\n",
       "    </tr>\n",
       "  </thead>\n",
       "  <tbody>\n",
       "    <tr>\n",
       "      <th>36</th>\n",
       "      <td>0.0</td>\n",
       "      <td>120.0</td>\n",
       "      <td>100.0</td>\n",
       "      <td>14.5</td>\n",
       "      <td>40.4</td>\n",
       "      <td>30.044</td>\n",
       "      <td>13.5</td>\n",
       "      <td>9.0</td>\n",
       "      <td>0.82</td>\n",
       "      <td>-0.03</td>\n",
       "      <td>0.0</td>\n",
       "      <td>0.00430</td>\n",
       "      <td>2024-08-07 11:09:54.837124109</td>\n",
       "      <td>1</td>\n",
       "      <td>123abc</td>\n",
       "    </tr>\n",
       "    <tr>\n",
       "      <th>126</th>\n",
       "      <td>0.0</td>\n",
       "      <td>255.0</td>\n",
       "      <td>27.8</td>\n",
       "      <td>14.5</td>\n",
       "      <td>36.5</td>\n",
       "      <td>29.924</td>\n",
       "      <td>19.8</td>\n",
       "      <td>9.0</td>\n",
       "      <td>0.73</td>\n",
       "      <td>-0.03</td>\n",
       "      <td>0.0</td>\n",
       "      <td>0.04614</td>\n",
       "      <td>2024-08-07 11:12:09.387124062</td>\n",
       "      <td>0</td>\n",
       "      <td>123abc</td>\n",
       "    </tr>\n",
       "    <tr>\n",
       "      <th>102</th>\n",
       "      <td>0.0</td>\n",
       "      <td>219.0</td>\n",
       "      <td>29.8</td>\n",
       "      <td>14.5</td>\n",
       "      <td>38.8</td>\n",
       "      <td>29.804</td>\n",
       "      <td>18.5</td>\n",
       "      <td>9.0</td>\n",
       "      <td>0.77</td>\n",
       "      <td>-0.03</td>\n",
       "      <td>0.0</td>\n",
       "      <td>0.00906</td>\n",
       "      <td>2024-08-07 11:11:33.537124157</td>\n",
       "      <td>0</td>\n",
       "      <td>123abc</td>\n",
       "    </tr>\n",
       "    <tr>\n",
       "      <th>81</th>\n",
       "      <td>0.0</td>\n",
       "      <td>187.0</td>\n",
       "      <td>100.0</td>\n",
       "      <td>14.5</td>\n",
       "      <td>39.6</td>\n",
       "      <td>29.864</td>\n",
       "      <td>17.1</td>\n",
       "      <td>9.0</td>\n",
       "      <td>0.80</td>\n",
       "      <td>-0.03</td>\n",
       "      <td>0.0</td>\n",
       "      <td>0.05289</td>\n",
       "      <td>2024-08-07 11:11:02.127124071</td>\n",
       "      <td>1</td>\n",
       "      <td>123abc</td>\n",
       "    </tr>\n",
       "    <tr>\n",
       "      <th>426</th>\n",
       "      <td>0.0</td>\n",
       "      <td>705.0</td>\n",
       "      <td>25.1</td>\n",
       "      <td>14.5</td>\n",
       "      <td>30.5</td>\n",
       "      <td>35.524</td>\n",
       "      <td>29.8</td>\n",
       "      <td>8.0</td>\n",
       "      <td>0.60</td>\n",
       "      <td>-0.03</td>\n",
       "      <td>0.0</td>\n",
       "      <td>0.08121</td>\n",
       "      <td>2024-08-07 11:19:39.907124043</td>\n",
       "      <td>0</td>\n",
       "      <td>123abc</td>\n",
       "    </tr>\n",
       "  </tbody>\n",
       "</table>\n",
       "</div>"
      ],
      "text/plain": [
       "     Vehicle_speed  Time_since_engine_start  Normed_load_value  \\\n",
       "36             0.0                    120.0              100.0   \n",
       "126            0.0                    255.0               27.8   \n",
       "102            0.0                    219.0               29.8   \n",
       "81             0.0                    187.0              100.0   \n",
       "426            0.0                    705.0               25.1   \n",
       "\n",
       "     Accelerator_pedal_position  Engine_torque  Oil_fill_level  \\\n",
       "36                         14.5           40.4          30.044   \n",
       "126                        14.5           36.5          29.924   \n",
       "102                        14.5           38.8          29.804   \n",
       "81                         14.5           39.6          29.864   \n",
       "426                        14.5           30.5          35.524   \n",
       "\n",
       "     Engine_oil_temperature  Fuel_level  Fuel_consumption  Brake_pressure  \\\n",
       "36                     13.5         9.0              0.82           -0.03   \n",
       "126                    19.8         9.0              0.73           -0.03   \n",
       "102                    18.5         9.0              0.77           -0.03   \n",
       "81                     17.1         9.0              0.80           -0.03   \n",
       "426                    29.8         8.0              0.60           -0.03   \n",
       "\n",
       "     Engaged_gear_raw_signal_Bits_0_7  \\\n",
       "36                                0.0   \n",
       "126                               0.0   \n",
       "102                               0.0   \n",
       "81                                0.0   \n",
       "426                               0.0   \n",
       "\n",
       "     Efficiency_of_the_SCR_catalytic_converter                     timestamp  \\\n",
       "36                                     0.00430 2024-08-07 11:09:54.837124109   \n",
       "126                                    0.04614 2024-08-07 11:12:09.387124062   \n",
       "102                                    0.00906 2024-08-07 11:11:33.537124157   \n",
       "81                                     0.05289 2024-08-07 11:11:02.127124071   \n",
       "426                                    0.08121 2024-08-07 11:19:39.907124043   \n",
       "\n",
       "     class vehicle_id  \n",
       "36       1     123abc  \n",
       "126      0     123abc  \n",
       "102      0     123abc  \n",
       "81       1     123abc  \n",
       "426      0     123abc  "
      ]
     },
     "execution_count": 9,
     "metadata": {},
     "output_type": "execute_result"
    }
   ],
   "source": [
    "df_test.head()"
   ]
  },
  {
   "cell_type": "code",
   "execution_count": 10,
   "metadata": {},
   "outputs": [],
   "source": [
    "# save/load trainer\n",
    "dill_dump(\"lgbm_trainer.dill\", trainer)\n",
    "trainer = dill_load(\"lgbm_trainer.dill\")"
   ]
  },
  {
   "cell_type": "code",
   "execution_count": 10,
   "metadata": {},
   "outputs": [
    {
     "name": "stdout",
     "output_type": "stream",
     "text": [
      "{'cls_report': {'0': {'f1-score': 1.0,\n",
      "                      'precision': 1.0,\n",
      "                      'recall': 1.0,\n",
      "                      'support': 35},\n",
      "                '1': {'f1-score': 1.0,\n",
      "                      'precision': 1.0,\n",
      "                      'recall': 1.0,\n",
      "                      'support': 10},\n",
      "                'accuracy': 1.0,\n",
      "                'macro avg': {'f1-score': 1.0,\n",
      "                              'precision': 1.0,\n",
      "                              'recall': 1.0,\n",
      "                              'support': 45},\n",
      "                'weighted avg': {'f1-score': 1.0,\n",
      "                                 'precision': 1.0,\n",
      "                                 'recall': 1.0,\n",
      "                                 'support': 45}},\n",
      " 'cm': [[35, 0], [0, 10]],\n",
      " 'prec_rec_curve': [[0.2222222222222222, 1.0, 1.0],\n",
      "                    [1.0, 1.0, 0.0],\n",
      "                    [0.0, 1.0]]}\n"
     ]
    }
   ],
   "source": [
    "pprint(metrics_dict)"
   ]
  },
  {
   "cell_type": "code",
   "execution_count": 11,
   "metadata": {},
   "outputs": [
    {
     "name": "stdout",
     "output_type": "stream",
     "text": [
      "{'cls_report': {'0': {'f1-score': 1.0,\n",
      "                      'precision': 1.0,\n",
      "                      'recall': 1.0,\n",
      "                      'support': 35},\n",
      "                '1': {'f1-score': 1.0,\n",
      "                      'precision': 1.0,\n",
      "                      'recall': 1.0,\n",
      "                      'support': 10},\n",
      "                'accuracy': 1.0,\n",
      "                'macro avg': {'f1-score': 1.0,\n",
      "                              'precision': 1.0,\n",
      "                              'recall': 1.0,\n",
      "                              'support': 45},\n",
      "                'weighted avg': {'f1-score': 1.0,\n",
      "                                 'precision': 1.0,\n",
      "                                 'recall': 1.0,\n",
      "                                 'support': 45}},\n",
      " 'cm': [[35, 0], [0, 10]],\n",
      " 'prec_rec_curve': [[0.2222222222222222, 1.0, 1.0],\n",
      "                    [1.0, 1.0, 0.0],\n",
      "                    [0.0, 1.0]]}\n"
     ]
    }
   ],
   "source": [
    "pprint(trainer.compute_metrics(df_test, with_dynamic_binary_threshold=True))"
   ]
  },
  {
   "cell_type": "code",
   "execution_count": 12,
   "metadata": {},
   "outputs": [
    {
     "data": {
      "text/plain": [
       "True"
      ]
     },
     "execution_count": 12,
     "metadata": {},
     "output_type": "execute_result"
    }
   ],
   "source": [
    "trainer.ready"
   ]
  },
  {
   "cell_type": "code",
   "execution_count": 15,
   "metadata": {},
   "outputs": [],
   "source": [
    "trainer.ready = True"
   ]
  },
  {
   "cell_type": "code",
   "execution_count": 16,
   "metadata": {},
   "outputs": [],
   "source": [
    "trainer.predict(df_test.drop(columns=[\"class\"]))"
   ]
  },
  {
   "cell_type": "code",
   "execution_count": 18,
   "metadata": {},
   "outputs": [
    {
     "data": {
      "text/plain": [
       "3"
      ]
     },
     "execution_count": 18,
     "metadata": {},
     "output_type": "execute_result"
    }
   ],
   "source": [
    "df_test_redis = df_test.copy()\n",
    "df_test_redis[\"timestamp\"] -= pd.to_timedelta(2, unit=\"h\")\n",
    "df_test_redis_json = df_test_redis.drop(columns=[\"class\"]).reset_index(drop=True).to_json(orient=\"split\")\n",
    "redisClient = redis.Redis(host=os.environ[\"REDIS_HOST\"], password=os.environ[\"REDIS_PASSWORD\"], port=os.environ[\"REDIS_PORT\"])\n",
    "\n",
    "\n",
    "time.sleep(2)  # Wait for a few seconds before publishing\n",
    "redisClient.publish(\"idneo_v2x\", df_test_redis_json)"
   ]
  },
  {
   "cell_type": "markdown",
   "metadata": {},
   "source": [
    "# Applicable only to `Trainer` object NOT `S6GTrainer`\n",
    "\n",
    "SUCCESS6G project requires subscription to an edge-Redis db channel to ingest the data, and directly forward the predictions to a central Influx database. Both Redis and InfluxDB are socket objects which cause issues with MLflow with the following error: `Full serialization error: cannot pickle 'socket' object`\n",
    "\n",
    "Workaround: [create a custom Kserve model](https://kserve.github.io/website/master/modelserving/v1beta1/custom/custom_model/#implement-custom-model-using-kserve-api)"
   ]
  },
  {
   "cell_type": "markdown",
   "metadata": {},
   "source": [
    "## Mlflow\n",
    "* tracking\n",
    "* model registration in Minio\n",
    "* [permanent experiment deletion](https://mlflow.org/docs/2.11.3/tracking/artifacts-stores.html?highlight=delete%20experiment#deletion-behavior)\n",
    "```\n",
    "# in python\n",
    "mlflow.get_experiment_by_name(\"success6g_lgbm\").experiment_id\n",
    "# in cmd\n",
    "mlflow experiments delete -x 1\n",
    "```"
   ]
  },
  {
   "cell_type": "code",
   "execution_count": 23,
   "metadata": {},
   "outputs": [
    {
     "data": {
      "text/plain": [
       "<Experiment: artifact_location='s3://mlflow/3', creation_time=1716388845676, experiment_id='3', last_update_time=1716388845676, lifecycle_stage='active', name='success6g', tags={}>"
      ]
     },
     "execution_count": 23,
     "metadata": {},
     "output_type": "execute_result"
    }
   ],
   "source": [
    "mlflow_host = \"10.152.183.54\"\n",
    "mlflow_host_url = \"mlflow.mlflow.svc.cluster.local\"\n",
    "mlflow_port = \"5000\"\n",
    "os.environ[\"AWS_ACCESS_KEY_ID\"] = \"minioadmin\"\n",
    "os.environ[\"AWS_SECRET_ACCESS_KEY\"] = \"minioadmin\"\n",
    "os.environ[\"MLFLOW_S3_ENDPOINT_URL\"] = f\"http://10.152.183.156:9000\"\n",
    "\n",
    "mlflow.set_tracking_uri(\"http://\" + mlflow_host + \":\" + mlflow_port)\n",
    "experiment_id = get_or_create_experiment(\"success6g\")\n",
    "mlflow.set_experiment(experiment_id=experiment_id)"
   ]
  },
  {
   "cell_type": "code",
   "execution_count": 24,
   "metadata": {},
   "outputs": [],
   "source": [
    "metrics_dict_flattened = flatten_dict(metrics_dict)\n",
    "# mlflow metrics can be only int, float not list\n",
    "del metrics_dict_flattened[\"cm\"]\n",
    "del metrics_dict_flattened[\"prec_rec_curve\"]"
   ]
  },
  {
   "cell_type": "code",
   "execution_count": 19,
   "metadata": {},
   "outputs": [],
   "source": [
    "run_name = \"test\"\n",
    "with mlflow.start_run(\n",
    "    experiment_id=experiment_id, run_name=run_name, nested=True\n",
    ") as run:\n",
    "    mlflow.log_params(trainer.optimizer.best)\n",
    "    mlflow.log_metrics(metrics_dict_flattened)\n",
    "\n",
    "    # Log tags\n",
    "    mlflow.set_tags(\n",
    "        tags={\n",
    "            \"project\": \"SUCCESS6G\",\n",
    "            \"optimizer_engine\": \"optuna\",\n",
    "            \"model_family\": \"ligtgbm\",\n",
    "            \"feature_set_version\": 1,\n",
    "        }\n",
    "    )\n",
    "    # Log figure - for future fun\n",
    "    # mlflow.log_figure(figure=correlation_plot, artifact_file=\"correlation_plot.png\")\n",
    "\n",
    "    artifact_path = \"success6g_model\"\n",
    "    registered_model_name = \"success6g_model\"\n",
    "    mlflow.pyfunc.log_model(\n",
    "        python_model=trainer,\n",
    "        artifact_path=artifact_path,\n",
    "        registered_model_name=registered_model_name,\n",
    "    )\n",
    "    model_uri = mlflow.get_artifact_uri(artifact_path)\n",
    "    print(f\"Run ID:\\n{run.info.run_id}\\nModel uri:\\n{model_uri}\")"
   ]
  },
  {
   "cell_type": "markdown",
   "metadata": {},
   "source": [
    "## Testing of predictions"
   ]
  },
  {
   "cell_type": "markdown",
   "metadata": {},
   "source": [
    "### Example data"
   ]
  },
  {
   "cell_type": "code",
   "execution_count": 30,
   "metadata": {},
   "outputs": [
    {
     "data": {
      "text/html": [
       "<div>\n",
       "<style scoped>\n",
       "    .dataframe tbody tr th:only-of-type {\n",
       "        vertical-align: middle;\n",
       "    }\n",
       "\n",
       "    .dataframe tbody tr th {\n",
       "        vertical-align: top;\n",
       "    }\n",
       "\n",
       "    .dataframe thead th {\n",
       "        text-align: right;\n",
       "    }\n",
       "</style>\n",
       "<table border=\"1\" class=\"dataframe\">\n",
       "  <thead>\n",
       "    <tr style=\"text-align: right;\">\n",
       "      <th></th>\n",
       "      <th>engine_load</th>\n",
       "      <th>engine_coolant_temp</th>\n",
       "      <th>engine_speed</th>\n",
       "      <th>vehicle_speed</th>\n",
       "      <th>intake_air_temp</th>\n",
       "      <th>maf</th>\n",
       "      <th>throttle_position</th>\n",
       "      <th>fuel_rg_pressure</th>\n",
       "      <th>barometric_pressure</th>\n",
       "      <th>control_voltage</th>\n",
       "      <th>class</th>\n",
       "      <th>car_id</th>\n",
       "    </tr>\n",
       "  </thead>\n",
       "  <tbody>\n",
       "    <tr>\n",
       "      <th>0</th>\n",
       "      <td>100.0</td>\n",
       "      <td>17.0</td>\n",
       "      <td>904.5</td>\n",
       "      <td>0.0</td>\n",
       "      <td>10.0</td>\n",
       "      <td>12.55</td>\n",
       "      <td>83.14</td>\n",
       "      <td>37270.0</td>\n",
       "      <td>101.0</td>\n",
       "      <td>0.06</td>\n",
       "      <td>1</td>\n",
       "      <td>123abc</td>\n",
       "    </tr>\n",
       "    <tr>\n",
       "      <th>1</th>\n",
       "      <td>100.0</td>\n",
       "      <td>17.0</td>\n",
       "      <td>906.0</td>\n",
       "      <td>0.0</td>\n",
       "      <td>11.0</td>\n",
       "      <td>12.36</td>\n",
       "      <td>83.14</td>\n",
       "      <td>37800.0</td>\n",
       "      <td>101.0</td>\n",
       "      <td>14.56</td>\n",
       "      <td>1</td>\n",
       "      <td>123abc</td>\n",
       "    </tr>\n",
       "  </tbody>\n",
       "</table>\n",
       "</div>"
      ],
      "text/plain": [
       "   engine_load  engine_coolant_temp  engine_speed  vehicle_speed  \\\n",
       "0        100.0                 17.0         904.5            0.0   \n",
       "1        100.0                 17.0         906.0            0.0   \n",
       "\n",
       "   intake_air_temp    maf  throttle_position  fuel_rg_pressure  \\\n",
       "0             10.0  12.55              83.14           37270.0   \n",
       "1             11.0  12.36              83.14           37800.0   \n",
       "\n",
       "   barometric_pressure  control_voltage  class  car_id  \n",
       "0                101.0             0.06      1  123abc  \n",
       "1                101.0            14.56      1  123abc  "
      ]
     },
     "execution_count": 30,
     "metadata": {},
     "output_type": "execute_result"
    }
   ],
   "source": [
    "df_pd.iloc[:2]"
   ]
  },
  {
   "cell_type": "code",
   "execution_count": 31,
   "metadata": {},
   "outputs": [],
   "source": [
    "# for testing using mlflow inference service\n",
    "request_dict = {\n",
    "    \"engine_load\": [100.0, 100.0],\n",
    "    \"engine_coolant_temp\": [17.0, 17.0],\n",
    "    \"engine_speed\": [904.5, 906.0],\n",
    "    \"vehicle_speed\": [0.0, 0.0],\n",
    "    \"intake_air_temp\": [10.0, 11.0],\n",
    "    \"maf\": [12.55, 12.36],\n",
    "    \"throttle_position\": [83.14, 83.14],\n",
    "    \"fuel_rg_pressure\": [37270.0, 37800.0],\n",
    "    \"barometric_pressure\": [101.0, 101.0],\n",
    "    \"control_voltage\": [0.06, 14.56],\n",
    "    \"class\": [1, 1],\n",
    "    \"car_id\": [\"123abc\", \"123abc\"],\n",
    "}"
   ]
  },
  {
   "cell_type": "markdown",
   "metadata": {},
   "source": [
    "### Trainer"
   ]
  },
  {
   "cell_type": "code",
   "execution_count": 32,
   "metadata": {},
   "outputs": [
    {
     "data": {
      "text/html": [
       "<div>\n",
       "<style scoped>\n",
       "    .dataframe tbody tr th:only-of-type {\n",
       "        vertical-align: middle;\n",
       "    }\n",
       "\n",
       "    .dataframe tbody tr th {\n",
       "        vertical-align: top;\n",
       "    }\n",
       "\n",
       "    .dataframe thead th {\n",
       "        text-align: right;\n",
       "    }\n",
       "</style>\n",
       "<table border=\"1\" class=\"dataframe\">\n",
       "  <thead>\n",
       "    <tr style=\"text-align: right;\">\n",
       "      <th></th>\n",
       "      <th>class</th>\n",
       "    </tr>\n",
       "  </thead>\n",
       "  <tbody>\n",
       "    <tr>\n",
       "      <th>0</th>\n",
       "      <td>14.269467</td>\n",
       "    </tr>\n",
       "    <tr>\n",
       "      <th>1</th>\n",
       "      <td>14.269467</td>\n",
       "    </tr>\n",
       "  </tbody>\n",
       "</table>\n",
       "</div>"
      ],
      "text/plain": [
       "       class\n",
       "0  14.269467\n",
       "1  14.269467"
      ]
     },
     "execution_count": 32,
     "metadata": {},
     "output_type": "execute_result"
    }
   ],
   "source": [
    "trainer.predict(df=df_pd.iloc[:2].drop(columns=[\"class\"]), context={})"
   ]
  },
  {
   "cell_type": "markdown",
   "metadata": {},
   "source": [
    "### Downloaded Trainer"
   ]
  },
  {
   "cell_type": "code",
   "execution_count": 33,
   "metadata": {},
   "outputs": [
    {
     "data": {
      "text/plain": [
       "'s3://mlflow/3/24fedb96c5004767800fa32a3220c8dd/artifacts/success6g_model'"
      ]
     },
     "execution_count": 33,
     "metadata": {},
     "output_type": "execute_result"
    }
   ],
   "source": [
    "model_uri"
   ]
  },
  {
   "cell_type": "code",
   "execution_count": 34,
   "metadata": {},
   "outputs": [
    {
     "data": {
      "application/vnd.jupyter.widget-view+json": {
       "model_id": "906c0950bfb2435aa8d4b2be36f8b810",
       "version_major": 2,
       "version_minor": 0
      },
      "text/plain": [
       "Downloading artifacts:   0%|          | 0/9 [00:00<?, ?it/s]"
      ]
     },
     "metadata": {},
     "output_type": "display_data"
    }
   ],
   "source": [
    "loaded_trainer = mlflow.pyfunc.load_model(model_uri)"
   ]
  },
  {
   "cell_type": "code",
   "execution_count": 35,
   "metadata": {},
   "outputs": [
    {
     "data": {
      "text/html": [
       "<div>\n",
       "<style scoped>\n",
       "    .dataframe tbody tr th:only-of-type {\n",
       "        vertical-align: middle;\n",
       "    }\n",
       "\n",
       "    .dataframe tbody tr th {\n",
       "        vertical-align: top;\n",
       "    }\n",
       "\n",
       "    .dataframe thead th {\n",
       "        text-align: right;\n",
       "    }\n",
       "</style>\n",
       "<table border=\"1\" class=\"dataframe\">\n",
       "  <thead>\n",
       "    <tr style=\"text-align: right;\">\n",
       "      <th></th>\n",
       "      <th>class</th>\n",
       "    </tr>\n",
       "  </thead>\n",
       "  <tbody>\n",
       "    <tr>\n",
       "      <th>0</th>\n",
       "      <td>14.269467</td>\n",
       "    </tr>\n",
       "    <tr>\n",
       "      <th>1</th>\n",
       "      <td>14.269467</td>\n",
       "    </tr>\n",
       "  </tbody>\n",
       "</table>\n",
       "</div>"
      ],
      "text/plain": [
       "       class\n",
       "0  14.269467\n",
       "1  14.269467"
      ]
     },
     "execution_count": 35,
     "metadata": {},
     "output_type": "execute_result"
    }
   ],
   "source": [
    "loaded_trainer.predict(df_pd.iloc[:2].drop(columns=[\"class\"]))"
   ]
  },
  {
   "cell_type": "markdown",
   "metadata": {},
   "source": [
    "### Downloaded/Served Trainer\n",
    "* i.e. testing [model locally](https://mlflow.org/docs/latest/deployment/deploy-model-to-kubernetes/tutorial.html?highlight=kserve#step-6-testing-model-serving-locally)"
   ]
  },
  {
   "cell_type": "code",
   "execution_count": 36,
   "metadata": {},
   "outputs": [
    {
     "data": {
      "text/plain": [
       "'s3://mlflow/3/24fedb96c5004767800fa32a3220c8dd/artifacts/success6g_model'"
      ]
     },
     "execution_count": 36,
     "metadata": {},
     "output_type": "execute_result"
    }
   ],
   "source": [
    "model_uri"
   ]
  },
  {
   "cell_type": "code",
   "execution_count": null,
   "metadata": {},
   "outputs": [
    {
     "name": "stdout",
     "output_type": "stream",
     "text": [
      "Downloading artifacts: 100%|████████████████████| 1/1 [00:00<00:00, 2088.80it/s]\n",
      "2024/05/22 14:45:07 INFO mlflow.models.flavor_backend_registry: Selected backend for flavor 'python_function'\n",
      "Downloading artifacts: 100%|██████████████████████| 9/9 [00:00<00:00, 69.72it/s]\n",
      "2024/05/22 14:45:07 INFO mlflow.pyfunc.backend: === Running command 'exec gunicorn --timeout=60 -b 127.0.0.1:5000 -w 1 ${GUNICORN_CMD_ARGS} -- mlflow.pyfunc.scoring_server.wsgi:app'\n",
      "[2024-05-22 14:45:07 +0000] [17971] [INFO] Starting gunicorn 22.0.0\n",
      "[2024-05-22 14:45:07 +0000] [17971] [INFO] Listening at: http://127.0.0.1:5000 (17971)\n",
      "[2024-05-22 14:45:07 +0000] [17971] [INFO] Using worker: sync\n",
      "[2024-05-22 14:45:07 +0000] [17972] [INFO] Booting worker with pid: 17972\n"
     ]
    }
   ],
   "source": [
    "! mlflow models serve -m \"s3://mlflow/3/24fedb96c5004767800fa32a3220c8dd/artifacts/success6g_model\" --env-manager local -p 5000"
   ]
  },
  {
   "cell_type": "markdown",
   "metadata": {
    "jp-MarkdownHeadingCollapsed": true
   },
   "source": [
    "```\n",
    "root@jupyter-5uperpalo:~/assignment# curl -X POST -H \"Content-Type:application/json\" --data '{\"inputs\": {\"engine_load\": [100.0 ,100.0], \"engine_coolant_temp\": [17.0, 17.0], \"engine_speed\": [904.5, 906.0], \"vehicle_speed\": [0.0, 0.0], \"intake_air_temp\": [10.0, 11.0], \"maf\": [12.55, 12.36], \"throttle_position\": [83.14, 83.14], \"fuel_rg_pressure\": [37270.0, 37800.0], \"barometric_pressure\": [101.0, 101.0], \"control_voltage\": [0.06, 14.56], \"car_id\": [\"123abc\", \"123abc\"]}}' http://127.0.0.1:5000/invocations\n",
    "{\"predictions\": [{\"class\": 14.26946728558632}, {\"class\": 14.26946728558632}]}\n",
    "```"
   ]
  },
  {
   "cell_type": "markdown",
   "metadata": {},
   "source": [
    "## Model deployment using Kserve\n",
    "* https://mlflow.org/docs/latest/deployment/deploy-model-to-kubernetes/tutorial.html?highlight=kserve#step-7-deploying-the-model-to-kserve"
   ]
  },
  {
   "cell_type": "markdown",
   "metadata": {},
   "source": [
    "### Using `model_uri` \n",
    "\n",
    "* since I configured minio as artifact store I can use `model_uri` - I was **WRONG!**\n",
    "\n",
    "procedure:\n",
    "<details><summary>make sure the kserve is able to reach minio</summary>\n",
    "\n",
    "*  by [defining s3-secret and attaching it to service account](https://kserve.github.io/website/0.7/modelserving/storage/s3/s3/#create-s3-secret)\n",
    "* created ServiceAccount must be in a same namespace as the InferenceService we are going to create, [e.g. stackoverflow here](https://stackoverflow.com/a/70977798)\n",
    "* `If an application does not specify a serviceAccountName, it uses the \"default\" service account.`[e.g. here](https://kubernetes.io/docs/reference/access-authn-authz/rbac/#role-binding-examples)\n",
    "\n",
    "```\n",
    "apiVersion: v1\n",
    "kind: Secret\n",
    "metadata:\n",
    "  name: s3creds\n",
    "  namespace: mlflow-kserve-success6g\n",
    "  annotations:\n",
    "     serving.kserve.io/s3-endpoint: 10.152.183.156:9000 # replace with your s3 endpoint e.g minio-service.kubeflow:9000\n",
    "     serving.kserve.io/s3-usehttps: \"0\" # by default 1, if testing with minio you can set to 0\n",
    "     # serving.kserve.io/s3-region: \"us-east-2\"\n",
    "     serving.kserve.io/s3-useanoncredential: \"false\" # omitting this is the same as false, if true will ignore provided credential and use anonymous credentials\n",
    "type: Opaque\n",
    "stringData: # use `stringData` for raw credential string or `data` for base64 encoded string\n",
    "  AWS_ACCESS_KEY_ID: \"minioadmin\"\n",
    "  AWS_SECRET_ACCESS_KEY: \"minioadmin\"\n",
    "```\n",
    "\n",
    "`kubectl apply -f create-s3-secret.yaml`\n",
    "\n",
    "</details>\n",
    "<details><summary>create namespace</summary>\n",
    "\n",
    "```\n",
    "kubectl create namespace mlflow-kserve-success6g\n",
    "namespace/mlflow-kserve-success6g created\n",
    "```\n",
    "\n",
    "</details>\n",
    "<details><summary>specify configuration of the deployment in the file `mlflow-kserve-success6g_model_uri.yaml`</summary>\n",
    "\n",
    "```\n",
    "apiVersion: \"serving.kserve.io/v1beta1\"\n",
    "kind: \"InferenceService\"\n",
    "metadata:\n",
    "  name: \"mlflow-success6g\"\n",
    "  namespace: \"mlflow-kserve-success6g\"\n",
    "spec:\n",
    "  predictor:\n",
    "    model:\n",
    "      modelFormat:\n",
    "        name: mlflow\n",
    "      protocolVersion: v2\n",
    "      storageUri: \"s3://mlflow/1/777cf64c922149a4b77c85987865deb0/artifacts/success6g_model\"\n",
    "```\n",
    "\n",
    "</details>\n",
    "<details><summary>deploy</summary>\n",
    "\n",
    "```\n",
    "kubectl apply -f mlflow-kserve-success6g.yaml\n",
    "inferenceservice.serving.kserve.io/mlflow-success6g created\n",
    "```\n",
    "</details>\n",
    "<details><summary>check the status of the deployment</summary>\n",
    "\n",
    "`kubectl get inferenceservice mlflow-success6g`\n",
    "\n",
    "</details>\n",
    "<details><summary>specify testing json in `test-input.json`</summary>\n",
    "\n",
    "```\n",
    "{\n",
    "    \"inputs\": [\n",
    "      {\n",
    "        \"name\": \"input\",\n",
    "        \"shape\": [13],\n",
    "        \"datatype\": \"FP32\",\n",
    "        \"data\": {\n",
    "\t\t\t\"engine_load\": [100.0 ,100.0],\n",
    "\t\t\t\"engine_coolant_temp\": [17.0, 17.0],\n",
    "\t\t\t\"engine_speed\": [904.5, 906.0],\n",
    "\t\t\t\"vehicle_speed\": [0.0, 0.0],\n",
    "\t\t\t\"intake_air_temp\": [10.0, 11.0],\n",
    "\t\t\t\"maf\": [12.55, 12.36],\n",
    "\t\t\t\"throttle_position\": [83.14, 83.14],\n",
    "\t\t\t\"fuel_rg_pressure\": [37270.0, 37800.0],\n",
    "\t\t\t\"barometric_pressure\": [101.0, 101.0],\n",
    "\t\t\t\"control_voltage\": [0.06, 14.56],\n",
    "\t\t\t\"car_id\": [\"123abc\", \"123abc\"],\n",
    "\t\t\t}\n",
    "      }\n",
    "    ]\n",
    "}\n",
    "```\n",
    "\n",
    "</details>\n",
    "<details><summary>test json</summary>\n",
    "\n",
    "```\n",
    "SERVICE_HOSTNAME=$(kubectl get inferenceservice mlflow-success6g -n mlflow-kserve-success6g -o jsonpath='{.status.url}' | cut -d \"/\" -f 3)\n",
    "curl -v \\\n",
    "  -H \"Host: ${SERVICE_HOSTNAME}\" \\\n",
    "  -H \"Content-Type: application/json\" \\\n",
    "  -d @./test-input.json \\\n",
    "  http://${INGRESS_HOST}:${INGRESS_PORT}/v2/models/mlflow-success6g/infer\n",
    "```\n",
    "\n",
    "</details>\n",
    "<details><summary>but after all the trouble this can still fail if you developed the model in different python version than kserve is using</summary>\n",
    "\n",
    "```\n",
    "pmulinka@saiacheron:~/kubernetes/kserve$ kubectl logs -p mlflow-success6g-predictor-00001-deployment-74ccf4fb5d-lktz9 -n mlflow-kserve-success6g\n",
    "Defaulted container \"kserve-container\" out of: kserve-container, queue-proxy, storage-initializer (init)\n",
    "Environment tarball not found at '/mnt/models/environment.tar.gz'\n",
    "Environment not found at './envs/environment'\n",
    "2024-05-16 15:32:55,293 [mlserver.parallel] DEBUG - Starting response processing loop...\n",
    "2024-05-16 15:32:55,298 [mlserver.rest] INFO - HTTP server running on http://0.0.0.0:8080\n",
    "INFO:     Started server process [1]\n",
    "INFO:     Waiting for application startup.\n",
    "2024-05-16 15:32:55,411 [mlserver.metrics] INFO - Metrics server running on http://0.0.0.0:8082\n",
    "2024-05-16 15:32:55,412 [mlserver.metrics] INFO - Prometheus scraping endpoint can be accessed on http://0.0.0.0:8082/metrics\n",
    "INFO:     Started server process [1]\n",
    "INFO:     Waiting for application startup.\n",
    "INFO:     Application startup complete.\n",
    "2024-05-16 15:32:57,613 [mlserver.grpc] INFO - gRPC server running on http://0.0.0.0:9000\n",
    "INFO:     Application startup complete.\n",
    "INFO:     Uvicorn running on http://0.0.0.0:8080 (Press CTRL+C to quit)\n",
    "INFO:     Uvicorn running on http://0.0.0.0:8082 (Press CTRL+C to quit)\n",
    "2024/05/16 15:32:58 WARNING mlflow.pyfunc: Detected one or more mismatches between the model's dependencies and the current Python environment:\n",
    " - mlflow (current: 2.3.1, required: mlflow==2.12.2)\n",
    " - cryptography (current: 38.0.4, required: cryptography==40.0.2)\n",
    " - cytoolz (current: uninstalled, required: cytoolz==0.12.0)\n",
    " - defusedxml (current: uninstalled, required: defusedxml==0.7.1)\n",
    " - distributed (current: uninstalled, required: distributed==2023.5.1)\n",
    " - lightgbm (current: 3.3.5, required: lightgbm==4.3.0)\n",
    " - lz4 (current: uninstalled, required: lz4==4.3.2)\n",
    " - numpy (current: 1.23.5, required: numpy==1.24.3)\n",
    " - optuna-integration (current: uninstalled, required: optuna-integration==3.6.0)\n",
    " - pandas (current: 2.0.1, required: pandas==2.2.2)\n",
    " - pyarrow (current: 11.0.0, required: pyarrow==12.0.0)\n",
    " - redis (current: uninstalled, required: redis==5.0.4)\n",
    " - scipy (current: 1.9.1, required: scipy==1.10.1)\n",
    "To fix the mismatches, call `mlflow.pyfunc.get_model_dependencies(model_uri)` to fetch the model's environment and install dependencies using the resulting environment file.\n",
    "2024/05/16 15:32:58 WARNING mlflow.pyfunc: The version of Python that the model was saved in, `Python 3.10.11`, differs from the version of Python that is currently running, `Python 3.8.16`, and may be incompatible\n",
    "2024-05-16 15:32:58,967 [mlserver] INFO - Couldn't load model 'mlflow-success6g'. Model will be removed from registry.\n",
    "2024-05-16 15:32:58,967 [mlserver.parallel] ERROR - An error occurred processing a model update of type 'Load'.\n",
    "Traceback (most recent call last):\n",
    "  File \"/opt/conda/lib/python3.8/site-packages/mlserver/parallel/worker.py\", line 158, in _process_model_update\n",
    "    await self._model_registry.load(model_settings)\n",
    "  File \"/opt/conda/lib/python3.8/site-packages/mlserver/registry.py\", line 293, in load\n",
    "    return await self._models[model_settings.name].load(model_settings)\n",
    "  File \"/opt/conda/lib/python3.8/site-packages/mlserver/registry.py\", line 148, in load\n",
    "    await self._load_model(new_model)\n",
    "  File \"/opt/conda/lib/python3.8/site-packages/mlserver/registry.py\", line 165, in _load_model\n",
    "    model.ready = await model.load()\n",
    "  File \"/opt/conda/lib/python3.8/site-packages/mlserver_mlflow/runtime.py\", line 155, in load\n",
    "    self._model = mlflow.pyfunc.load_model(model_uri)\n",
    "  File \"/opt/conda/lib/python3.8/site-packages/mlflow/pyfunc/__init__.py\", line 596, in load_model\n",
    "    model_impl = importlib.import_module(conf[MAIN])._load_pyfunc(data_path)\n",
    "  File \"/opt/conda/lib/python3.8/site-packages/mlflow/pyfunc/model.py\", line 291, in _load_pyfunc\n",
    "    python_model = cloudpickle.load(f)\n",
    "ModuleNotFoundError: No module named 'inference_model'\n",
    "2024-05-16 15:32:58,970 [mlserver] INFO - Couldn't load model 'mlflow-success6g'. Model will be removed from registry.\n",
    "2024-05-16 15:32:58,975 [mlserver.parallel] ERROR - An error occurred processing a model update of type 'Unload'.\n",
    "Traceback (most recent call last):\n",
    "  File \"/opt/conda/lib/python3.8/site-packages/mlserver/parallel/worker.py\", line 160, in _process_model_update\n",
    "    await self._model_registry.unload_version(\n",
    "  File \"/opt/conda/lib/python3.8/site-packages/mlserver/registry.py\", line 302, in unload_version\n",
    "    await model_registry.unload_version(version)\n",
    "  File \"/opt/conda/lib/python3.8/site-packages/mlserver/registry.py\", line 201, in unload_version\n",
    "    model = await self.get_model(version)\n",
    "  File \"/opt/conda/lib/python3.8/site-packages/mlserver/registry.py\", line 237, in get_model\n",
    "    raise ModelNotFound(self._name, version)\n",
    "mlserver.errors.ModelNotFound: Model mlflow-success6g not found\n",
    "2024-05-16 15:32:58,976 [mlserver] ERROR - Some of the models failed to load during startup!\n",
    "Traceback (most recent call last):\n",
    "  File \"/opt/conda/lib/python3.8/site-packages/mlserver/server.py\", line 125, in start\n",
    "    await asyncio.gather(\n",
    "  File \"/opt/conda/lib/python3.8/site-packages/mlserver/registry.py\", line 293, in load\n",
    "    return await self._models[model_settings.name].load(model_settings)\n",
    "  File \"/opt/conda/lib/python3.8/site-packages/mlserver/registry.py\", line 148, in load\n",
    "    await self._load_model(new_model)\n",
    "  File \"/opt/conda/lib/python3.8/site-packages/mlserver/registry.py\", line 161, in _load_model\n",
    "    model = await callback(model)\n",
    "  File \"/opt/conda/lib/python3.8/site-packages/mlserver/parallel/registry.py\", line 152, in load_model\n",
    "    loaded = await pool.load_model(model)\n",
    "  File \"/opt/conda/lib/python3.8/site-packages/mlserver/parallel/pool.py\", line 74, in load_model\n",
    "    await self._dispatcher.dispatch_update(load_message)\n",
    "  File \"/opt/conda/lib/python3.8/site-packages/mlserver/parallel/dispatcher.py\", line 123, in dispatch_update\n",
    "    return await asyncio.gather(\n",
    "  File \"/opt/conda/lib/python3.8/site-packages/mlserver/parallel/dispatcher.py\", line 138, in _dispatch_update\n",
    "    return await self._dispatch(worker_update)\n",
    "  File \"/opt/conda/lib/python3.8/site-packages/mlserver/parallel/dispatcher.py\", line 146, in _dispatch\n",
    "    return await self._wait_response(internal_id)\n",
    "  File \"/opt/conda/lib/python3.8/site-packages/mlserver/parallel/dispatcher.py\", line 152, in _wait_response\n",
    "    inference_response = await async_response\n",
    "mlserver.parallel.errors.WorkerError: builtins.ModuleNotFoundError: No module named 'inference_model'\n",
    "2024-05-16 15:32:58,978 [mlserver.parallel] INFO - Waiting for shutdown of default inference pool...\n",
    "2024-05-16 15:32:59,163 [mlserver.parallel] INFO - Shutdown of default inference pool complete\n",
    "2024-05-16 15:32:59,163 [mlserver.grpc] INFO - Waiting for gRPC server shutdown\n",
    "2024-05-16 15:32:59,169 [mlserver.grpc] INFO - gRPC server shutdown complete\n",
    "INFO:     Shutting down\n",
    "INFO:     Shutting down\n",
    "INFO:     Waiting for application shutdown.\n",
    "INFO:     Application shutdown complete.\n",
    "INFO:     Finished server process [1]\n",
    "INFO:     Waiting for application shutdown.\n",
    "INFO:     Application shutdown complete.\n",
    "INFO:     Finished server process [1]\n",
    "```\n",
    "\n",
    "</details>\n",
    "<details><summary>and some possible readiness probe issues</summary>\n",
    "\n",
    "* apparently I am not alone in this, e.g. [here](https://stackoverflow.com/questions/62569747/ml-model-pod-keeps-restarting-in-seldon-deployment)\n",
    "```\n",
    "pmulinka@saiacheron:~/kubernetes/kserve$ kubectl describe pod mlflow-success6g-predictor-00001-deployment-74ccf4fb5d-lktz9 -n mlflow-kserve-success6g\n",
    "Events:\n",
    "  Type     Reason     Age                    From     Message\n",
    "  ----     ------     ----                   ----     -------\n",
    "  Warning  Unhealthy  4m11s (x268 over 34m)  kubelet  Readiness probe failed: Get \"http://10.1.4.204:8012/\": context deadline exceeded (Client.Timeout exceeded while awaiting headers)\n",
    "```\n",
    "</details>"
   ]
  },
  {
   "cell_type": "markdown",
   "metadata": {},
   "source": [
    "### Using docker image\n",
    "<details><summary>create docker</summary>\n",
    "\n",
    "```\n",
    "sudo apt-get install python3.10-venv\n",
    "python3.10 -m venv python310venv\n",
    "source python310venv/bin/activate\n",
    "pip install mlflow\n",
    "pip install boto3\n",
    "export AWS_ACCESS_KEY_ID=minioadmin\n",
    "export AWS_SECRET_ACCESS_KEY=minioadmin\n",
    "export MLFLOW_S3_ENDPOINT_URL=http://10.152.183.156:9000\n",
    "\n",
    "mlflow models build-docker -m s3://mlflow/1/777cf64c922149a4b77c85987865deb0/artifacts/success6g_model -n 5uperpalo/mlflow-success6g --enable-mlserver\n",
    "```\n",
    "</details>\n",
    "<details><summary>generate token and login to DockerHub, </summary>\n",
    "\n",
    "[generate DockerHub token](https://hub.docker.com/settings/security?generateToken=true) and login\n",
    "```\n",
    "(python310venv) pmulinka@iesc-gpu3:~/scripts$ docker login  -u 5uperpalo\n",
    "Password:\n",
    "WARNING! Your password will be stored unencrypted in /home/pmulinka/.docker/config.json.\n",
    "Configure a credential helper to remove this warning. See\n",
    "https://docs.docker.com/engine/reference/commandline/login/#credentials-store\n",
    "\n",
    "Login Succeeded\n",
    "```\n",
    "</details>\n",
    "<details><summary>push the image to dockerhub</summary>\n",
    "\n",
    "```\n",
    "(python310venv) pmulinka@iesc-gpu3:~/scripts$ docker push 5uperpalo/mlflow-success6g\n",
    "Using default tag: latest\n",
    "The push refers to repository [docker.io/5uperpalo/mlflow-success6g]\n",
    "e5f76b582f6c: Pushed\n",
    "624821c51019: Pushed\n",
    "93256a85bb86: Pushed\n",
    "2f62dcdb5ae7: Pushed\n",
    "1146ddf03b42: Pushed\n",
    "639ddc87d13f: Pushed\n",
    "4f18e59d57c4: Pushed\n",
    "5761e01a334a: Pushed\n",
    "f31b6bde159a: Pushed\n",
    "c25ef1a18d31: Pushed\n",
    "40a774d6610c: Pushed\n",
    "a2b215b4258b: Pushed\n",
    "b56a9203d2a0: Pushed\n",
    "2536dbfb2294: Pushed\n",
    "67ea405a7d49: Pushed\n",
    "a81c3606ee5c: Pushed\n",
    "4a1518ebc26e: Mounted from library/ubuntu\n",
    "latest: digest: sha256:57f653a3c8d63519c07dccffc6eb12dba5006db07ebcd869467ce752fb1b0bda size: 3899\n",
    "```\n",
    "</details>\n",
    "\n",
    "<details><summary>specify configuration of the deployment in the file `mlflow-kserve-success6g_model_uri.yaml`</summary>\n",
    "\n",
    "```\n",
    "apiVersion: \"serving.kserve.io/v1beta1\"\n",
    "kind: \"InferenceService\"\n",
    "metadata:\n",
    "  name: \"mlflow-success6g\"\n",
    "  namespace: \"mlflow-kserve-success6g\"\n",
    "spec:\n",
    "  predictor:\n",
    "    containers:\n",
    "      - name: \"mlflow-success6g\"\n",
    "        image: \"5uperpalo/mlflow-success6g\"\n",
    "        ports:\n",
    "          - containerPort: 8080\n",
    "            protocol: TCP\n",
    "              #env:\n",
    "              #- name: PROTOCOL\n",
    "              #value: \"v2\"\n",
    "        resources:\n",
    "          limits:\n",
    "            cpu: 2\n",
    "            memory: 8Gi\n",
    "          requests:\n",
    "            cpu: 2\n",
    "            memory: 8Gi\n",
    "```\n",
    "</details>\n",
    "<details><summary>deploy</summary>\n",
    "\n",
    "```\n",
    "pmulinka@saiacheron:~/kubernetes/kserve$ kubectl apply -f mlflow-kserve-success6g_docker_image.yaml\n",
    "inferenceservice.serving.kserve.io/mlflow-success6g created\n",
    "```\n",
    "</details>\n",
    "<details><summary>check status of deployment</summary>\n",
    "\n",
    "```\n",
    "pmulinka@saiacheron:~$ kubectl get inferenceservice -n mlflow-kserve-success6g\n",
    "NAME               URL                                                                 READY   PREV   LATEST   PREVROLLEDOUTREVISION   LATESTREADYREVISION                AGE\n",
    "mlflow-success6g   http://mlflow-success6g.mlflow-kserve-success6g.svc.cluster.local   False          100                              mlflow-success6g-predictor-00001   6m4s\n",
    "\n",
    "pmulinka@saiacheron:~$ kubectl get pods -n mlflow-kserve-success6g\n",
    "NAME                                                           READY   STATUS    RESTARTS        AGE\n",
    "mlflow-success6g-predictor-00001-deployment-8694fffb55-9wnb7   2/2     Running   1 (2m14s ago)   4m47s\n",
    "\n",
    "\n",
    "pmulinka@saiacheron:~$ kubectl get inferenceservice mlflow-success6g -n mlflow-kserve-success6g -o yaml\n",
    "apiVersion: serving.kserve.io/v1beta1\n",
    "kind: InferenceService\n",
    "metadata:\n",
    "  annotations:\n",
    "    kubectl.kubernetes.io/last-applied-configuration: |\n",
    "      {\"apiVersion\":\"serving.kserve.io/v1beta1\",\"kind\":\"InferenceService\",\"metadata\":{\"annotations\":{},\"name\":\"mlflow-success6g\",\"namespace\":\"mlflow-kserve-success6g\"},\"spec\":{\"predictor\":{\"containers\":[{\"image\":\"5uperpalo/mlflow-success6g\",\"name\":\"mlflow-success6g\",\"ports\":[{\"containerPort\":8080,\"protocol\":\"TCP\"}],\"resources\":{\"limits\":{\"cpu\":2,\"memory\":\"8Gi\"},\"requests\":{\"cpu\":2,\"memory\":\"8Gi\"}}}]}}}\n",
    "  creationTimestamp: \"2024-05-28T14:33:05Z\"\n",
    "  finalizers:\n",
    "  - inferenceservice.finalizers\n",
    "  generation: 1\n",
    "  name: mlflow-success6g\n",
    "  namespace: mlflow-kserve-success6g\n",
    "  resourceVersion: \"76010518\"\n",
    "  uid: b9573ff3-0f67-4650-a0c7-51941a0fffe2\n",
    "spec:\n",
    "  predictor:\n",
    "    containers:\n",
    "    - image: 5uperpalo/mlflow-success6g\n",
    "      name: kserve-container\n",
    "      ports:\n",
    "      - containerPort: 8080\n",
    "        protocol: TCP\n",
    "      resources:\n",
    "        limits:\n",
    "          cpu: \"2\"\n",
    "          memory: 8Gi\n",
    "        requests:\n",
    "          cpu: \"2\"\n",
    "          memory: 8Gi\n",
    "status:\n",
    "  address:\n",
    "    url: http://mlflow-success6g.mlflow-kserve-success6g.svc.cluster.local\n",
    "  components:\n",
    "    predictor:\n",
    "      address:\n",
    "        url: http://mlflow-success6g-predictor.mlflow-kserve-success6g.svc.cluster.local\n",
    "      latestCreatedRevision: mlflow-success6g-predictor-00001\n",
    "      latestReadyRevision: mlflow-success6g-predictor-00001\n",
    "      latestRolledoutRevision: mlflow-success6g-predictor-00001\n",
    "      traffic:\n",
    "      - latestRevision: true\n",
    "        percent: 100\n",
    "        revisionName: mlflow-success6g-predictor-00001\n",
    "      url: http://mlflow-success6g-predictor.mlflow-kserve-success6g.svc.cluster.local\n",
    "  conditions:\n",
    "  - lastTransitionTime: \"2024-05-28T14:36:11Z\"\n",
    "    reason: Predictor ingress not created\n",
    "    status: \"False\"\n",
    "    type: IngressReady\n",
    "  - lastTransitionTime: \"2024-05-28T14:36:11Z\"\n",
    "    reason: PredictorConfigurationReady not ready\n",
    "    severity: Info\n",
    "    status: \"False\"\n",
    "    type: LatestDeploymentReady\n",
    "  - lastTransitionTime: \"2024-05-28T14:36:11Z\"\n",
    "    message: 'Revision \"mlflow-success6g-predictor-00001\" failed with message: Container\n",
    "      failed with: container exited with no error.'\n",
    "    reason: RevisionFailed\n",
    "    severity: Info\n",
    "    status: \"False\"\n",
    "    type: PredictorConfigurationReady\n",
    "  - lastTransitionTime: \"2024-05-28T14:36:11Z\"\n",
    "    message: Revision \"mlflow-success6g-predictor-00001\" failed to become ready.\n",
    "    reason: RevisionMissing\n",
    "    status: \"False\"\n",
    "    type: PredictorReady\n",
    "  - lastTransitionTime: \"2024-05-28T14:36:11Z\"\n",
    "    message: Revision \"mlflow-success6g-predictor-00001\" failed to become ready.\n",
    "    reason: RevisionMissing\n",
    "    severity: Info\n",
    "    status: \"False\"\n",
    "    type: PredictorRouteReady\n",
    "  - lastTransitionTime: \"2024-05-28T14:36:11Z\"\n",
    "    reason: Predictor ingress not created\n",
    "    status: \"False\"\n",
    "    type: Ready\n",
    "  - lastTransitionTime: \"2024-05-28T14:36:11Z\"\n",
    "    reason: PredictorRouteReady not ready\n",
    "    severity: Info\n",
    "    status: \"False\"\n",
    "    type: RoutesReady\n",
    "  modelStatus:\n",
    "    copies:\n",
    "      failedCopies: 0\n",
    "      totalCopies: 1\n",
    "    states:\n",
    "      activeModelState: Loaded\n",
    "      targetModelState: Pending\n",
    "    transitionStatus: InProgress\n",
    "  observedGeneration: 1\n",
    "  url: http://mlflow-success6g.mlflow-kserve-success6g.svc.cluster.local\n",
    "\n",
    "pmulinka@saiacheron:~/kubernetes/kserve$ kubectl get events -n mlflow-kserve-success6g\n",
    "LAST SEEN   TYPE      REASON          OBJECT                                                             MESSAGE\n",
    "2m28s       Warning   BackOff         pod/mlflow-success6g-predictor-00001-deployment-8694fffb55-9wnb7   Back-off restarting failed container kserve-container in pod mlflow-success6g-predictor-00001-deployment-8694fffb55-9wnb7_mlflow-kserve-success6g(1ad2d6da-3a40-4b14-956a-0faee3ca9b3c)\n",
    "2m28s       Warning   InternalError   revision/mlflow-success6g-predictor-00001                          failed to update PA \"mlflow-success6g-predictor-00001\": Operation cannot be fulfilled on podautoscalers.autoscaling.internal.knative.dev \"mlflow-success6g-predictor-00001\": the object has been modified; please apply your changes to the latest version and try again\n",
    "\n",
    "```\n",
    "</details>\n",
    "\n",
    "<details><summary>debugging</summary>\n",
    "\n",
    "```\n",
    "# https://kserve.github.io/website/0.10/developer/debug/\n",
    "pmulinka@saiacheron:~/kubernetes/kserve$ kubectl get ksvc -n mlflow-kserve-success6g\n",
    "NAME                         URL                                                                           LATESTCREATED                      LATESTREADY                        READY   REASON\n",
    "mlflow-success6g-predictor   http://mlflow-success6g-predictor.mlflow-kserve-success6g.svc.cluster.local   mlflow-success6g-predictor-00001   mlflow-success6g-predictor-00001   False   RevisionMissing\n",
    "# RevisionMissing Error\n",
    "pmulinka@saiacheron:~/kubernetes/kserve$ kubectl get revision $(kubectl get configuration mlflow-success6g-predictor -n mlflow-kserve-success6g --output jsonpath=\"{.status.latestCreatedRevisionName}\")\n",
    "Error from server (NotFound): revisions.serving.knative.dev \"mlflow-success6g-predictor-00001\" not found\n",
    "pmulinka@saiacheron:~/kubernetes/kserve$ kubectl get pod -l serving.kserve.io/inferenceservice=mlflow-success6g -n mlflow-kserve-success6g\n",
    "NAME                                                           READY   STATUS             RESTARTS        AGE\n",
    "mlflow-success6g-predictor-00001-deployment-8694fffb55-9wnb7   0/2     CrashLoopBackOff   8 (4m51s ago)   43m\n",
    "pmulinka@saiacheron:~/kubernetes/kserve$ kubectl get pod -l serving.kserve.io/inferenceservice=mlflow-success6g -n mlflow-kserve-success6g\n",
    "NAME                                                           READY   STATUS    RESTARTS       AGE\n",
    "mlflow-success6g-predictor-00001-deployment-8694fffb55-9wnb7   2/2     Running   9 (7m7s ago)   45m\n",
    "pmulinka@saiacheron:~/kubernetes/kserve$ kubectl logs -l model=mlflow-success6g -n mlflow-kserve-success6g -c storage-initializer\n",
    "No resources found in mlflow-kserve-success6g namespace.\n",
    "pmulinka@saiacheron:~/kubernetes/kserve$ kubectl delete inferenceservice mlflow-success6g -n mlflow-kserve-success6g\n",
    "inferenceservice.serving.kserve.io \"mlflow-success6g\" deleted\n",
    "```\n",
    "</details>"
   ]
  }
 ],
 "metadata": {
  "@webio": {
   "lastCommId": null,
   "lastKernelId": null
  },
  "hide_input": false,
  "interpreter": {
   "hash": "607fd6e109c58f0c2b9243752eb24f156017faf2fedd41f01500ce520d155ec1"
  },
  "kernelspec": {
   "display_name": "Python 3 (ipykernel)",
   "language": "python",
   "name": "python3"
  },
  "language_info": {
   "codemirror_mode": {
    "name": "ipython",
    "version": 3
   },
   "file_extension": ".py",
   "mimetype": "text/x-python",
   "name": "python",
   "nbconvert_exporter": "python",
   "pygments_lexer": "ipython3",
   "version": "3.10.11"
  },
  "toc": {
   "base_numbering": 1,
   "nav_menu": {},
   "number_sections": true,
   "sideBar": true,
   "skip_h1_title": false,
   "title_cell": "Table of Contents",
   "title_sidebar": "Contents",
   "toc_cell": false,
   "toc_position": {
    "height": "calc(100% - 180px)",
    "left": "10px",
    "top": "150px",
    "width": "222.539px"
   },
   "toc_section_display": true,
   "toc_window_display": true
  },
  "toc-autonumbering": true
 },
 "nbformat": 4,
 "nbformat_minor": 4
}
