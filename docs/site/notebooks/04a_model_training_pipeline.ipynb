{
 "cells": [
  {
   "cell_type": "markdown",
   "metadata": {},
   "source": [
    "# Example usage notebook\n",
    "Objects and functions in this notebook are listed with all paramaters to ilustrate their capabillities. Most of the paramaters have default values in the implementation"
   ]
  },
  {
   "cell_type": "markdown",
   "metadata": {},
   "source": [
    "## Imports"
   ]
  },
  {
   "cell_type": "code",
   "execution_count": 1,
   "metadata": {},
   "outputs": [],
   "source": [
    "import os\n",
    "import sys\n",
    "\n",
    "sys.path.append(os.getcwd())\n",
    "os.chdir(\"../..\")\n",
    "\n",
    "import pandas as pd\n",
    "import mlflow\n",
    "\n",
    "pd.set_option(\"display.max_columns\", 200)\n",
    "pd.set_option(\"display.max_rows\", 300)\n",
    "os.environ[\"AWS_ACCESS_KEY_ID\"] = \"minioadmin\"\n",
    "os.environ[\"AWS_SECRET_ACCESS_KEY\"] = \"minioadmin\"\n",
    "os.environ[\"MLFLOW_S3_ENDPOINT_URL\"] = f\"http://10.152.183.156:9000\"\n",
    "\n",
    "os.environ[\"REDIS_PASSWORD\"] = \"redis\"\n",
    "os.environ[\"REDIS_HOST\"] = \"10.152.183.250\"\n",
    "os.environ[\"REDIS_PORT\"] = \"6379\"\n",
    "os.environ[\"INFLUXDB_HOST\"] = \"10.152.183.219\"\n",
    "os.environ[\"INFLUXDB_PORT\"] = \"80\"\n",
    "os.environ[\"INFLUXDB_USER\"] = \"admin\"\n",
    "os.environ[\"INFLUXDB_PASS\"] = \"admin_pass\""
   ]
  },
  {
   "cell_type": "code",
   "execution_count": 2,
   "metadata": {},
   "outputs": [
    {
     "data": {
      "text/html": [
       "<style>.jp-OutputArea-output {display:flex}</style>"
      ],
      "text/plain": [
       "<IPython.core.display.HTML object>"
      ]
     },
     "metadata": {},
     "output_type": "display_data"
    }
   ],
   "source": [
    "import os\n",
    "import json\n",
    "from typing import Literal\n",
    "import pandas as pd\n",
    "\n",
    "from inference_model.preprocessing.preprocess import PreprocessData\n",
    "from inference_model.training.trainer import Trainer\n",
    "from inference_model.training.optuna_optimizer import LGBOptunaOptimizer\n",
    "\n",
    "import dill\n",
    "import numpy as np\n",
    "from inference_model.utils import dill_dump, dill_load, handle_redis_message, df_row_to_influxdb_point, set_production_env\n",
    "from inference_model.training.utils import flatten_dict, get_or_create_experiment\n",
    "from sklearn.model_selection import train_test_split\n",
    "\n",
    "from pprint import pprint\n",
    "import ast\n",
    "import time\n",
    "import redis\n",
    "\n",
    "# workaround - horizontal scrollbar is not working in jupyterlab\n",
    "from IPython.display import display, HTML\n",
    "display(HTML(\"<style>.jp-OutputArea-output {display:flex}</style>\"))"
   ]
  },
  {
   "cell_type": "markdown",
   "metadata": {},
   "source": [
    "## Train a testing model "
   ]
  },
  {
   "cell_type": "code",
   "execution_count": 3,
   "metadata": {},
   "outputs": [],
   "source": [
    "def load_new_dataset(num: int):\n",
    "    data_sets = [\n",
    "        \"DS1_stopped_with_ignition_on_22Feb24_115812.csv\",\n",
    "        \"DS1_stopped_with_ignition_on_25Jan24_124019.csv\",\n",
    "        \"DS1_stopped_with_ignition_on_25Jan24_151531.csv\",\n",
    "        \"DS1_stopped_with_ignition_on_25Mar24_153740.CSV\",\n",
    "        \"DS2_national_road_90km_h_max_25Jan24_153019.csv\",\n",
    "        \"DS2_national_road_90km_h_max_25Mar24_133516.CSV\",\n",
    "        \"DS3_highway_120km_h_max_22Feb24_121145.csv\",\n",
    "        \"DS3_highway_120km_h_max_25Mar24_154857.csv\"\n",
    "    ]\n",
    "    file = \"tools/vehicle/datasets/ateca_R4_2.0l_TDI/\" + data_sets[num]\n",
    "    \n",
    "    df = pd.read_csv(file)\n",
    "    df.head()\n",
    "    df.drop(columns=[\"Unnamed: 0\", \"Unnamed: 25\"], inplace=True)\n",
    "    df.drop(index=0, inplace=True)\n",
    "\n",
    "    timestamp_columns = [col for col in df.columns if col.startswith(\"STAMP\")]\n",
    "    # keep only the first timestamp column\n",
    "    df[\"timestamp\"] = df[\"STAMP\"]\n",
    "    df = df.drop(columns=timestamp_columns)\n",
    "\n",
    "    df[\"class\"] = 0\n",
    "    df[\"vehicle_id\"] = \"123abc\"\n",
    "    df.loc[:100, [\"class\"]] = 1\n",
    "    df.loc[:100, [\"Normed load value\"]] = 100\n",
    "    \n",
    "    df[df.drop(columns=[\"class\", \"vehicle_id\"]).columns] = df[df.drop(columns=[\"class\", \"vehicle_id\"]).columns].astype(float)\n",
    "    \n",
    "    # Remove special characters from column names\n",
    "    df.columns = df.columns.str.replace('[^A-Za-z0-9]+', '_', regex=True)\n",
    "\n",
    "    # add some \"reasonable\" timestamp for testing\n",
    "    df[\"timestamp\"] = pd.to_datetime(time.time() - 3600 + df[\"timestamp\"], unit=\"s\")\n",
    "    return df\n",
    "\n",
    "def load_old_dataset():\n",
    "    with open(\"data/log_tiguan_27_mar_dac.txt\") as f:\n",
    "        data = ast.literal_eval(f.read())\n",
    "    \n",
    "    df = pd.DataFrame()\n",
    "    for data_value in data:\n",
    "        temp_df = pd.DataFrame(data_value[list(data_value)[0]]).sort_values(\n",
    "            by=\"ts_millis:\", ascending=True\n",
    "        )[\"value\"]\n",
    "        temp_df.rename(list(data_value)[0], inplace=True)\n",
    "        df = pd.concat([df, temp_df], axis=1)\n",
    "    \n",
    "    df.dropna(inplace=True)\n",
    "    df[\"class\"] = 0\n",
    "    df[\"vehicle_id\"] = \"123abc\"\n",
    "    df.loc[:100, [\"class\"]] = 1\n",
    "    df.loc[:100, [\"engine_load\"]] = 100\n",
    "\n",
    "    # add some \"reasonable\" timestamp for testing\n",
    "    df[\"timestamp\"] = pd.to_datetime([time.time() - 3600 + ix for ix in list(df.index)], unit=\"s\")\n",
    "    return df    "
   ]
  },
  {
   "cell_type": "code",
   "execution_count": 4,
   "metadata": {},
   "outputs": [],
   "source": [
    "# 1. get/create some example data\n",
    "\n",
    "# df_pd = load_old_dataset()\n",
    "df_pd = load_new_dataset(num=1)"
   ]
  },
  {
   "cell_type": "code",
   "execution_count": 5,
   "metadata": {},
   "outputs": [],
   "source": [
    "target_col = \"class\"\n",
    "id_cols = [\"vehicle_id\", \"timestamp\"]\n",
    "cat_cols = []\n",
    "cont_cols = df_pd.drop(\n",
    "    columns=id_cols + cat_cols + [target_col]\n",
    ").columns.values.tolist()\n",
    "df_pd[cat_cols] = df_pd[cat_cols].astype(str)"
   ]
  },
  {
   "cell_type": "code",
   "execution_count": 6,
   "metadata": {},
   "outputs": [],
   "source": [
    "valid_size = 0.2\n",
    "test_size = 0.5\n",
    "random_state = 1\n",
    "df_train, df_valid = train_test_split(\n",
    "    df_pd, test_size=valid_size, stratify=df_pd[target_col], random_state=random_state\n",
    ")\n",
    "df_valid, df_test = train_test_split(\n",
    "    df_valid,\n",
    "    test_size=test_size,\n",
    "    stratify=df_valid[target_col],\n",
    "    random_state=random_state,\n",
    ")"
   ]
  },
  {
   "cell_type": "code",
   "execution_count": 7,
   "metadata": {},
   "outputs": [],
   "source": [
    "prepare_data = PreprocessData(\n",
    "    id_cols=id_cols,\n",
    "    target_col=target_col,\n",
    "    cat_cols=cat_cols,\n",
    "    cont_cols=cont_cols,\n",
    ")\n",
    "# this should be fitted only on training data\n",
    "_ = prepare_data.fit(df=df_pd)"
   ]
  },
  {
   "cell_type": "code",
   "execution_count": 8,
   "metadata": {
    "scrolled": true
   },
   "outputs": [
    {
     "name": "stderr",
     "output_type": "stream",
     "text": [
      "[I 2024-08-08 09:31:52,468] A new study created in memory with name: LightGBMTuner\n",
      "feature_fraction, val_score: inf:   0%|          | 0/7 [00:00<?, ?it/s]"
     ]
    },
    {
     "name": "stdout",
     "output_type": "stream",
     "text": [
      "Training until validation scores don't improve for 50 rounds\n"
     ]
    },
    {
     "name": "stderr",
     "output_type": "stream",
     "text": [
      "feature_fraction, val_score: 0.000002:  14%|#4        | 1/7 [00:01<00:11,  1.89s/it][I 2024-08-08 09:31:54,368] Trial 0 finished with value: 2.2155418558739255e-06 and parameters: {'feature_fraction': 0.5}. Best is trial 0 with value: 2.2155418558739255e-06.\n",
      "feature_fraction, val_score: 0.000002:  14%|#4        | 1/7 [00:01<00:11,  1.89s/it]"
     ]
    },
    {
     "name": "stdout",
     "output_type": "stream",
     "text": [
      "Early stopping, best iteration is:\n",
      "[171]\tvalid_0's binary_logloss: 2.21554e-06\n",
      "Training until validation scores don't improve for 50 rounds\n"
     ]
    },
    {
     "name": "stderr",
     "output_type": "stream",
     "text": [
      "feature_fraction, val_score: 0.000002:  29%|##8       | 2/7 [00:02<00:05,  1.13s/it][I 2024-08-08 09:31:54,969] Trial 1 finished with value: 2.232479795870203e-06 and parameters: {'feature_fraction': 0.4}. Best is trial 0 with value: 2.2155418558739255e-06.\n",
      "feature_fraction, val_score: 0.000002:  29%|##8       | 2/7 [00:02<00:05,  1.13s/it]"
     ]
    },
    {
     "name": "stdout",
     "output_type": "stream",
     "text": [
      "Early stopping, best iteration is:\n",
      "[183]\tvalid_0's binary_logloss: 2.23248e-06\n",
      "Training until validation scores don't improve for 50 rounds\n"
     ]
    },
    {
     "name": "stderr",
     "output_type": "stream",
     "text": [
      "feature_fraction, val_score: 0.000002:  43%|####2     | 3/7 [00:02<00:02,  1.34it/s][I 2024-08-08 09:31:55,263] Trial 2 finished with value: 2.267509180581066e-06 and parameters: {'feature_fraction': 0.7}. Best is trial 0 with value: 2.2155418558739255e-06.\n",
      "feature_fraction, val_score: 0.000002:  43%|####2     | 3/7 [00:02<00:02,  1.34it/s]"
     ]
    },
    {
     "name": "stdout",
     "output_type": "stream",
     "text": [
      "Early stopping, best iteration is:\n",
      "[122]\tvalid_0's binary_logloss: 2.26751e-06\n",
      "Training until validation scores don't improve for 50 rounds\n"
     ]
    },
    {
     "name": "stderr",
     "output_type": "stream",
     "text": [
      "feature_fraction, val_score: 0.000002:  57%|#####7    | 4/7 [00:03<00:01,  1.84it/s][I 2024-08-08 09:31:55,490] Trial 3 finished with value: 2.5857001593409684e-06 and parameters: {'feature_fraction': 0.8}. Best is trial 0 with value: 2.2155418558739255e-06.\n",
      "feature_fraction, val_score: 0.000002:  71%|#######1  | 5/7 [00:03<00:00,  2.41it/s]"
     ]
    },
    {
     "name": "stdout",
     "output_type": "stream",
     "text": [
      "Early stopping, best iteration is:\n",
      "[139]\tvalid_0's binary_logloss: 2.5857e-06\n",
      "Training until validation scores don't improve for 50 rounds\n",
      "Early stopping, best iteration is:\n",
      "[145]\tvalid_0's binary_logloss: 3.06728e-06\n"
     ]
    },
    {
     "name": "stderr",
     "output_type": "stream",
     "text": [
      "[I 2024-08-08 09:31:55,678] Trial 4 finished with value: 3.067280791538971e-06 and parameters: {'feature_fraction': 1.0}. Best is trial 0 with value: 2.2155418558739255e-06.\n",
      "feature_fraction, val_score: 0.000002:  71%|#######1  | 5/7 [00:03<00:00,  2.41it/s]"
     ]
    },
    {
     "name": "stdout",
     "output_type": "stream",
     "text": [
      "Training until validation scores don't improve for 50 rounds\n",
      "Early stopping, best iteration is:\n",
      "[121]\tvalid_0's binary_logloss: 2.97298e-06\n"
     ]
    },
    {
     "name": "stderr",
     "output_type": "stream",
     "text": [
      "feature_fraction, val_score: 0.000002:  86%|########5 | 6/7 [00:03<00:00,  2.67it/s][I 2024-08-08 09:31:55,975] Trial 5 finished with value: 2.9729846948320073e-06 and parameters: {'feature_fraction': 0.8999999999999999}. Best is trial 0 with value: 2.2155418558739255e-06.\n",
      "feature_fraction, val_score: 0.000002:  86%|########5 | 6/7 [00:03<00:00,  2.67it/s]"
     ]
    },
    {
     "name": "stdout",
     "output_type": "stream",
     "text": [
      "Training until validation scores don't improve for 50 rounds\n"
     ]
    },
    {
     "name": "stderr",
     "output_type": "stream",
     "text": [
      "feature_fraction, val_score: 0.000002: 100%|##########| 7/7 [00:04<00:00,  2.39it/s][I 2024-08-08 09:31:56,482] Trial 6 finished with value: 2.158064985004263e-06 and parameters: {'feature_fraction': 0.6}. Best is trial 6 with value: 2.158064985004263e-06.\n",
      "feature_fraction, val_score: 0.000002: 100%|##########| 7/7 [00:04<00:00,  1.75it/s]\n"
     ]
    },
    {
     "name": "stdout",
     "output_type": "stream",
     "text": [
      "Early stopping, best iteration is:\n",
      "[144]\tvalid_0's binary_logloss: 2.15806e-06\n"
     ]
    },
    {
     "name": "stderr",
     "output_type": "stream",
     "text": [
      "num_leaves, val_score: 0.000002:   0%|          | 0/20 [00:00<?, ?it/s]"
     ]
    },
    {
     "name": "stdout",
     "output_type": "stream",
     "text": [
      "Training until validation scores don't improve for 50 rounds\n"
     ]
    },
    {
     "name": "stderr",
     "output_type": "stream",
     "text": [
      "num_leaves, val_score: 0.000002:   5%|5         | 1/20 [00:00<00:05,  3.23it/s][I 2024-08-08 09:31:56,864] Trial 7 finished with value: 2.158064985004263e-06 and parameters: {'num_leaves': 223}. Best is trial 7 with value: 2.158064985004263e-06.\n",
      "num_leaves, val_score: 0.000002:   5%|5         | 1/20 [00:00<00:05,  3.23it/s]"
     ]
    },
    {
     "name": "stdout",
     "output_type": "stream",
     "text": [
      "Early stopping, best iteration is:\n",
      "[131]\tvalid_0's binary_logloss: 2.15806e-06\n",
      "Training until validation scores don't improve for 50 rounds\n"
     ]
    },
    {
     "name": "stderr",
     "output_type": "stream",
     "text": [
      "num_leaves, val_score: 0.000002:  10%|#         | 2/20 [00:00<00:05,  3.24it/s][I 2024-08-08 09:31:57,172] Trial 8 finished with value: 2.158064985004263e-06 and parameters: {'num_leaves': 217}. Best is trial 7 with value: 2.158064985004263e-06.\n",
      "num_leaves, val_score: 0.000002:  10%|#         | 2/20 [00:00<00:05,  3.24it/s]"
     ]
    },
    {
     "name": "stdout",
     "output_type": "stream",
     "text": [
      "Early stopping, best iteration is:\n",
      "[124]\tvalid_0's binary_logloss: 2.15806e-06\n",
      "Training until validation scores don't improve for 50 rounds\n"
     ]
    },
    {
     "name": "stderr",
     "output_type": "stream",
     "text": [
      "num_leaves, val_score: 0.000002:  15%|#5        | 3/20 [00:00<00:05,  3.23it/s][I 2024-08-08 09:31:57,481] Trial 9 finished with value: 2.158064985004263e-06 and parameters: {'num_leaves': 106}. Best is trial 7 with value: 2.158064985004263e-06.\n",
      "num_leaves, val_score: 0.000002:  15%|#5        | 3/20 [00:00<00:05,  3.23it/s]"
     ]
    },
    {
     "name": "stdout",
     "output_type": "stream",
     "text": [
      "Early stopping, best iteration is:\n",
      "[126]\tvalid_0's binary_logloss: 2.15806e-06\n",
      "Training until validation scores don't improve for 50 rounds\n"
     ]
    },
    {
     "name": "stderr",
     "output_type": "stream",
     "text": [
      "num_leaves, val_score: 0.000002:  20%|##        | 4/20 [00:01<00:04,  3.28it/s][I 2024-08-08 09:31:57,778] Trial 10 finished with value: 2.158064985004263e-06 and parameters: {'num_leaves': 17}. Best is trial 7 with value: 2.158064985004263e-06.\n",
      "num_leaves, val_score: 0.000002:  20%|##        | 4/20 [00:01<00:04,  3.28it/s]"
     ]
    },
    {
     "name": "stdout",
     "output_type": "stream",
     "text": [
      "Early stopping, best iteration is:\n",
      "[128]\tvalid_0's binary_logloss: 2.15806e-06\n",
      "Training until validation scores don't improve for 50 rounds\n"
     ]
    },
    {
     "name": "stderr",
     "output_type": "stream",
     "text": [
      "num_leaves, val_score: 0.000002:  25%|##5       | 5/20 [00:01<00:04,  3.28it/s][I 2024-08-08 09:31:58,082] Trial 11 finished with value: 2.1580649850042628e-06 and parameters: {'num_leaves': 253}. Best is trial 11 with value: 2.1580649850042628e-06.\n",
      "num_leaves, val_score: 0.000002:  25%|##5       | 5/20 [00:01<00:04,  3.28it/s]"
     ]
    },
    {
     "name": "stdout",
     "output_type": "stream",
     "text": [
      "Early stopping, best iteration is:\n",
      "[160]\tvalid_0's binary_logloss: 2.15806e-06\n",
      "Training until validation scores don't improve for 50 rounds\n"
     ]
    },
    {
     "name": "stderr",
     "output_type": "stream",
     "text": [
      "num_leaves, val_score: 0.000002:  30%|###       | 6/20 [00:01<00:04,  3.33it/s][I 2024-08-08 09:31:58,375] Trial 12 finished with value: 2.158064985004263e-06 and parameters: {'num_leaves': 248}. Best is trial 11 with value: 2.1580649850042628e-06.\n",
      "num_leaves, val_score: 0.000002:  30%|###       | 6/20 [00:01<00:04,  3.33it/s]"
     ]
    },
    {
     "name": "stdout",
     "output_type": "stream",
     "text": [
      "Early stopping, best iteration is:\n",
      "[123]\tvalid_0's binary_logloss: 2.15806e-06\n",
      "Training until validation scores don't improve for 50 rounds\n"
     ]
    },
    {
     "name": "stderr",
     "output_type": "stream",
     "text": [
      "num_leaves, val_score: 0.000002:  35%|###5      | 7/20 [00:02<00:04,  3.03it/s][I 2024-08-08 09:31:58,766] Trial 13 finished with value: 2.158064985004263e-06 and parameters: {'num_leaves': 143}. Best is trial 11 with value: 2.1580649850042628e-06.\n",
      "num_leaves, val_score: 0.000002:  35%|###5      | 7/20 [00:02<00:04,  3.03it/s]"
     ]
    },
    {
     "name": "stdout",
     "output_type": "stream",
     "text": [
      "Early stopping, best iteration is:\n",
      "[132]\tvalid_0's binary_logloss: 2.15806e-06\n",
      "Training until validation scores don't improve for 50 rounds\n"
     ]
    },
    {
     "name": "stderr",
     "output_type": "stream",
     "text": [
      "num_leaves, val_score: 0.000002:  40%|####      | 8/20 [00:02<00:03,  3.08it/s][I 2024-08-08 09:31:59,078] Trial 14 finished with value: 2.1580649850042628e-06 and parameters: {'num_leaves': 150}. Best is trial 11 with value: 2.1580649850042628e-06.\n",
      "num_leaves, val_score: 0.000002:  40%|####      | 8/20 [00:02<00:03,  3.08it/s]"
     ]
    },
    {
     "name": "stdout",
     "output_type": "stream",
     "text": [
      "Early stopping, best iteration is:\n",
      "[156]\tvalid_0's binary_logloss: 2.15806e-06\n",
      "Training until validation scores don't improve for 50 rounds\n"
     ]
    },
    {
     "name": "stderr",
     "output_type": "stream",
     "text": [
      "num_leaves, val_score: 0.000002:  45%|####5     | 9/20 [00:03<00:04,  2.68it/s][I 2024-08-08 09:31:59,559] Trial 15 finished with value: 2.1580649850042628e-06 and parameters: {'num_leaves': 156}. Best is trial 11 with value: 2.1580649850042628e-06.\n",
      "num_leaves, val_score: 0.000002:  45%|####5     | 9/20 [00:03<00:04,  2.68it/s]"
     ]
    },
    {
     "name": "stdout",
     "output_type": "stream",
     "text": [
      "Early stopping, best iteration is:\n",
      "[159]\tvalid_0's binary_logloss: 2.15806e-06\n",
      "Training until validation scores don't improve for 50 rounds\n"
     ]
    },
    {
     "name": "stderr",
     "output_type": "stream",
     "text": [
      "num_leaves, val_score: 0.000002:  50%|#####     | 10/20 [00:03<00:04,  2.40it/s][I 2024-08-08 09:32:00,073] Trial 16 finished with value: 2.158064985004263e-06 and parameters: {'num_leaves': 71}. Best is trial 11 with value: 2.1580649850042628e-06.\n",
      "num_leaves, val_score: 0.000002:  50%|#####     | 10/20 [00:03<00:04,  2.40it/s]"
     ]
    },
    {
     "name": "stdout",
     "output_type": "stream",
     "text": [
      "Early stopping, best iteration is:\n",
      "[133]\tvalid_0's binary_logloss: 2.15806e-06\n",
      "Training until validation scores don't improve for 50 rounds\n"
     ]
    },
    {
     "name": "stderr",
     "output_type": "stream",
     "text": [
      "num_leaves, val_score: 0.000002:  55%|#####5    | 11/20 [00:04<00:03,  2.28it/s][I 2024-08-08 09:32:00,560] Trial 17 finished with value: 2.1580649850042628e-06 and parameters: {'num_leaves': 189}. Best is trial 11 with value: 2.1580649850042628e-06.\n",
      "num_leaves, val_score: 0.000002:  55%|#####5    | 11/20 [00:04<00:03,  2.28it/s]"
     ]
    },
    {
     "name": "stdout",
     "output_type": "stream",
     "text": [
      "Early stopping, best iteration is:\n",
      "[139]\tvalid_0's binary_logloss: 2.15806e-06\n",
      "Training until validation scores don't improve for 50 rounds\n"
     ]
    },
    {
     "name": "stderr",
     "output_type": "stream",
     "text": [
      "num_leaves, val_score: 0.000002:  60%|######    | 12/20 [00:04<00:03,  2.17it/s][I 2024-08-08 09:32:01,070] Trial 18 finished with value: 2.158064985004263e-06 and parameters: {'num_leaves': 89}. Best is trial 11 with value: 2.1580649850042628e-06.\n",
      "num_leaves, val_score: 0.000002:  60%|######    | 12/20 [00:04<00:03,  2.17it/s]"
     ]
    },
    {
     "name": "stdout",
     "output_type": "stream",
     "text": [
      "Early stopping, best iteration is:\n",
      "[130]\tvalid_0's binary_logloss: 2.15806e-06\n",
      "Training until validation scores don't improve for 50 rounds\n"
     ]
    },
    {
     "name": "stderr",
     "output_type": "stream",
     "text": [
      "num_leaves, val_score: 0.000002:  65%|######5   | 13/20 [00:05<00:03,  2.14it/s][I 2024-08-08 09:32:01,554] Trial 19 finished with value: 2.158064985004263e-06 and parameters: {'num_leaves': 174}. Best is trial 11 with value: 2.1580649850042628e-06.\n",
      "num_leaves, val_score: 0.000002:  65%|######5   | 13/20 [00:05<00:03,  2.14it/s]"
     ]
    },
    {
     "name": "stdout",
     "output_type": "stream",
     "text": [
      "Early stopping, best iteration is:\n",
      "[150]\tvalid_0's binary_logloss: 2.15806e-06\n",
      "Training until validation scores don't improve for 50 rounds\n"
     ]
    },
    {
     "name": "stderr",
     "output_type": "stream",
     "text": [
      "num_leaves, val_score: 0.000002:  70%|#######   | 14/20 [00:05<00:03,  1.95it/s][I 2024-08-08 09:32:02,168] Trial 20 finished with value: 2.158064985004263e-06 and parameters: {'num_leaves': 254}. Best is trial 11 with value: 2.1580649850042628e-06.\n",
      "num_leaves, val_score: 0.000002:  70%|#######   | 14/20 [00:05<00:03,  1.95it/s]"
     ]
    },
    {
     "name": "stdout",
     "output_type": "stream",
     "text": [
      "Early stopping, best iteration is:\n",
      "[149]\tvalid_0's binary_logloss: 2.15806e-06\n",
      "Training until validation scores don't improve for 50 rounds\n"
     ]
    },
    {
     "name": "stderr",
     "output_type": "stream",
     "text": [
      "num_leaves, val_score: 0.000002:  75%|#######5  | 15/20 [00:07<00:04,  1.20it/s][I 2024-08-08 09:32:03,758] Trial 21 finished with value: 2.158064985004263e-06 and parameters: {'num_leaves': 142}. Best is trial 11 with value: 2.1580649850042628e-06.\n",
      "num_leaves, val_score: 0.000002:  75%|#######5  | 15/20 [00:07<00:04,  1.20it/s]"
     ]
    },
    {
     "name": "stdout",
     "output_type": "stream",
     "text": [
      "Early stopping, best iteration is:\n",
      "[123]\tvalid_0's binary_logloss: 2.15806e-06\n",
      "Training until validation scores don't improve for 50 rounds\n"
     ]
    },
    {
     "name": "stderr",
     "output_type": "stream",
     "text": [
      "num_leaves, val_score: 0.000002:  80%|########  | 16/20 [00:07<00:02,  1.47it/s][I 2024-08-08 09:32:04,072] Trial 22 finished with value: 2.158064985004263e-06 and parameters: {'num_leaves': 176}. Best is trial 11 with value: 2.1580649850042628e-06.\n",
      "num_leaves, val_score: 0.000002:  80%|########  | 16/20 [00:07<00:02,  1.47it/s]"
     ]
    },
    {
     "name": "stdout",
     "output_type": "stream",
     "text": [
      "Early stopping, best iteration is:\n",
      "[130]\tvalid_0's binary_logloss: 2.15806e-06\n",
      "Training until validation scores don't improve for 50 rounds\n"
     ]
    },
    {
     "name": "stderr",
     "output_type": "stream",
     "text": [
      "num_leaves, val_score: 0.000002:  85%|########5 | 17/20 [00:07<00:01,  1.76it/s][I 2024-08-08 09:32:04,377] Trial 23 finished with value: 2.1580649850042628e-06 and parameters: {'num_leaves': 41}. Best is trial 11 with value: 2.1580649850042628e-06.\n",
      "num_leaves, val_score: 0.000002:  85%|########5 | 17/20 [00:07<00:01,  1.76it/s]"
     ]
    },
    {
     "name": "stdout",
     "output_type": "stream",
     "text": [
      "Early stopping, best iteration is:\n",
      "[153]\tvalid_0's binary_logloss: 2.15806e-06\n",
      "Training until validation scores don't improve for 50 rounds\n"
     ]
    },
    {
     "name": "stderr",
     "output_type": "stream",
     "text": [
      "num_leaves, val_score: 0.000002:  90%|######### | 18/20 [00:08<00:01,  1.93it/s][I 2024-08-08 09:32:04,778] Trial 24 finished with value: 2.1580649850042628e-06 and parameters: {'num_leaves': 116}. Best is trial 11 with value: 2.1580649850042628e-06.\n",
      "num_leaves, val_score: 0.000002:  90%|######### | 18/20 [00:08<00:01,  1.93it/s]"
     ]
    },
    {
     "name": "stdout",
     "output_type": "stream",
     "text": [
      "Early stopping, best iteration is:\n",
      "[130]\tvalid_0's binary_logloss: 2.15806e-06\n",
      "Training until validation scores don't improve for 50 rounds\n"
     ]
    },
    {
     "name": "stderr",
     "output_type": "stream",
     "text": [
      "num_leaves, val_score: 0.000002:  95%|#########5| 19/20 [00:08<00:00,  2.08it/s][I 2024-08-08 09:32:05,175] Trial 25 finished with value: 2.158064985004263e-06 and parameters: {'num_leaves': 161}. Best is trial 11 with value: 2.1580649850042628e-06.\n",
      "num_leaves, val_score: 0.000002:  95%|#########5| 19/20 [00:08<00:00,  2.08it/s]"
     ]
    },
    {
     "name": "stdout",
     "output_type": "stream",
     "text": [
      "Early stopping, best iteration is:\n",
      "[129]\tvalid_0's binary_logloss: 2.15806e-06\n",
      "Training until validation scores don't improve for 50 rounds\n"
     ]
    },
    {
     "name": "stderr",
     "output_type": "stream",
     "text": [
      "num_leaves, val_score: 0.000002: 100%|##########| 20/20 [00:09<00:00,  1.94it/s][I 2024-08-08 09:32:05,774] Trial 26 finished with value: 2.158064985004263e-06 and parameters: {'num_leaves': 204}. Best is trial 11 with value: 2.1580649850042628e-06.\n",
      "num_leaves, val_score: 0.000002: 100%|##########| 20/20 [00:09<00:00,  2.17it/s]\n"
     ]
    },
    {
     "name": "stdout",
     "output_type": "stream",
     "text": [
      "Early stopping, best iteration is:\n",
      "[123]\tvalid_0's binary_logloss: 2.15806e-06\n"
     ]
    },
    {
     "name": "stderr",
     "output_type": "stream",
     "text": [
      "bagging, val_score: 0.000002:   0%|          | 0/10 [00:00<?, ?it/s]"
     ]
    },
    {
     "name": "stdout",
     "output_type": "stream",
     "text": [
      "Training until validation scores don't improve for 50 rounds\n"
     ]
    },
    {
     "name": "stderr",
     "output_type": "stream",
     "text": [
      "bagging, val_score: 0.000002:  10%|#         | 1/10 [00:00<00:03,  2.50it/s][I 2024-08-08 09:32:06,181] Trial 27 finished with value: 5.194097758612501e-06 and parameters: {'bagging_fraction': 0.4663372706440993, 'bagging_freq': 7}. Best is trial 27 with value: 5.194097758612501e-06.\n",
      "bagging, val_score: 0.000002:  10%|#         | 1/10 [00:00<00:03,  2.50it/s]"
     ]
    },
    {
     "name": "stdout",
     "output_type": "stream",
     "text": [
      "Early stopping, best iteration is:\n",
      "[115]\tvalid_0's binary_logloss: 5.1941e-06\n",
      "Training until validation scores don't improve for 50 rounds\n"
     ]
    },
    {
     "name": "stderr",
     "output_type": "stream",
     "text": [
      "bagging, val_score: 0.000002:  20%|##        | 2/10 [00:00<00:03,  2.51it/s][I 2024-08-08 09:32:06,578] Trial 28 finished with value: 2.2093229298793682e-06 and parameters: {'bagging_fraction': 0.9511228026409833, 'bagging_freq': 1}. Best is trial 28 with value: 2.2093229298793682e-06.\n",
      "bagging, val_score: 0.000002:  20%|##        | 2/10 [00:00<00:03,  2.51it/s]"
     ]
    },
    {
     "name": "stdout",
     "output_type": "stream",
     "text": [
      "Early stopping, best iteration is:\n",
      "[234]\tvalid_0's binary_logloss: 2.20932e-06\n",
      "Training until validation scores don't improve for 50 rounds\n"
     ]
    },
    {
     "name": "stderr",
     "output_type": "stream",
     "text": [
      "bagging, val_score: 0.000002:  30%|###       | 3/10 [00:01<00:02,  2.88it/s][I 2024-08-08 09:32:06,867] Trial 29 finished with value: 6.25638955418492e-06 and parameters: {'bagging_fraction': 0.40683793801867835, 'bagging_freq': 4}. Best is trial 28 with value: 2.2093229298793682e-06.\n",
      "bagging, val_score: 0.000002:  30%|###       | 3/10 [00:01<00:02,  2.88it/s]"
     ]
    },
    {
     "name": "stdout",
     "output_type": "stream",
     "text": [
      "Early stopping, best iteration is:\n",
      "[127]\tvalid_0's binary_logloss: 6.25639e-06\n",
      "Training until validation scores don't improve for 50 rounds\n"
     ]
    },
    {
     "name": "stderr",
     "output_type": "stream",
     "text": [
      "bagging, val_score: 0.000002:  40%|####      | 4/10 [00:01<00:02,  2.99it/s][I 2024-08-08 09:32:07,185] Trial 30 finished with value: 2.14662488275275e-06 and parameters: {'bagging_fraction': 0.986010427574173, 'bagging_freq': 1}. Best is trial 30 with value: 2.14662488275275e-06.\n",
      "bagging, val_score: 0.000002:  40%|####      | 4/10 [00:01<00:02,  2.99it/s]"
     ]
    },
    {
     "name": "stdout",
     "output_type": "stream",
     "text": [
      "Early stopping, best iteration is:\n",
      "[146]\tvalid_0's binary_logloss: 2.14662e-06\n",
      "Training until validation scores don't improve for 50 rounds\n"
     ]
    },
    {
     "name": "stderr",
     "output_type": "stream",
     "text": [
      "bagging, val_score: 0.000002:  50%|#####     | 5/10 [00:01<00:01,  3.11it/s][I 2024-08-08 09:32:07,480] Trial 31 finished with value: 2.1580649850042628e-06 and parameters: {'bagging_fraction': 0.9963489616546308, 'bagging_freq': 1}. Best is trial 30 with value: 2.14662488275275e-06.\n",
      "bagging, val_score: 0.000002:  50%|#####     | 5/10 [00:01<00:01,  3.11it/s]"
     ]
    },
    {
     "name": "stdout",
     "output_type": "stream",
     "text": [
      "Early stopping, best iteration is:\n",
      "[175]\tvalid_0's binary_logloss: 2.15806e-06\n",
      "Training until validation scores don't improve for 50 rounds\n"
     ]
    },
    {
     "name": "stderr",
     "output_type": "stream",
     "text": [
      "bagging, val_score: 0.000002:  60%|######    | 6/10 [00:02<00:01,  3.14it/s][I 2024-08-08 09:32:07,791] Trial 32 finished with value: 3.6095717073621325e-06 and parameters: {'bagging_fraction': 0.7481598945910473, 'bagging_freq': 3}. Best is trial 30 with value: 2.14662488275275e-06.\n",
      "bagging, val_score: 0.000002:  60%|######    | 6/10 [00:02<00:01,  3.14it/s]"
     ]
    },
    {
     "name": "stdout",
     "output_type": "stream",
     "text": [
      "Early stopping, best iteration is:\n",
      "[134]\tvalid_0's binary_logloss: 3.60957e-06\n",
      "Training until validation scores don't improve for 50 rounds\n"
     ]
    },
    {
     "name": "stderr",
     "output_type": "stream",
     "text": [
      "bagging, val_score: 0.000002:  70%|#######   | 7/10 [00:02<00:01,  2.98it/s][I 2024-08-08 09:32:08,164] Trial 33 finished with value: 2.3121277752892384e-06 and parameters: {'bagging_fraction': 0.7760361752363311, 'bagging_freq': 7}. Best is trial 30 with value: 2.14662488275275e-06.\n",
      "bagging, val_score: 0.000002:  70%|#######   | 7/10 [00:02<00:01,  2.98it/s]"
     ]
    },
    {
     "name": "stdout",
     "output_type": "stream",
     "text": [
      "Early stopping, best iteration is:\n",
      "[124]\tvalid_0's binary_logloss: 2.31213e-06\n",
      "Training until validation scores don't improve for 50 rounds\n"
     ]
    },
    {
     "name": "stderr",
     "output_type": "stream",
     "text": [
      "bagging, val_score: 0.000002:  80%|########  | 8/10 [00:02<00:00,  3.03it/s][I 2024-08-08 09:32:08,482] Trial 34 finished with value: 3.483101350011689e-06 and parameters: {'bagging_fraction': 0.5822204419561109, 'bagging_freq': 3}. Best is trial 30 with value: 2.14662488275275e-06.\n",
      "bagging, val_score: 0.000002:  80%|########  | 8/10 [00:02<00:00,  3.03it/s]"
     ]
    },
    {
     "name": "stdout",
     "output_type": "stream",
     "text": [
      "Early stopping, best iteration is:\n",
      "[148]\tvalid_0's binary_logloss: 3.4831e-06\n",
      "Training until validation scores don't improve for 50 rounds\n"
     ]
    },
    {
     "name": "stderr",
     "output_type": "stream",
     "text": [
      "bagging, val_score: 0.000002:  90%|######### | 9/10 [00:04<00:00,  1.51it/s][I 2024-08-08 09:32:09,873] Trial 35 finished with value: 2.208903554396447e-06 and parameters: {'bagging_fraction': 0.8607892427839136, 'bagging_freq': 5}. Best is trial 30 with value: 2.14662488275275e-06.\n",
      "bagging, val_score: 0.000002:  90%|######### | 9/10 [00:04<00:00,  1.51it/s]"
     ]
    },
    {
     "name": "stdout",
     "output_type": "stream",
     "text": [
      "Early stopping, best iteration is:\n",
      "[175]\tvalid_0's binary_logloss: 2.2089e-06\n",
      "Training until validation scores don't improve for 50 rounds\n"
     ]
    },
    {
     "name": "stderr",
     "output_type": "stream",
     "text": [
      "bagging, val_score: 0.000002: 100%|##########| 10/10 [00:05<00:00,  1.21it/s][I 2024-08-08 09:32:11,063] Trial 36 finished with value: 3.356651578320104e-06 and parameters: {'bagging_fraction': 0.6062030921488037, 'bagging_freq': 2}. Best is trial 30 with value: 2.14662488275275e-06.\n",
      "bagging, val_score: 0.000002: 100%|##########| 10/10 [00:05<00:00,  1.89it/s]\n"
     ]
    },
    {
     "name": "stdout",
     "output_type": "stream",
     "text": [
      "Early stopping, best iteration is:\n",
      "[178]\tvalid_0's binary_logloss: 3.35665e-06\n"
     ]
    },
    {
     "name": "stderr",
     "output_type": "stream",
     "text": [
      "feature_fraction_stage2, val_score: 0.000002:   0%|          | 0/6 [00:00<?, ?it/s]"
     ]
    },
    {
     "name": "stdout",
     "output_type": "stream",
     "text": [
      "Training until validation scores don't improve for 50 rounds\n"
     ]
    },
    {
     "name": "stderr",
     "output_type": "stream",
     "text": [
      "feature_fraction_stage2, val_score: 0.000002:  17%|#6        | 1/6 [00:01<00:08,  1.72s/it][I 2024-08-08 09:32:12,850] Trial 37 finished with value: 2.14662488275275e-06 and parameters: {'feature_fraction': 0.616}. Best is trial 37 with value: 2.14662488275275e-06.\n",
      "feature_fraction_stage2, val_score: 0.000002:  17%|#6        | 1/6 [00:01<00:08,  1.72s/it]"
     ]
    },
    {
     "name": "stdout",
     "output_type": "stream",
     "text": [
      "Early stopping, best iteration is:\n",
      "[127]\tvalid_0's binary_logloss: 2.14662e-06\n",
      "Training until validation scores don't improve for 50 rounds\n"
     ]
    },
    {
     "name": "stderr",
     "output_type": "stream",
     "text": [
      "feature_fraction_stage2, val_score: 0.000002:  33%|###3      | 2/6 [00:02<00:05,  1.34s/it][I 2024-08-08 09:32:13,862] Trial 38 finished with value: 2.1466248827527503e-06 and parameters: {'feature_fraction': 0.552}. Best is trial 37 with value: 2.14662488275275e-06.\n",
      "feature_fraction_stage2, val_score: 0.000002:  33%|###3      | 2/6 [00:02<00:05,  1.34s/it]"
     ]
    },
    {
     "name": "stdout",
     "output_type": "stream",
     "text": [
      "Early stopping, best iteration is:\n",
      "[126]\tvalid_0's binary_logloss: 2.14662e-06\n",
      "Training until validation scores don't improve for 50 rounds\n"
     ]
    },
    {
     "name": "stderr",
     "output_type": "stream",
     "text": [
      "feature_fraction_stage2, val_score: 0.000002:  50%|#####     | 3/6 [00:03<00:03,  1.19s/it][I 2024-08-08 09:32:14,879] Trial 39 finished with value: 2.291765846396481e-06 and parameters: {'feature_fraction': 0.6799999999999999}. Best is trial 37 with value: 2.14662488275275e-06.\n",
      "feature_fraction_stage2, val_score: 0.000002:  50%|#####     | 3/6 [00:03<00:03,  1.19s/it]"
     ]
    },
    {
     "name": "stdout",
     "output_type": "stream",
     "text": [
      "Early stopping, best iteration is:\n",
      "[125]\tvalid_0's binary_logloss: 2.29177e-06\n",
      "Training until validation scores don't improve for 50 rounds\n"
     ]
    },
    {
     "name": "stderr",
     "output_type": "stream",
     "text": [
      "feature_fraction_stage2, val_score: 0.000002:  67%|######6   | 4/6 [00:04<00:02,  1.19s/it][I 2024-08-08 09:32:16,069] Trial 40 finished with value: 2.0125026163241743e-06 and parameters: {'feature_fraction': 0.52}. Best is trial 40 with value: 2.0125026163241743e-06.\n",
      "feature_fraction_stage2, val_score: 0.000002:  67%|######6   | 4/6 [00:05<00:02,  1.19s/it]"
     ]
    },
    {
     "name": "stdout",
     "output_type": "stream",
     "text": [
      "Early stopping, best iteration is:\n",
      "[167]\tvalid_0's binary_logloss: 2.0125e-06\n",
      "Training until validation scores don't improve for 50 rounds\n"
     ]
    },
    {
     "name": "stderr",
     "output_type": "stream",
     "text": [
      "feature_fraction_stage2, val_score: 0.000002:  83%|########3 | 5/6 [00:06<00:01,  1.16s/it][I 2024-08-08 09:32:17,163] Trial 41 finished with value: 2.14662488275275e-06 and parameters: {'feature_fraction': 0.584}. Best is trial 40 with value: 2.0125026163241743e-06.\n",
      "feature_fraction_stage2, val_score: 0.000002:  83%|########3 | 5/6 [00:06<00:01,  1.16s/it]"
     ]
    },
    {
     "name": "stdout",
     "output_type": "stream",
     "text": [
      "Early stopping, best iteration is:\n",
      "[127]\tvalid_0's binary_logloss: 2.14662e-06\n",
      "Training until validation scores don't improve for 50 rounds\n"
     ]
    },
    {
     "name": "stderr",
     "output_type": "stream",
     "text": [
      "feature_fraction_stage2, val_score: 0.000002: 100%|##########| 6/6 [00:07<00:00,  1.11s/it][I 2024-08-08 09:32:18,187] Trial 42 finished with value: 2.1466248827527503e-06 and parameters: {'feature_fraction': 0.6479999999999999}. Best is trial 40 with value: 2.0125026163241743e-06.\n",
      "feature_fraction_stage2, val_score: 0.000002: 100%|##########| 6/6 [00:07<00:00,  1.19s/it]\n"
     ]
    },
    {
     "name": "stdout",
     "output_type": "stream",
     "text": [
      "Early stopping, best iteration is:\n",
      "[126]\tvalid_0's binary_logloss: 2.14662e-06\n"
     ]
    },
    {
     "name": "stderr",
     "output_type": "stream",
     "text": [
      "regularization_factors, val_score: 0.000002:   0%|          | 0/20 [00:00<?, ?it/s]"
     ]
    },
    {
     "name": "stdout",
     "output_type": "stream",
     "text": [
      "Training until validation scores don't improve for 50 rounds\n"
     ]
    },
    {
     "name": "stderr",
     "output_type": "stream",
     "text": [
      "regularization_factors, val_score: 0.000002:   5%|5         | 1/20 [00:01<00:26,  1.42s/it][I 2024-08-08 09:32:19,669] Trial 43 finished with value: 0.0063028094239934345 and parameters: {'lambda_l1': 1.8495070588185065, 'lambda_l2': 1.1970635053129228e-06}. Best is trial 43 with value: 0.0063028094239934345.\n",
      "regularization_factors, val_score: 0.000002:   5%|5         | 1/20 [00:01<00:26,  1.42s/it]"
     ]
    },
    {
     "name": "stdout",
     "output_type": "stream",
     "text": [
      "Early stopping, best iteration is:\n",
      "[499]\tvalid_0's binary_logloss: 0.00630281\n",
      "Training until validation scores don't improve for 50 rounds\n"
     ]
    },
    {
     "name": "stderr",
     "output_type": "stream",
     "text": [
      "regularization_factors, val_score: 0.000002:  10%|#         | 2/20 [00:05<00:50,  2.83s/it][I 2024-08-08 09:32:23,486] Trial 44 finished with value: 0.00023129851225082575 and parameters: {'lambda_l1': 1.4178291713567737e-08, 'lambda_l2': 6.431951057315815}. Best is trial 44 with value: 0.00023129851225082575.\n",
      "regularization_factors, val_score: 0.000002:  10%|#         | 2/20 [00:05<00:50,  2.83s/it]"
     ]
    },
    {
     "name": "stdout",
     "output_type": "stream",
     "text": [
      "Did not meet early stopping. Best iteration is:\n",
      "[1000]\tvalid_0's binary_logloss: 0.000231299\n",
      "Training until validation scores don't improve for 50 rounds\n"
     ]
    },
    {
     "name": "stderr",
     "output_type": "stream",
     "text": [
      "regularization_factors, val_score: 0.000002:  15%|#5        | 3/20 [00:08<00:54,  3.22s/it][I 2024-08-08 09:32:27,180] Trial 45 finished with value: 3.6666720961001066e-06 and parameters: {'lambda_l1': 1.812074381942672e-05, 'lambda_l2': 0.10395011798642881}. Best is trial 45 with value: 3.6666720961001066e-06.\n",
      "regularization_factors, val_score: 0.000002:  15%|#5        | 3/20 [00:08<00:54,  3.22s/it]"
     ]
    },
    {
     "name": "stdout",
     "output_type": "stream",
     "text": [
      "Did not meet early stopping. Best iteration is:\n",
      "[1000]\tvalid_0's binary_logloss: 3.66667e-06\n",
      "Training until validation scores don't improve for 50 rounds\n"
     ]
    },
    {
     "name": "stderr",
     "output_type": "stream",
     "text": [
      "regularization_factors, val_score: 0.000002:  20%|##        | 4/20 [00:09<00:33,  2.11s/it][I 2024-08-08 09:32:27,587] Trial 46 finished with value: 0.013335023573690884 and parameters: {'lambda_l1': 3.833298007500062, 'lambda_l2': 1.889529052935e-08}. Best is trial 45 with value: 3.6666720961001066e-06.\n",
      "regularization_factors, val_score: 0.000002:  20%|##        | 4/20 [00:09<00:33,  2.11s/it]"
     ]
    },
    {
     "name": "stdout",
     "output_type": "stream",
     "text": [
      "Early stopping, best iteration is:\n",
      "[472]\tvalid_0's binary_logloss: 0.013335\n",
      "Training until validation scores don't improve for 50 rounds\n"
     ]
    },
    {
     "name": "stderr",
     "output_type": "stream",
     "text": [
      "regularization_factors, val_score: 0.000002:  25%|##5       | 5/20 [00:09<00:23,  1.56s/it][I 2024-08-08 09:32:28,172] Trial 47 finished with value: 4.20686100357765e-06 and parameters: {'lambda_l1': 0.001644089057104538, 'lambda_l2': 0.0012942437375451257}. Best is trial 45 with value: 3.6666720961001066e-06.\n",
      "regularization_factors, val_score: 0.000002:  25%|##5       | 5/20 [00:09<00:23,  1.56s/it]"
     ]
    },
    {
     "name": "stdout",
     "output_type": "stream",
     "text": [
      "Early stopping, best iteration is:\n",
      "[805]\tvalid_0's binary_logloss: 4.20686e-06\n",
      "Training until validation scores don't improve for 50 rounds\n"
     ]
    },
    {
     "name": "stderr",
     "output_type": "stream",
     "text": [
      "regularization_factors, val_score: 0.000002:  30%|###       | 6/20 [00:10<00:15,  1.10s/it][I 2024-08-08 09:32:28,372] Trial 48 finished with value: 2.284440632126942e-06 and parameters: {'lambda_l1': 1.1402398973402957e-08, 'lambda_l2': 6.958867376556631e-05}. Best is trial 48 with value: 2.284440632126942e-06.\n",
      "regularization_factors, val_score: 0.000002:  30%|###       | 6/20 [00:10<00:15,  1.10s/it]"
     ]
    },
    {
     "name": "stdout",
     "output_type": "stream",
     "text": [
      "Early stopping, best iteration is:\n",
      "[129]\tvalid_0's binary_logloss: 2.28444e-06\n",
      "Training until validation scores don't improve for 50 rounds\n"
     ]
    },
    {
     "name": "stderr",
     "output_type": "stream",
     "text": [
      "regularization_factors, val_score: 0.000002:  35%|###5      | 7/20 [00:14<00:26,  2.05s/it][I 2024-08-08 09:32:32,367] Trial 49 finished with value: 2.9286774843407733e-06 and parameters: {'lambda_l1': 0.0011619863682329368, 'lambda_l2': 0.0024962059892616813}. Best is trial 48 with value: 2.284440632126942e-06.\n",
      "regularization_factors, val_score: 0.000002:  35%|###5      | 7/20 [00:14<00:26,  2.05s/it]"
     ]
    },
    {
     "name": "stdout",
     "output_type": "stream",
     "text": [
      "Did not meet early stopping. Best iteration is:\n",
      "[1000]\tvalid_0's binary_logloss: 2.92868e-06\n",
      "Training until validation scores don't improve for 50 rounds\n"
     ]
    },
    {
     "name": "stderr",
     "output_type": "stream",
     "text": [
      "regularization_factors, val_score: 0.000002:  40%|####      | 8/20 [00:15<00:20,  1.71s/it][I 2024-08-08 09:32:33,358] Trial 50 finished with value: 0.0003379235306630219 and parameters: {'lambda_l1': 2.0691170766995572e-06, 'lambda_l2': 9.377199189457265}. Best is trial 48 with value: 2.284440632126942e-06.\n",
      "regularization_factors, val_score: 0.000002:  40%|####      | 8/20 [00:15<00:20,  1.71s/it]"
     ]
    },
    {
     "name": "stdout",
     "output_type": "stream",
     "text": [
      "Did not meet early stopping. Best iteration is:\n",
      "[1000]\tvalid_0's binary_logloss: 0.000337924\n",
      "Training until validation scores don't improve for 50 rounds\n"
     ]
    },
    {
     "name": "stderr",
     "output_type": "stream",
     "text": [
      "regularization_factors, val_score: 0.000002:  45%|####5     | 9/20 [00:15<00:14,  1.31s/it][I 2024-08-08 09:32:33,780] Trial 51 finished with value: 0.00013269273935488286 and parameters: {'lambda_l1': 0.045682550111236384, 'lambda_l2': 1.0498802394843702e-08}. Best is trial 48 with value: 2.284440632126942e-06.\n",
      "regularization_factors, val_score: 0.000002:  45%|####5     | 9/20 [00:15<00:14,  1.31s/it]"
     ]
    },
    {
     "name": "stdout",
     "output_type": "stream",
     "text": [
      "Early stopping, best iteration is:\n",
      "[499]\tvalid_0's binary_logloss: 0.000132693\n",
      "Training until validation scores don't improve for 50 rounds\n"
     ]
    },
    {
     "name": "stderr",
     "output_type": "stream",
     "text": [
      "regularization_factors, val_score: 0.000002:  50%|#####     | 10/20 [00:15<00:09,  1.01it/s][I 2024-08-08 09:32:34,070] Trial 52 finished with value: 2.0137767875869962e-06 and parameters: {'lambda_l1': 1.3645085137885814e-06, 'lambda_l2': 1.5834844228045088e-05}. Best is trial 52 with value: 2.0137767875869962e-06.\n",
      "regularization_factors, val_score: 0.000002:  50%|#####     | 10/20 [00:15<00:09,  1.01it/s]"
     ]
    },
    {
     "name": "stdout",
     "output_type": "stream",
     "text": [
      "Early stopping, best iteration is:\n",
      "[236]\tvalid_0's binary_logloss: 2.01378e-06\n",
      "Training until validation scores don't improve for 50 rounds\n"
     ]
    },
    {
     "name": "stderr",
     "output_type": "stream",
     "text": [
      "regularization_factors, val_score: 0.000002:  55%|#####5    | 11/20 [00:16<00:06,  1.33it/s][I 2024-08-08 09:32:34,278] Trial 53 finished with value: 2.0292317452352645e-06 and parameters: {'lambda_l1': 1.1586207901969098e-06, 'lambda_l2': 5.089095360430386e-06}. Best is trial 52 with value: 2.0137767875869962e-06.\n",
      "regularization_factors, val_score: 0.000002:  55%|#####5    | 11/20 [00:16<00:06,  1.33it/s]"
     ]
    },
    {
     "name": "stdout",
     "output_type": "stream",
     "text": [
      "Early stopping, best iteration is:\n",
      "[159]\tvalid_0's binary_logloss: 2.02923e-06\n",
      "Training until validation scores don't improve for 50 rounds\n"
     ]
    },
    {
     "name": "stderr",
     "output_type": "stream",
     "text": [
      "regularization_factors, val_score: 0.000002:  60%|######    | 12/20 [00:16<00:04,  1.63it/s][I 2024-08-08 09:32:34,570] Trial 54 finished with value: 2.0250095616590128e-06 and parameters: {'lambda_l1': 1.1106132069275587e-06, 'lambda_l2': 3.325335319184501e-06}. Best is trial 52 with value: 2.0137767875869962e-06.\n",
      "regularization_factors, val_score: 0.000002:  60%|######    | 12/20 [00:16<00:04,  1.63it/s]"
     ]
    },
    {
     "name": "stdout",
     "output_type": "stream",
     "text": [
      "Early stopping, best iteration is:\n",
      "[159]\tvalid_0's binary_logloss: 2.02501e-06\n",
      "Training until validation scores don't improve for 50 rounds\n"
     ]
    },
    {
     "name": "stderr",
     "output_type": "stream",
     "text": [
      "regularization_factors, val_score: 0.000002:  65%|######5   | 13/20 [00:17<00:04,  1.56it/s][I 2024-08-08 09:32:35,272] Trial 55 finished with value: 2.0292886845160292e-06 and parameters: {'lambda_l1': 1.4218649370986131e-06, 'lambda_l2': 4.8951740924131155e-06}. Best is trial 52 with value: 2.0137767875869962e-06.\n",
      "regularization_factors, val_score: 0.000002:  65%|######5   | 13/20 [00:17<00:04,  1.56it/s]"
     ]
    },
    {
     "name": "stdout",
     "output_type": "stream",
     "text": [
      "Early stopping, best iteration is:\n",
      "[158]\tvalid_0's binary_logloss: 2.02929e-06\n",
      "Training until validation scores don't improve for 50 rounds\n"
     ]
    },
    {
     "name": "stderr",
     "output_type": "stream",
     "text": [
      "regularization_factors, val_score: 0.000002:  70%|#######   | 14/20 [00:17<00:03,  1.52it/s][I 2024-08-08 09:32:35,975] Trial 56 finished with value: 2.0354642414502887e-06 and parameters: {'lambda_l1': 1.0937374080374445e-06, 'lambda_l2': 7.982042195863639e-06}. Best is trial 52 with value: 2.0137767875869962e-06.\n",
      "regularization_factors, val_score: 0.000002:  70%|#######   | 14/20 [00:17<00:03,  1.52it/s]"
     ]
    },
    {
     "name": "stdout",
     "output_type": "stream",
     "text": [
      "Early stopping, best iteration is:\n",
      "[164]\tvalid_0's binary_logloss: 2.03546e-06\n",
      "Training until validation scores don't improve for 50 rounds\n"
     ]
    },
    {
     "name": "stderr",
     "output_type": "stream",
     "text": [
      "regularization_factors, val_score: 0.000002:  75%|#######5  | 15/20 [00:18<00:03,  1.49it/s][I 2024-08-08 09:32:36,669] Trial 57 finished with value: 2.0301690555890146e-06 and parameters: {'lambda_l1': 1.1974581430279494e-06, 'lambda_l2': 5.483985583705515e-06}. Best is trial 52 with value: 2.0137767875869962e-06.\n",
      "regularization_factors, val_score: 0.000002:  75%|#######5  | 15/20 [00:18<00:03,  1.49it/s]"
     ]
    },
    {
     "name": "stdout",
     "output_type": "stream",
     "text": [
      "Early stopping, best iteration is:\n",
      "[194]\tvalid_0's binary_logloss: 2.03017e-06\n",
      "Training until validation scores don't improve for 50 rounds\n"
     ]
    },
    {
     "name": "stderr",
     "output_type": "stream",
     "text": [
      "regularization_factors, val_score: 0.000002:  80%|########  | 16/20 [00:19<00:02,  1.48it/s][I 2024-08-08 09:32:37,355] Trial 58 finished with value: 2.0196766583774736e-06 and parameters: {'lambda_l1': 8.057585171185406e-07, 'lambda_l2': 1.2225096186125517e-06}. Best is trial 52 with value: 2.0137767875869962e-06.\n",
      "regularization_factors, val_score: 0.000002:  80%|########  | 16/20 [00:19<00:02,  1.48it/s]"
     ]
    },
    {
     "name": "stdout",
     "output_type": "stream",
     "text": [
      "Early stopping, best iteration is:\n",
      "[158]\tvalid_0's binary_logloss: 2.01968e-06\n",
      "Training until validation scores don't improve for 50 rounds\n"
     ]
    },
    {
     "name": "stderr",
     "output_type": "stream",
     "text": [
      "regularization_factors, val_score: 0.000002:  85%|########5 | 17/20 [00:19<00:01,  1.76it/s][I 2024-08-08 09:32:37,674] Trial 59 finished with value: 2.0144615045750617e-06 and parameters: {'lambda_l1': 3.2469280298749036e-07, 'lambda_l2': 5.13674128899627e-07}. Best is trial 52 with value: 2.0137767875869962e-06.\n",
      "regularization_factors, val_score: 0.000002:  85%|########5 | 17/20 [00:19<00:01,  1.76it/s]"
     ]
    },
    {
     "name": "stdout",
     "output_type": "stream",
     "text": [
      "Early stopping, best iteration is:\n",
      "[177]\tvalid_0's binary_logloss: 2.01446e-06\n",
      "Training until validation scores don't improve for 50 rounds\n"
     ]
    },
    {
     "name": "stderr",
     "output_type": "stream",
     "text": [
      "regularization_factors, val_score: 0.000002:  90%|######### | 18/20 [00:19<00:01,  1.93it/s][I 2024-08-08 09:32:38,084] Trial 60 finished with value: 2.013694040318634e-06 and parameters: {'lambda_l1': 1.27040202803415e-07, 'lambda_l2': 2.979017699047722e-07}. Best is trial 60 with value: 2.013694040318634e-06.\n",
      "regularization_factors, val_score: 0.000002:  90%|######### | 18/20 [00:19<00:01,  1.93it/s]"
     ]
    },
    {
     "name": "stdout",
     "output_type": "stream",
     "text": [
      "Early stopping, best iteration is:\n",
      "[168]\tvalid_0's binary_logloss: 2.01369e-06\n",
      "Training until validation scores don't improve for 50 rounds\n"
     ]
    },
    {
     "name": "stderr",
     "output_type": "stream",
     "text": [
      "regularization_factors, val_score: 0.000002:  95%|#########5| 19/20 [00:20<00:00,  1.67it/s][I 2024-08-08 09:32:38,866] Trial 61 finished with value: 2.0135764654942934e-06 and parameters: {'lambda_l1': 1.1198073248008227e-07, 'lambda_l2': 2.564808356455069e-07}. Best is trial 61 with value: 2.0135764654942934e-06.\n",
      "regularization_factors, val_score: 0.000002:  95%|#########5| 19/20 [00:20<00:00,  1.67it/s]"
     ]
    },
    {
     "name": "stdout",
     "output_type": "stream",
     "text": [
      "Early stopping, best iteration is:\n",
      "[171]\tvalid_0's binary_logloss: 2.01358e-06\n",
      "Training until validation scores don't improve for 50 rounds\n"
     ]
    },
    {
     "name": "stderr",
     "output_type": "stream",
     "text": [
      "regularization_factors, val_score: 0.000002: 100%|##########| 20/20 [00:20<00:00,  1.95it/s][I 2024-08-08 09:32:39,174] Trial 62 finished with value: 2.0137003097529094e-06 and parameters: {'lambda_l1': 1.0207625635986675e-07, 'lambda_l2': 3.2037641194236944e-07}. Best is trial 61 with value: 2.0135764654942934e-06.\n",
      "regularization_factors, val_score: 0.000002: 100%|##########| 20/20 [00:20<00:00,  1.05s/it]\n"
     ]
    },
    {
     "name": "stdout",
     "output_type": "stream",
     "text": [
      "Early stopping, best iteration is:\n",
      "[174]\tvalid_0's binary_logloss: 2.0137e-06\n"
     ]
    },
    {
     "name": "stderr",
     "output_type": "stream",
     "text": [
      "min_child_samples, val_score: 0.000002:   0%|          | 0/5 [00:00<?, ?it/s]"
     ]
    },
    {
     "name": "stdout",
     "output_type": "stream",
     "text": [
      "Training until validation scores don't improve for 50 rounds\n"
     ]
    },
    {
     "name": "stderr",
     "output_type": "stream",
     "text": [
      "min_child_samples, val_score: 0.000002:  20%|##        | 1/5 [00:00<00:01,  3.40it/s][I 2024-08-08 09:32:39,476] Trial 63 finished with value: 2.4206643957387136e-06 and parameters: {'min_child_samples': 100}. Best is trial 63 with value: 2.4206643957387136e-06.\n",
      "min_child_samples, val_score: 0.000002:  20%|##        | 1/5 [00:00<00:01,  3.40it/s]"
     ]
    },
    {
     "name": "stdout",
     "output_type": "stream",
     "text": [
      "Early stopping, best iteration is:\n",
      "[144]\tvalid_0's binary_logloss: 2.42066e-06\n",
      "Training until validation scores don't improve for 50 rounds\n"
     ]
    },
    {
     "name": "stderr",
     "output_type": "stream",
     "text": [
      "min_child_samples, val_score: 0.000002:  40%|####      | 2/5 [00:01<00:03,  1.11s/it][I 2024-08-08 09:32:41,155] Trial 64 finished with value: 1.997370622157994e-06 and parameters: {'min_child_samples': 5}. Best is trial 64 with value: 1.997370622157994e-06.\n",
      "min_child_samples, val_score: 0.000002:  40%|####      | 2/5 [00:01<00:03,  1.11s/it]"
     ]
    },
    {
     "name": "stdout",
     "output_type": "stream",
     "text": [
      "Early stopping, best iteration is:\n",
      "[147]\tvalid_0's binary_logloss: 1.99737e-06\n",
      "Training until validation scores don't improve for 50 rounds\n"
     ]
    },
    {
     "name": "stderr",
     "output_type": "stream",
     "text": [
      "min_child_samples, val_score: 0.000002:  60%|######    | 3/5 [00:03<00:02,  1.47s/it][I 2024-08-08 09:32:43,060] Trial 65 finished with value: 2.2631610156251653e-06 and parameters: {'min_child_samples': 10}. Best is trial 64 with value: 1.997370622157994e-06.\n",
      "min_child_samples, val_score: 0.000002:  60%|######    | 3/5 [00:03<00:02,  1.47s/it]"
     ]
    },
    {
     "name": "stdout",
     "output_type": "stream",
     "text": [
      "Early stopping, best iteration is:\n",
      "[152]\tvalid_0's binary_logloss: 2.26316e-06\n",
      "Training until validation scores don't improve for 50 rounds\n"
     ]
    },
    {
     "name": "stderr",
     "output_type": "stream",
     "text": [
      "min_child_samples, val_score: 0.000002:  80%|########  | 4/5 [00:05<00:01,  1.40s/it][I 2024-08-08 09:32:44,360] Trial 66 finished with value: 2.024378084866936e-06 and parameters: {'min_child_samples': 25}. Best is trial 64 with value: 1.997370622157994e-06.\n",
      "min_child_samples, val_score: 0.000002:  80%|########  | 4/5 [00:05<00:01,  1.40s/it]"
     ]
    },
    {
     "name": "stdout",
     "output_type": "stream",
     "text": [
      "Early stopping, best iteration is:\n",
      "[161]\tvalid_0's binary_logloss: 2.02438e-06\n",
      "Training until validation scores don't improve for 50 rounds\n"
     ]
    },
    {
     "name": "stderr",
     "output_type": "stream",
     "text": [
      "min_child_samples, val_score: 0.000002: 100%|##########| 5/5 [00:06<00:00,  1.22s/it][I 2024-08-08 09:32:45,259] Trial 67 finished with value: 1.9766673714352775e-06 and parameters: {'min_child_samples': 50}. Best is trial 67 with value: 1.9766673714352775e-06.\n",
      "min_child_samples, val_score: 0.000002: 100%|##########| 5/5 [00:06<00:00,  1.22s/it]"
     ]
    },
    {
     "name": "stdout",
     "output_type": "stream",
     "text": [
      "Early stopping, best iteration is:\n",
      "[158]\tvalid_0's binary_logloss: 1.97667e-06\n"
     ]
    },
    {
     "name": "stderr",
     "output_type": "stream",
     "text": [
      "\n"
     ]
    }
   ],
   "source": [
    "optimizer = LGBOptunaOptimizer(\n",
    "    objective=\"binary\",\n",
    "    n_class=2,\n",
    ")\n",
    "\n",
    "trainer = Trainer(\n",
    "    cat_cols=prepare_data.cat_cols,\n",
    "    target_col=prepare_data.target_col,\n",
    "    id_cols=id_cols,\n",
    "    objective=\"binary\",\n",
    "    n_class=2,\n",
    "    optimizer=optimizer,\n",
    "    preprocessors=[prepare_data],\n",
    ")\n",
    "\n",
    "metrics_dict = trainer.fit(\n",
    "    df_train=df_train,\n",
    "    df_valid=df_valid,\n",
    "    df_test=df_test,\n",
    ")"
   ]
  },
  {
   "cell_type": "code",
   "execution_count": 9,
   "metadata": {},
   "outputs": [
    {
     "data": {
      "text/html": [
       "<div>\n",
       "<style scoped>\n",
       "    .dataframe tbody tr th:only-of-type {\n",
       "        vertical-align: middle;\n",
       "    }\n",
       "\n",
       "    .dataframe tbody tr th {\n",
       "        vertical-align: top;\n",
       "    }\n",
       "\n",
       "    .dataframe thead th {\n",
       "        text-align: right;\n",
       "    }\n",
       "</style>\n",
       "<table border=\"1\" class=\"dataframe\">\n",
       "  <thead>\n",
       "    <tr style=\"text-align: right;\">\n",
       "      <th></th>\n",
       "      <th>Vehicle_speed</th>\n",
       "      <th>Time_since_engine_start</th>\n",
       "      <th>Normed_load_value</th>\n",
       "      <th>Accelerator_pedal_position</th>\n",
       "      <th>Engine_torque</th>\n",
       "      <th>Oil_fill_level</th>\n",
       "      <th>Engine_oil_temperature</th>\n",
       "      <th>Fuel_level</th>\n",
       "      <th>Fuel_consumption</th>\n",
       "      <th>Brake_pressure</th>\n",
       "      <th>Engaged_gear_raw_signal_Bits_0_7</th>\n",
       "      <th>Efficiency_of_the_SCR_catalytic_converter</th>\n",
       "      <th>timestamp</th>\n",
       "      <th>class</th>\n",
       "      <th>vehicle_id</th>\n",
       "    </tr>\n",
       "  </thead>\n",
       "  <tbody>\n",
       "    <tr>\n",
       "      <th>36</th>\n",
       "      <td>0.0</td>\n",
       "      <td>120.0</td>\n",
       "      <td>100.0</td>\n",
       "      <td>14.5</td>\n",
       "      <td>40.4</td>\n",
       "      <td>30.044</td>\n",
       "      <td>13.5</td>\n",
       "      <td>9.0</td>\n",
       "      <td>0.82</td>\n",
       "      <td>-0.03</td>\n",
       "      <td>0.0</td>\n",
       "      <td>0.00430</td>\n",
       "      <td>2024-08-08 08:32:36.984616041</td>\n",
       "      <td>1</td>\n",
       "      <td>123abc</td>\n",
       "    </tr>\n",
       "    <tr>\n",
       "      <th>126</th>\n",
       "      <td>0.0</td>\n",
       "      <td>255.0</td>\n",
       "      <td>27.8</td>\n",
       "      <td>14.5</td>\n",
       "      <td>36.5</td>\n",
       "      <td>29.924</td>\n",
       "      <td>19.8</td>\n",
       "      <td>9.0</td>\n",
       "      <td>0.73</td>\n",
       "      <td>-0.03</td>\n",
       "      <td>0.0</td>\n",
       "      <td>0.04614</td>\n",
       "      <td>2024-08-08 08:34:51.534615992</td>\n",
       "      <td>0</td>\n",
       "      <td>123abc</td>\n",
       "    </tr>\n",
       "    <tr>\n",
       "      <th>102</th>\n",
       "      <td>0.0</td>\n",
       "      <td>219.0</td>\n",
       "      <td>29.8</td>\n",
       "      <td>14.5</td>\n",
       "      <td>38.8</td>\n",
       "      <td>29.804</td>\n",
       "      <td>18.5</td>\n",
       "      <td>9.0</td>\n",
       "      <td>0.77</td>\n",
       "      <td>-0.03</td>\n",
       "      <td>0.0</td>\n",
       "      <td>0.00906</td>\n",
       "      <td>2024-08-08 08:34:15.684616089</td>\n",
       "      <td>0</td>\n",
       "      <td>123abc</td>\n",
       "    </tr>\n",
       "    <tr>\n",
       "      <th>81</th>\n",
       "      <td>0.0</td>\n",
       "      <td>187.0</td>\n",
       "      <td>100.0</td>\n",
       "      <td>14.5</td>\n",
       "      <td>39.6</td>\n",
       "      <td>29.864</td>\n",
       "      <td>17.1</td>\n",
       "      <td>9.0</td>\n",
       "      <td>0.80</td>\n",
       "      <td>-0.03</td>\n",
       "      <td>0.0</td>\n",
       "      <td>0.05289</td>\n",
       "      <td>2024-08-08 08:33:44.274616003</td>\n",
       "      <td>1</td>\n",
       "      <td>123abc</td>\n",
       "    </tr>\n",
       "    <tr>\n",
       "      <th>426</th>\n",
       "      <td>0.0</td>\n",
       "      <td>705.0</td>\n",
       "      <td>25.1</td>\n",
       "      <td>14.5</td>\n",
       "      <td>30.5</td>\n",
       "      <td>35.524</td>\n",
       "      <td>29.8</td>\n",
       "      <td>8.0</td>\n",
       "      <td>0.60</td>\n",
       "      <td>-0.03</td>\n",
       "      <td>0.0</td>\n",
       "      <td>0.08121</td>\n",
       "      <td>2024-08-08 08:42:22.054615974</td>\n",
       "      <td>0</td>\n",
       "      <td>123abc</td>\n",
       "    </tr>\n",
       "  </tbody>\n",
       "</table>\n",
       "</div>"
      ],
      "text/plain": [
       "     Vehicle_speed  Time_since_engine_start  Normed_load_value  \\\n",
       "36             0.0                    120.0              100.0   \n",
       "126            0.0                    255.0               27.8   \n",
       "102            0.0                    219.0               29.8   \n",
       "81             0.0                    187.0              100.0   \n",
       "426            0.0                    705.0               25.1   \n",
       "\n",
       "     Accelerator_pedal_position  Engine_torque  Oil_fill_level  \\\n",
       "36                         14.5           40.4          30.044   \n",
       "126                        14.5           36.5          29.924   \n",
       "102                        14.5           38.8          29.804   \n",
       "81                         14.5           39.6          29.864   \n",
       "426                        14.5           30.5          35.524   \n",
       "\n",
       "     Engine_oil_temperature  Fuel_level  Fuel_consumption  Brake_pressure  \\\n",
       "36                     13.5         9.0              0.82           -0.03   \n",
       "126                    19.8         9.0              0.73           -0.03   \n",
       "102                    18.5         9.0              0.77           -0.03   \n",
       "81                     17.1         9.0              0.80           -0.03   \n",
       "426                    29.8         8.0              0.60           -0.03   \n",
       "\n",
       "     Engaged_gear_raw_signal_Bits_0_7  \\\n",
       "36                                0.0   \n",
       "126                               0.0   \n",
       "102                               0.0   \n",
       "81                                0.0   \n",
       "426                               0.0   \n",
       "\n",
       "     Efficiency_of_the_SCR_catalytic_converter                     timestamp  \\\n",
       "36                                     0.00430 2024-08-08 08:32:36.984616041   \n",
       "126                                    0.04614 2024-08-08 08:34:51.534615992   \n",
       "102                                    0.00906 2024-08-08 08:34:15.684616089   \n",
       "81                                     0.05289 2024-08-08 08:33:44.274616003   \n",
       "426                                    0.08121 2024-08-08 08:42:22.054615974   \n",
       "\n",
       "     class vehicle_id  \n",
       "36       1     123abc  \n",
       "126      0     123abc  \n",
       "102      0     123abc  \n",
       "81       1     123abc  \n",
       "426      0     123abc  "
      ]
     },
     "execution_count": 9,
     "metadata": {},
     "output_type": "execute_result"
    }
   ],
   "source": [
    "df_test.head()"
   ]
  },
  {
   "cell_type": "code",
   "execution_count": 3,
   "metadata": {},
   "outputs": [],
   "source": [
    "# save/load trainer\n",
    "dill_dump(\"data/lgbm_trainer.dill\", trainer)\n",
    "trainer = dill_load(\"data/lgbm_trainer.dill\")"
   ]
  },
  {
   "cell_type": "code",
   "execution_count": 10,
   "metadata": {},
   "outputs": [],
   "source": [
    "pprint(metrics_dict)"
   ]
  },
  {
   "cell_type": "code",
   "execution_count": 11,
   "metadata": {},
   "outputs": [
    {
     "name": "stdout",
     "output_type": "stream",
     "text": [
      "{'cls_report': {'0': {'f1-score': 1.0,\n",
      "                      'precision': 1.0,\n",
      "                      'recall': 1.0,\n",
      "                      'support': 35},\n",
      "                '1': {'f1-score': 1.0,\n",
      "                      'precision': 1.0,\n",
      "                      'recall': 1.0,\n",
      "                      'support': 10},\n",
      "                'accuracy': 1.0,\n",
      "                'macro avg': {'f1-score': 1.0,\n",
      "                              'precision': 1.0,\n",
      "                              'recall': 1.0,\n",
      "                              'support': 45},\n",
      "                'weighted avg': {'f1-score': 1.0,\n",
      "                                 'precision': 1.0,\n",
      "                                 'recall': 1.0,\n",
      "                                 'support': 45}},\n",
      " 'cm': [[35, 0], [0, 10]],\n",
      " 'prec_rec_curve': [[0.2222222222222222, 1.0, 1.0],\n",
      "                    [1.0, 1.0, 0.0],\n",
      "                    [0.0, 1.0]]}\n"
     ]
    }
   ],
   "source": [
    "pprint(trainer.compute_metrics(df_test, with_dynamic_binary_threshold=True))"
   ]
  },
  {
   "cell_type": "code",
   "execution_count": 14,
   "metadata": {},
   "outputs": [],
   "source": [
    "trainer.predict(df_test.drop(columns=[\"class\"]))"
   ]
  },
  {
   "cell_type": "code",
   "execution_count": 6,
   "metadata": {},
   "outputs": [],
   "source": [
    "pubsub, write_api = set_production_env()\n",
    "\n",
    "for message in pubsub.listen():\n",
    "    if message[\"type\"] == \"message\":\n",
    "        try:\n",
    "            df = handle_redis_message(message)\n",
    "\n",
    "            preds = trainer.predict(df)\n",
    "\n",
    "            # make and write points to influxdb \n",
    "            # TODO make a non-default bucket\n",
    "            points = [\n",
    "                df_row_to_influxdb_point(row) for index, row in preds.iterrows()\n",
    "            ]\n",
    "            write_api.write(bucket=\"default\", record=points)\n",
    "        except Exception as e:\n",
    "            print(f\"Error processing message: {e}\")"
   ]
  },
  {
   "cell_type": "markdown",
   "metadata": {},
   "source": [
    "# For a general case of using a model API and model monitoring\n",
    "\n",
    "SUCCESS6G project requires subscription to an edge-Redis db channel to ingest the data, and directly forward the predictions to a central Influx database. Both Redis and InfluxDB are socket objects which cause issues with MLflow with the following error: `Full serialization error: cannot pickle 'socket' object`\n",
    "\n",
    "* Workaround#1: **[implemented]** create a Docker image with a script that subscribes to a Redis channel and pushes predictions to Influxdb\n",
    "* Workaround#2: [create a custom Kserve model](https://kserve.github.io/website/master/modelserving/v1beta1/custom/custom_model/#implement-custom-model-using-kserve-api) "
   ]
  },
  {
   "cell_type": "markdown",
   "metadata": {},
   "source": [
    "## Mlflow\n",
    "* tracking\n",
    "* model registration in Minio\n",
    "* [permanent experiment deletion](https://mlflow.org/docs/2.11.3/tracking/artifacts-stores.html?highlight=delete%20experiment#deletion-behavior)\n",
    "```\n",
    "# in python\n",
    "mlflow.get_experiment_by_name(\"success6g_lgbm\").experiment_id\n",
    "# in cmd\n",
    "mlflow experiments delete -x 1\n",
    "```"
   ]
  },
  {
   "cell_type": "code",
   "execution_count": 23,
   "metadata": {},
   "outputs": [
    {
     "data": {
      "text/plain": [
       "<Experiment: artifact_location='s3://mlflow/3', creation_time=1716388845676, experiment_id='3', last_update_time=1716388845676, lifecycle_stage='active', name='success6g', tags={}>"
      ]
     },
     "execution_count": 23,
     "metadata": {},
     "output_type": "execute_result"
    }
   ],
   "source": [
    "mlflow_host = \"10.152.183.54\"\n",
    "mlflow_host_url = \"mlflow.mlflow.svc.cluster.local\"\n",
    "mlflow_port = \"5000\"\n",
    "os.environ[\"AWS_ACCESS_KEY_ID\"] = \"minioadmin\"\n",
    "os.environ[\"AWS_SECRET_ACCESS_KEY\"] = \"minioadmin\"\n",
    "os.environ[\"MLFLOW_S3_ENDPOINT_URL\"] = f\"http://10.152.183.156:9000\"\n",
    "\n",
    "mlflow.set_tracking_uri(\"http://\" + mlflow_host + \":\" + mlflow_port)\n",
    "experiment_id = get_or_create_experiment(\"success6g\")\n",
    "mlflow.set_experiment(experiment_id=experiment_id)"
   ]
  },
  {
   "cell_type": "code",
   "execution_count": 24,
   "metadata": {},
   "outputs": [],
   "source": [
    "metrics_dict_flattened = flatten_dict(metrics_dict)\n",
    "# mlflow metrics can be only int, float not list\n",
    "del metrics_dict_flattened[\"cm\"]\n",
    "del metrics_dict_flattened[\"prec_rec_curve\"]"
   ]
  },
  {
   "cell_type": "code",
   "execution_count": 19,
   "metadata": {},
   "outputs": [],
   "source": [
    "run_name = \"test\"\n",
    "with mlflow.start_run(\n",
    "    experiment_id=experiment_id, run_name=run_name, nested=True\n",
    ") as run:\n",
    "    mlflow.log_params(trainer.optimizer.best)\n",
    "    mlflow.log_metrics(metrics_dict_flattened)\n",
    "\n",
    "    # Log tags\n",
    "    mlflow.set_tags(\n",
    "        tags={\n",
    "            \"project\": \"SUCCESS6G\",\n",
    "            \"optimizer_engine\": \"optuna\",\n",
    "            \"model_family\": \"ligtgbm\",\n",
    "            \"feature_set_version\": 1,\n",
    "        }\n",
    "    )\n",
    "    # Log figure - for future fun\n",
    "    # mlflow.log_figure(figure=correlation_plot, artifact_file=\"correlation_plot.png\")\n",
    "\n",
    "    artifact_path = \"success6g_model\"\n",
    "    registered_model_name = \"success6g_model\"\n",
    "    mlflow.pyfunc.log_model(\n",
    "        python_model=trainer,\n",
    "        artifact_path=artifact_path,\n",
    "        registered_model_name=registered_model_name,\n",
    "    )\n",
    "    model_uri = mlflow.get_artifact_uri(artifact_path)\n",
    "    print(f\"Run ID:\\n{run.info.run_id}\\nModel uri:\\n{model_uri}\")"
   ]
  },
  {
   "cell_type": "markdown",
   "metadata": {},
   "source": [
    "## Testing of predictions"
   ]
  },
  {
   "cell_type": "markdown",
   "metadata": {},
   "source": [
    "### Example data"
   ]
  },
  {
   "cell_type": "code",
   "execution_count": 30,
   "metadata": {},
   "outputs": [
    {
     "data": {
      "text/html": [
       "<div>\n",
       "<style scoped>\n",
       "    .dataframe tbody tr th:only-of-type {\n",
       "        vertical-align: middle;\n",
       "    }\n",
       "\n",
       "    .dataframe tbody tr th {\n",
       "        vertical-align: top;\n",
       "    }\n",
       "\n",
       "    .dataframe thead th {\n",
       "        text-align: right;\n",
       "    }\n",
       "</style>\n",
       "<table border=\"1\" class=\"dataframe\">\n",
       "  <thead>\n",
       "    <tr style=\"text-align: right;\">\n",
       "      <th></th>\n",
       "      <th>engine_load</th>\n",
       "      <th>engine_coolant_temp</th>\n",
       "      <th>engine_speed</th>\n",
       "      <th>vehicle_speed</th>\n",
       "      <th>intake_air_temp</th>\n",
       "      <th>maf</th>\n",
       "      <th>throttle_position</th>\n",
       "      <th>fuel_rg_pressure</th>\n",
       "      <th>barometric_pressure</th>\n",
       "      <th>control_voltage</th>\n",
       "      <th>class</th>\n",
       "      <th>car_id</th>\n",
       "    </tr>\n",
       "  </thead>\n",
       "  <tbody>\n",
       "    <tr>\n",
       "      <th>0</th>\n",
       "      <td>100.0</td>\n",
       "      <td>17.0</td>\n",
       "      <td>904.5</td>\n",
       "      <td>0.0</td>\n",
       "      <td>10.0</td>\n",
       "      <td>12.55</td>\n",
       "      <td>83.14</td>\n",
       "      <td>37270.0</td>\n",
       "      <td>101.0</td>\n",
       "      <td>0.06</td>\n",
       "      <td>1</td>\n",
       "      <td>123abc</td>\n",
       "    </tr>\n",
       "    <tr>\n",
       "      <th>1</th>\n",
       "      <td>100.0</td>\n",
       "      <td>17.0</td>\n",
       "      <td>906.0</td>\n",
       "      <td>0.0</td>\n",
       "      <td>11.0</td>\n",
       "      <td>12.36</td>\n",
       "      <td>83.14</td>\n",
       "      <td>37800.0</td>\n",
       "      <td>101.0</td>\n",
       "      <td>14.56</td>\n",
       "      <td>1</td>\n",
       "      <td>123abc</td>\n",
       "    </tr>\n",
       "  </tbody>\n",
       "</table>\n",
       "</div>"
      ],
      "text/plain": [
       "   engine_load  engine_coolant_temp  engine_speed  vehicle_speed  \\\n",
       "0        100.0                 17.0         904.5            0.0   \n",
       "1        100.0                 17.0         906.0            0.0   \n",
       "\n",
       "   intake_air_temp    maf  throttle_position  fuel_rg_pressure  \\\n",
       "0             10.0  12.55              83.14           37270.0   \n",
       "1             11.0  12.36              83.14           37800.0   \n",
       "\n",
       "   barometric_pressure  control_voltage  class  car_id  \n",
       "0                101.0             0.06      1  123abc  \n",
       "1                101.0            14.56      1  123abc  "
      ]
     },
     "execution_count": 30,
     "metadata": {},
     "output_type": "execute_result"
    }
   ],
   "source": [
    "df_pd.iloc[:2]"
   ]
  },
  {
   "cell_type": "code",
   "execution_count": 31,
   "metadata": {},
   "outputs": [],
   "source": [
    "# for testing using mlflow inference service\n",
    "request_dict = {\n",
    "    \"engine_load\": [100.0, 100.0],\n",
    "    \"engine_coolant_temp\": [17.0, 17.0],\n",
    "    \"engine_speed\": [904.5, 906.0],\n",
    "    \"vehicle_speed\": [0.0, 0.0],\n",
    "    \"intake_air_temp\": [10.0, 11.0],\n",
    "    \"maf\": [12.55, 12.36],\n",
    "    \"throttle_position\": [83.14, 83.14],\n",
    "    \"fuel_rg_pressure\": [37270.0, 37800.0],\n",
    "    \"barometric_pressure\": [101.0, 101.0],\n",
    "    \"control_voltage\": [0.06, 14.56],\n",
    "    \"class\": [1, 1],\n",
    "    \"car_id\": [\"123abc\", \"123abc\"],\n",
    "}"
   ]
  },
  {
   "cell_type": "markdown",
   "metadata": {},
   "source": [
    "### Trainer"
   ]
  },
  {
   "cell_type": "code",
   "execution_count": 32,
   "metadata": {},
   "outputs": [
    {
     "data": {
      "text/html": [
       "<div>\n",
       "<style scoped>\n",
       "    .dataframe tbody tr th:only-of-type {\n",
       "        vertical-align: middle;\n",
       "    }\n",
       "\n",
       "    .dataframe tbody tr th {\n",
       "        vertical-align: top;\n",
       "    }\n",
       "\n",
       "    .dataframe thead th {\n",
       "        text-align: right;\n",
       "    }\n",
       "</style>\n",
       "<table border=\"1\" class=\"dataframe\">\n",
       "  <thead>\n",
       "    <tr style=\"text-align: right;\">\n",
       "      <th></th>\n",
       "      <th>class</th>\n",
       "    </tr>\n",
       "  </thead>\n",
       "  <tbody>\n",
       "    <tr>\n",
       "      <th>0</th>\n",
       "      <td>14.269467</td>\n",
       "    </tr>\n",
       "    <tr>\n",
       "      <th>1</th>\n",
       "      <td>14.269467</td>\n",
       "    </tr>\n",
       "  </tbody>\n",
       "</table>\n",
       "</div>"
      ],
      "text/plain": [
       "       class\n",
       "0  14.269467\n",
       "1  14.269467"
      ]
     },
     "execution_count": 32,
     "metadata": {},
     "output_type": "execute_result"
    }
   ],
   "source": [
    "trainer.predict(df=df_pd.iloc[:2].drop(columns=[\"class\"]), context={})"
   ]
  },
  {
   "cell_type": "markdown",
   "metadata": {},
   "source": [
    "### Downloaded Trainer"
   ]
  },
  {
   "cell_type": "code",
   "execution_count": 33,
   "metadata": {},
   "outputs": [
    {
     "data": {
      "text/plain": [
       "'s3://mlflow/3/24fedb96c5004767800fa32a3220c8dd/artifacts/success6g_model'"
      ]
     },
     "execution_count": 33,
     "metadata": {},
     "output_type": "execute_result"
    }
   ],
   "source": [
    "model_uri"
   ]
  },
  {
   "cell_type": "code",
   "execution_count": 34,
   "metadata": {},
   "outputs": [
    {
     "data": {
      "application/vnd.jupyter.widget-view+json": {
       "model_id": "906c0950bfb2435aa8d4b2be36f8b810",
       "version_major": 2,
       "version_minor": 0
      },
      "text/plain": [
       "Downloading artifacts:   0%|          | 0/9 [00:00<?, ?it/s]"
      ]
     },
     "metadata": {},
     "output_type": "display_data"
    }
   ],
   "source": [
    "loaded_trainer = mlflow.pyfunc.load_model(model_uri)"
   ]
  },
  {
   "cell_type": "code",
   "execution_count": 35,
   "metadata": {},
   "outputs": [
    {
     "data": {
      "text/html": [
       "<div>\n",
       "<style scoped>\n",
       "    .dataframe tbody tr th:only-of-type {\n",
       "        vertical-align: middle;\n",
       "    }\n",
       "\n",
       "    .dataframe tbody tr th {\n",
       "        vertical-align: top;\n",
       "    }\n",
       "\n",
       "    .dataframe thead th {\n",
       "        text-align: right;\n",
       "    }\n",
       "</style>\n",
       "<table border=\"1\" class=\"dataframe\">\n",
       "  <thead>\n",
       "    <tr style=\"text-align: right;\">\n",
       "      <th></th>\n",
       "      <th>class</th>\n",
       "    </tr>\n",
       "  </thead>\n",
       "  <tbody>\n",
       "    <tr>\n",
       "      <th>0</th>\n",
       "      <td>14.269467</td>\n",
       "    </tr>\n",
       "    <tr>\n",
       "      <th>1</th>\n",
       "      <td>14.269467</td>\n",
       "    </tr>\n",
       "  </tbody>\n",
       "</table>\n",
       "</div>"
      ],
      "text/plain": [
       "       class\n",
       "0  14.269467\n",
       "1  14.269467"
      ]
     },
     "execution_count": 35,
     "metadata": {},
     "output_type": "execute_result"
    }
   ],
   "source": [
    "loaded_trainer.predict(df_pd.iloc[:2].drop(columns=[\"class\"]))"
   ]
  },
  {
   "cell_type": "markdown",
   "metadata": {},
   "source": [
    "### Downloaded/Served Trainer\n",
    "* i.e. testing [model locally](https://mlflow.org/docs/latest/deployment/deploy-model-to-kubernetes/tutorial.html?highlight=kserve#step-6-testing-model-serving-locally)"
   ]
  },
  {
   "cell_type": "code",
   "execution_count": 36,
   "metadata": {},
   "outputs": [
    {
     "data": {
      "text/plain": [
       "'s3://mlflow/3/24fedb96c5004767800fa32a3220c8dd/artifacts/success6g_model'"
      ]
     },
     "execution_count": 36,
     "metadata": {},
     "output_type": "execute_result"
    }
   ],
   "source": [
    "model_uri"
   ]
  },
  {
   "cell_type": "code",
   "execution_count": null,
   "metadata": {},
   "outputs": [
    {
     "name": "stdout",
     "output_type": "stream",
     "text": [
      "Downloading artifacts: 100%|████████████████████| 1/1 [00:00<00:00, 2088.80it/s]\n",
      "2024/05/22 14:45:07 INFO mlflow.models.flavor_backend_registry: Selected backend for flavor 'python_function'\n",
      "Downloading artifacts: 100%|██████████████████████| 9/9 [00:00<00:00, 69.72it/s]\n",
      "2024/05/22 14:45:07 INFO mlflow.pyfunc.backend: === Running command 'exec gunicorn --timeout=60 -b 127.0.0.1:5000 -w 1 ${GUNICORN_CMD_ARGS} -- mlflow.pyfunc.scoring_server.wsgi:app'\n",
      "[2024-05-22 14:45:07 +0000] [17971] [INFO] Starting gunicorn 22.0.0\n",
      "[2024-05-22 14:45:07 +0000] [17971] [INFO] Listening at: http://127.0.0.1:5000 (17971)\n",
      "[2024-05-22 14:45:07 +0000] [17971] [INFO] Using worker: sync\n",
      "[2024-05-22 14:45:07 +0000] [17972] [INFO] Booting worker with pid: 17972\n"
     ]
    }
   ],
   "source": [
    "! mlflow models serve -m \"s3://mlflow/3/24fedb96c5004767800fa32a3220c8dd/artifacts/success6g_model\" --env-manager local -p 5000"
   ]
  },
  {
   "cell_type": "markdown",
   "metadata": {
    "jp-MarkdownHeadingCollapsed": true
   },
   "source": [
    "```\n",
    "root@jupyter-5uperpalo:~/assignment# curl -X POST -H \"Content-Type:application/json\" --data '{\"inputs\": {\"engine_load\": [100.0 ,100.0], \"engine_coolant_temp\": [17.0, 17.0], \"engine_speed\": [904.5, 906.0], \"vehicle_speed\": [0.0, 0.0], \"intake_air_temp\": [10.0, 11.0], \"maf\": [12.55, 12.36], \"throttle_position\": [83.14, 83.14], \"fuel_rg_pressure\": [37270.0, 37800.0], \"barometric_pressure\": [101.0, 101.0], \"control_voltage\": [0.06, 14.56], \"car_id\": [\"123abc\", \"123abc\"]}}' http://127.0.0.1:5000/invocations\n",
    "{\"predictions\": [{\"class\": 14.26946728558632}, {\"class\": 14.26946728558632}]}\n",
    "```"
   ]
  },
  {
   "cell_type": "markdown",
   "metadata": {},
   "source": [
    "## Model deployment using Kserve\n",
    "* https://mlflow.org/docs/latest/deployment/deploy-model-to-kubernetes/tutorial.html?highlight=kserve#step-7-deploying-the-model-to-kserve"
   ]
  },
  {
   "cell_type": "markdown",
   "metadata": {},
   "source": [
    "### Using `model_uri` \n",
    "\n",
    "* since I configured minio as artifact store I can use `model_uri` - I was **WRONG!**\n",
    "\n",
    "procedure:\n",
    "<details><summary>make sure the kserve is able to reach minio</summary>\n",
    "\n",
    "*  by [defining s3-secret and attaching it to service account](https://kserve.github.io/website/0.7/modelserving/storage/s3/s3/#create-s3-secret)\n",
    "* created ServiceAccount must be in a same namespace as the InferenceService we are going to create, [e.g. stackoverflow here](https://stackoverflow.com/a/70977798)\n",
    "* `If an application does not specify a serviceAccountName, it uses the \"default\" service account.`[e.g. here](https://kubernetes.io/docs/reference/access-authn-authz/rbac/#role-binding-examples)\n",
    "\n",
    "```\n",
    "apiVersion: v1\n",
    "kind: Secret\n",
    "metadata:\n",
    "  name: s3creds\n",
    "  namespace: mlflow-kserve-success6g\n",
    "  annotations:\n",
    "     serving.kserve.io/s3-endpoint: 10.152.183.156:9000 # replace with your s3 endpoint e.g minio-service.kubeflow:9000\n",
    "     serving.kserve.io/s3-usehttps: \"0\" # by default 1, if testing with minio you can set to 0\n",
    "     # serving.kserve.io/s3-region: \"us-east-2\"\n",
    "     serving.kserve.io/s3-useanoncredential: \"false\" # omitting this is the same as false, if true will ignore provided credential and use anonymous credentials\n",
    "type: Opaque\n",
    "stringData: # use `stringData` for raw credential string or `data` for base64 encoded string\n",
    "  AWS_ACCESS_KEY_ID: \"minioadmin\"\n",
    "  AWS_SECRET_ACCESS_KEY: \"minioadmin\"\n",
    "```\n",
    "\n",
    "`kubectl apply -f create-s3-secret.yaml`\n",
    "\n",
    "</details>\n",
    "<details><summary>create namespace</summary>\n",
    "\n",
    "```\n",
    "kubectl create namespace mlflow-kserve-success6g\n",
    "namespace/mlflow-kserve-success6g created\n",
    "```\n",
    "\n",
    "</details>\n",
    "<details><summary>specify configuration of the deployment in the file `mlflow-kserve-success6g_model_uri.yaml`</summary>\n",
    "\n",
    "```\n",
    "apiVersion: \"serving.kserve.io/v1beta1\"\n",
    "kind: \"InferenceService\"\n",
    "metadata:\n",
    "  name: \"mlflow-success6g\"\n",
    "  namespace: \"mlflow-kserve-success6g\"\n",
    "spec:\n",
    "  predictor:\n",
    "    model:\n",
    "      modelFormat:\n",
    "        name: mlflow\n",
    "      protocolVersion: v2\n",
    "      storageUri: \"s3://mlflow/1/777cf64c922149a4b77c85987865deb0/artifacts/success6g_model\"\n",
    "```\n",
    "\n",
    "</details>\n",
    "<details><summary>deploy</summary>\n",
    "\n",
    "```\n",
    "kubectl apply -f mlflow-kserve-success6g.yaml\n",
    "inferenceservice.serving.kserve.io/mlflow-success6g created\n",
    "```\n",
    "</details>\n",
    "<details><summary>check the status of the deployment</summary>\n",
    "\n",
    "`kubectl get inferenceservice mlflow-success6g`\n",
    "\n",
    "</details>\n",
    "<details><summary>specify testing json in `test-input.json`</summary>\n",
    "\n",
    "```\n",
    "{\n",
    "    \"inputs\": [\n",
    "      {\n",
    "        \"name\": \"input\",\n",
    "        \"shape\": [13],\n",
    "        \"datatype\": \"FP32\",\n",
    "        \"data\": {\n",
    "\t\t\t\"engine_load\": [100.0 ,100.0],\n",
    "\t\t\t\"engine_coolant_temp\": [17.0, 17.0],\n",
    "\t\t\t\"engine_speed\": [904.5, 906.0],\n",
    "\t\t\t\"vehicle_speed\": [0.0, 0.0],\n",
    "\t\t\t\"intake_air_temp\": [10.0, 11.0],\n",
    "\t\t\t\"maf\": [12.55, 12.36],\n",
    "\t\t\t\"throttle_position\": [83.14, 83.14],\n",
    "\t\t\t\"fuel_rg_pressure\": [37270.0, 37800.0],\n",
    "\t\t\t\"barometric_pressure\": [101.0, 101.0],\n",
    "\t\t\t\"control_voltage\": [0.06, 14.56],\n",
    "\t\t\t\"car_id\": [\"123abc\", \"123abc\"],\n",
    "\t\t\t}\n",
    "      }\n",
    "    ]\n",
    "}\n",
    "```\n",
    "\n",
    "</details>\n",
    "<details><summary>test json</summary>\n",
    "\n",
    "```\n",
    "SERVICE_HOSTNAME=$(kubectl get inferenceservice mlflow-success6g -n mlflow-kserve-success6g -o jsonpath='{.status.url}' | cut -d \"/\" -f 3)\n",
    "curl -v \\\n",
    "  -H \"Host: ${SERVICE_HOSTNAME}\" \\\n",
    "  -H \"Content-Type: application/json\" \\\n",
    "  -d @./test-input.json \\\n",
    "  http://${INGRESS_HOST}:${INGRESS_PORT}/v2/models/mlflow-success6g/infer\n",
    "```\n",
    "\n",
    "</details>\n",
    "<details><summary>but after all the trouble this can still fail if you developed the model in different python version than kserve is using</summary>\n",
    "\n",
    "```\n",
    "pmulinka@saiacheron:~/kubernetes/kserve$ kubectl logs -p mlflow-success6g-predictor-00001-deployment-74ccf4fb5d-lktz9 -n mlflow-kserve-success6g\n",
    "Defaulted container \"kserve-container\" out of: kserve-container, queue-proxy, storage-initializer (init)\n",
    "Environment tarball not found at '/mnt/models/environment.tar.gz'\n",
    "Environment not found at './envs/environment'\n",
    "2024-05-16 15:32:55,293 [mlserver.parallel] DEBUG - Starting response processing loop...\n",
    "2024-05-16 15:32:55,298 [mlserver.rest] INFO - HTTP server running on http://0.0.0.0:8080\n",
    "INFO:     Started server process [1]\n",
    "INFO:     Waiting for application startup.\n",
    "2024-05-16 15:32:55,411 [mlserver.metrics] INFO - Metrics server running on http://0.0.0.0:8082\n",
    "2024-05-16 15:32:55,412 [mlserver.metrics] INFO - Prometheus scraping endpoint can be accessed on http://0.0.0.0:8082/metrics\n",
    "INFO:     Started server process [1]\n",
    "INFO:     Waiting for application startup.\n",
    "INFO:     Application startup complete.\n",
    "2024-05-16 15:32:57,613 [mlserver.grpc] INFO - gRPC server running on http://0.0.0.0:9000\n",
    "INFO:     Application startup complete.\n",
    "INFO:     Uvicorn running on http://0.0.0.0:8080 (Press CTRL+C to quit)\n",
    "INFO:     Uvicorn running on http://0.0.0.0:8082 (Press CTRL+C to quit)\n",
    "2024/05/16 15:32:58 WARNING mlflow.pyfunc: Detected one or more mismatches between the model's dependencies and the current Python environment:\n",
    " - mlflow (current: 2.3.1, required: mlflow==2.12.2)\n",
    " - cryptography (current: 38.0.4, required: cryptography==40.0.2)\n",
    " - cytoolz (current: uninstalled, required: cytoolz==0.12.0)\n",
    " - defusedxml (current: uninstalled, required: defusedxml==0.7.1)\n",
    " - distributed (current: uninstalled, required: distributed==2023.5.1)\n",
    " - lightgbm (current: 3.3.5, required: lightgbm==4.3.0)\n",
    " - lz4 (current: uninstalled, required: lz4==4.3.2)\n",
    " - numpy (current: 1.23.5, required: numpy==1.24.3)\n",
    " - optuna-integration (current: uninstalled, required: optuna-integration==3.6.0)\n",
    " - pandas (current: 2.0.1, required: pandas==2.2.2)\n",
    " - pyarrow (current: 11.0.0, required: pyarrow==12.0.0)\n",
    " - redis (current: uninstalled, required: redis==5.0.4)\n",
    " - scipy (current: 1.9.1, required: scipy==1.10.1)\n",
    "To fix the mismatches, call `mlflow.pyfunc.get_model_dependencies(model_uri)` to fetch the model's environment and install dependencies using the resulting environment file.\n",
    "2024/05/16 15:32:58 WARNING mlflow.pyfunc: The version of Python that the model was saved in, `Python 3.10.11`, differs from the version of Python that is currently running, `Python 3.8.16`, and may be incompatible\n",
    "2024-05-16 15:32:58,967 [mlserver] INFO - Couldn't load model 'mlflow-success6g'. Model will be removed from registry.\n",
    "2024-05-16 15:32:58,967 [mlserver.parallel] ERROR - An error occurred processing a model update of type 'Load'.\n",
    "Traceback (most recent call last):\n",
    "  File \"/opt/conda/lib/python3.8/site-packages/mlserver/parallel/worker.py\", line 158, in _process_model_update\n",
    "    await self._model_registry.load(model_settings)\n",
    "  File \"/opt/conda/lib/python3.8/site-packages/mlserver/registry.py\", line 293, in load\n",
    "    return await self._models[model_settings.name].load(model_settings)\n",
    "  File \"/opt/conda/lib/python3.8/site-packages/mlserver/registry.py\", line 148, in load\n",
    "    await self._load_model(new_model)\n",
    "  File \"/opt/conda/lib/python3.8/site-packages/mlserver/registry.py\", line 165, in _load_model\n",
    "    model.ready = await model.load()\n",
    "  File \"/opt/conda/lib/python3.8/site-packages/mlserver_mlflow/runtime.py\", line 155, in load\n",
    "    self._model = mlflow.pyfunc.load_model(model_uri)\n",
    "  File \"/opt/conda/lib/python3.8/site-packages/mlflow/pyfunc/__init__.py\", line 596, in load_model\n",
    "    model_impl = importlib.import_module(conf[MAIN])._load_pyfunc(data_path)\n",
    "  File \"/opt/conda/lib/python3.8/site-packages/mlflow/pyfunc/model.py\", line 291, in _load_pyfunc\n",
    "    python_model = cloudpickle.load(f)\n",
    "ModuleNotFoundError: No module named 'inference_model'\n",
    "2024-05-16 15:32:58,970 [mlserver] INFO - Couldn't load model 'mlflow-success6g'. Model will be removed from registry.\n",
    "2024-05-16 15:32:58,975 [mlserver.parallel] ERROR - An error occurred processing a model update of type 'Unload'.\n",
    "Traceback (most recent call last):\n",
    "  File \"/opt/conda/lib/python3.8/site-packages/mlserver/parallel/worker.py\", line 160, in _process_model_update\n",
    "    await self._model_registry.unload_version(\n",
    "  File \"/opt/conda/lib/python3.8/site-packages/mlserver/registry.py\", line 302, in unload_version\n",
    "    await model_registry.unload_version(version)\n",
    "  File \"/opt/conda/lib/python3.8/site-packages/mlserver/registry.py\", line 201, in unload_version\n",
    "    model = await self.get_model(version)\n",
    "  File \"/opt/conda/lib/python3.8/site-packages/mlserver/registry.py\", line 237, in get_model\n",
    "    raise ModelNotFound(self._name, version)\n",
    "mlserver.errors.ModelNotFound: Model mlflow-success6g not found\n",
    "2024-05-16 15:32:58,976 [mlserver] ERROR - Some of the models failed to load during startup!\n",
    "Traceback (most recent call last):\n",
    "  File \"/opt/conda/lib/python3.8/site-packages/mlserver/server.py\", line 125, in start\n",
    "    await asyncio.gather(\n",
    "  File \"/opt/conda/lib/python3.8/site-packages/mlserver/registry.py\", line 293, in load\n",
    "    return await self._models[model_settings.name].load(model_settings)\n",
    "  File \"/opt/conda/lib/python3.8/site-packages/mlserver/registry.py\", line 148, in load\n",
    "    await self._load_model(new_model)\n",
    "  File \"/opt/conda/lib/python3.8/site-packages/mlserver/registry.py\", line 161, in _load_model\n",
    "    model = await callback(model)\n",
    "  File \"/opt/conda/lib/python3.8/site-packages/mlserver/parallel/registry.py\", line 152, in load_model\n",
    "    loaded = await pool.load_model(model)\n",
    "  File \"/opt/conda/lib/python3.8/site-packages/mlserver/parallel/pool.py\", line 74, in load_model\n",
    "    await self._dispatcher.dispatch_update(load_message)\n",
    "  File \"/opt/conda/lib/python3.8/site-packages/mlserver/parallel/dispatcher.py\", line 123, in dispatch_update\n",
    "    return await asyncio.gather(\n",
    "  File \"/opt/conda/lib/python3.8/site-packages/mlserver/parallel/dispatcher.py\", line 138, in _dispatch_update\n",
    "    return await self._dispatch(worker_update)\n",
    "  File \"/opt/conda/lib/python3.8/site-packages/mlserver/parallel/dispatcher.py\", line 146, in _dispatch\n",
    "    return await self._wait_response(internal_id)\n",
    "  File \"/opt/conda/lib/python3.8/site-packages/mlserver/parallel/dispatcher.py\", line 152, in _wait_response\n",
    "    inference_response = await async_response\n",
    "mlserver.parallel.errors.WorkerError: builtins.ModuleNotFoundError: No module named 'inference_model'\n",
    "2024-05-16 15:32:58,978 [mlserver.parallel] INFO - Waiting for shutdown of default inference pool...\n",
    "2024-05-16 15:32:59,163 [mlserver.parallel] INFO - Shutdown of default inference pool complete\n",
    "2024-05-16 15:32:59,163 [mlserver.grpc] INFO - Waiting for gRPC server shutdown\n",
    "2024-05-16 15:32:59,169 [mlserver.grpc] INFO - gRPC server shutdown complete\n",
    "INFO:     Shutting down\n",
    "INFO:     Shutting down\n",
    "INFO:     Waiting for application shutdown.\n",
    "INFO:     Application shutdown complete.\n",
    "INFO:     Finished server process [1]\n",
    "INFO:     Waiting for application shutdown.\n",
    "INFO:     Application shutdown complete.\n",
    "INFO:     Finished server process [1]\n",
    "```\n",
    "\n",
    "</details>\n",
    "<details><summary>and some possible readiness probe issues</summary>\n",
    "\n",
    "* apparently I am not alone in this, e.g. [here](https://stackoverflow.com/questions/62569747/ml-model-pod-keeps-restarting-in-seldon-deployment)\n",
    "```\n",
    "pmulinka@saiacheron:~/kubernetes/kserve$ kubectl describe pod mlflow-success6g-predictor-00001-deployment-74ccf4fb5d-lktz9 -n mlflow-kserve-success6g\n",
    "Events:\n",
    "  Type     Reason     Age                    From     Message\n",
    "  ----     ------     ----                   ----     -------\n",
    "  Warning  Unhealthy  4m11s (x268 over 34m)  kubelet  Readiness probe failed: Get \"http://10.1.4.204:8012/\": context deadline exceeded (Client.Timeout exceeded while awaiting headers)\n",
    "```\n",
    "</details>"
   ]
  },
  {
   "cell_type": "markdown",
   "metadata": {},
   "source": [
    "### Using docker image\n",
    "<details><summary>create docker</summary>\n",
    "\n",
    "```\n",
    "sudo apt-get install python3.10-venv\n",
    "python3.10 -m venv python310venv\n",
    "source python310venv/bin/activate\n",
    "pip install mlflow\n",
    "pip install boto3\n",
    "export AWS_ACCESS_KEY_ID=minioadmin\n",
    "export AWS_SECRET_ACCESS_KEY=minioadmin\n",
    "export MLFLOW_S3_ENDPOINT_URL=http://10.152.183.156:9000\n",
    "\n",
    "mlflow models build-docker -m s3://mlflow/1/777cf64c922149a4b77c85987865deb0/artifacts/success6g_model -n 5uperpalo/mlflow-success6g --enable-mlserver\n",
    "```\n",
    "</details>\n",
    "<details><summary>generate token and login to DockerHub, </summary>\n",
    "\n",
    "[generate DockerHub token](https://hub.docker.com/settings/security?generateToken=true) and login\n",
    "```\n",
    "(python310venv) pmulinka@iesc-gpu3:~/scripts$ docker login  -u 5uperpalo\n",
    "Password:\n",
    "WARNING! Your password will be stored unencrypted in /home/pmulinka/.docker/config.json.\n",
    "Configure a credential helper to remove this warning. See\n",
    "https://docs.docker.com/engine/reference/commandline/login/#credentials-store\n",
    "\n",
    "Login Succeeded\n",
    "```\n",
    "</details>\n",
    "<details><summary>push the image to dockerhub</summary>\n",
    "\n",
    "```\n",
    "(python310venv) pmulinka@iesc-gpu3:~/scripts$ docker push 5uperpalo/mlflow-success6g\n",
    "Using default tag: latest\n",
    "The push refers to repository [docker.io/5uperpalo/mlflow-success6g]\n",
    "e5f76b582f6c: Pushed\n",
    "624821c51019: Pushed\n",
    "93256a85bb86: Pushed\n",
    "2f62dcdb5ae7: Pushed\n",
    "1146ddf03b42: Pushed\n",
    "639ddc87d13f: Pushed\n",
    "4f18e59d57c4: Pushed\n",
    "5761e01a334a: Pushed\n",
    "f31b6bde159a: Pushed\n",
    "c25ef1a18d31: Pushed\n",
    "40a774d6610c: Pushed\n",
    "a2b215b4258b: Pushed\n",
    "b56a9203d2a0: Pushed\n",
    "2536dbfb2294: Pushed\n",
    "67ea405a7d49: Pushed\n",
    "a81c3606ee5c: Pushed\n",
    "4a1518ebc26e: Mounted from library/ubuntu\n",
    "latest: digest: sha256:57f653a3c8d63519c07dccffc6eb12dba5006db07ebcd869467ce752fb1b0bda size: 3899\n",
    "```\n",
    "</details>\n",
    "\n",
    "<details><summary>specify configuration of the deployment in the file `mlflow-kserve-success6g_model_uri.yaml`</summary>\n",
    "\n",
    "```\n",
    "apiVersion: \"serving.kserve.io/v1beta1\"\n",
    "kind: \"InferenceService\"\n",
    "metadata:\n",
    "  name: \"mlflow-success6g\"\n",
    "  namespace: \"mlflow-kserve-success6g\"\n",
    "spec:\n",
    "  predictor:\n",
    "    containers:\n",
    "      - name: \"mlflow-success6g\"\n",
    "        image: \"5uperpalo/mlflow-success6g\"\n",
    "        ports:\n",
    "          - containerPort: 8080\n",
    "            protocol: TCP\n",
    "              #env:\n",
    "              #- name: PROTOCOL\n",
    "              #value: \"v2\"\n",
    "        resources:\n",
    "          limits:\n",
    "            cpu: 2\n",
    "            memory: 8Gi\n",
    "          requests:\n",
    "            cpu: 2\n",
    "            memory: 8Gi\n",
    "```\n",
    "</details>\n",
    "<details><summary>deploy</summary>\n",
    "\n",
    "```\n",
    "pmulinka@saiacheron:~/kubernetes/kserve$ kubectl apply -f mlflow-kserve-success6g_docker_image.yaml\n",
    "inferenceservice.serving.kserve.io/mlflow-success6g created\n",
    "```\n",
    "</details>\n",
    "<details><summary>check status of deployment</summary>\n",
    "\n",
    "```\n",
    "pmulinka@saiacheron:~$ kubectl get inferenceservice -n mlflow-kserve-success6g\n",
    "NAME               URL                                                                 READY   PREV   LATEST   PREVROLLEDOUTREVISION   LATESTREADYREVISION                AGE\n",
    "mlflow-success6g   http://mlflow-success6g.mlflow-kserve-success6g.svc.cluster.local   False          100                              mlflow-success6g-predictor-00001   6m4s\n",
    "\n",
    "pmulinka@saiacheron:~$ kubectl get pods -n mlflow-kserve-success6g\n",
    "NAME                                                           READY   STATUS    RESTARTS        AGE\n",
    "mlflow-success6g-predictor-00001-deployment-8694fffb55-9wnb7   2/2     Running   1 (2m14s ago)   4m47s\n",
    "\n",
    "\n",
    "pmulinka@saiacheron:~$ kubectl get inferenceservice mlflow-success6g -n mlflow-kserve-success6g -o yaml\n",
    "apiVersion: serving.kserve.io/v1beta1\n",
    "kind: InferenceService\n",
    "metadata:\n",
    "  annotations:\n",
    "    kubectl.kubernetes.io/last-applied-configuration: |\n",
    "      {\"apiVersion\":\"serving.kserve.io/v1beta1\",\"kind\":\"InferenceService\",\"metadata\":{\"annotations\":{},\"name\":\"mlflow-success6g\",\"namespace\":\"mlflow-kserve-success6g\"},\"spec\":{\"predictor\":{\"containers\":[{\"image\":\"5uperpalo/mlflow-success6g\",\"name\":\"mlflow-success6g\",\"ports\":[{\"containerPort\":8080,\"protocol\":\"TCP\"}],\"resources\":{\"limits\":{\"cpu\":2,\"memory\":\"8Gi\"},\"requests\":{\"cpu\":2,\"memory\":\"8Gi\"}}}]}}}\n",
    "  creationTimestamp: \"2024-05-28T14:33:05Z\"\n",
    "  finalizers:\n",
    "  - inferenceservice.finalizers\n",
    "  generation: 1\n",
    "  name: mlflow-success6g\n",
    "  namespace: mlflow-kserve-success6g\n",
    "  resourceVersion: \"76010518\"\n",
    "  uid: b9573ff3-0f67-4650-a0c7-51941a0fffe2\n",
    "spec:\n",
    "  predictor:\n",
    "    containers:\n",
    "    - image: 5uperpalo/mlflow-success6g\n",
    "      name: kserve-container\n",
    "      ports:\n",
    "      - containerPort: 8080\n",
    "        protocol: TCP\n",
    "      resources:\n",
    "        limits:\n",
    "          cpu: \"2\"\n",
    "          memory: 8Gi\n",
    "        requests:\n",
    "          cpu: \"2\"\n",
    "          memory: 8Gi\n",
    "status:\n",
    "  address:\n",
    "    url: http://mlflow-success6g.mlflow-kserve-success6g.svc.cluster.local\n",
    "  components:\n",
    "    predictor:\n",
    "      address:\n",
    "        url: http://mlflow-success6g-predictor.mlflow-kserve-success6g.svc.cluster.local\n",
    "      latestCreatedRevision: mlflow-success6g-predictor-00001\n",
    "      latestReadyRevision: mlflow-success6g-predictor-00001\n",
    "      latestRolledoutRevision: mlflow-success6g-predictor-00001\n",
    "      traffic:\n",
    "      - latestRevision: true\n",
    "        percent: 100\n",
    "        revisionName: mlflow-success6g-predictor-00001\n",
    "      url: http://mlflow-success6g-predictor.mlflow-kserve-success6g.svc.cluster.local\n",
    "  conditions:\n",
    "  - lastTransitionTime: \"2024-05-28T14:36:11Z\"\n",
    "    reason: Predictor ingress not created\n",
    "    status: \"False\"\n",
    "    type: IngressReady\n",
    "  - lastTransitionTime: \"2024-05-28T14:36:11Z\"\n",
    "    reason: PredictorConfigurationReady not ready\n",
    "    severity: Info\n",
    "    status: \"False\"\n",
    "    type: LatestDeploymentReady\n",
    "  - lastTransitionTime: \"2024-05-28T14:36:11Z\"\n",
    "    message: 'Revision \"mlflow-success6g-predictor-00001\" failed with message: Container\n",
    "      failed with: container exited with no error.'\n",
    "    reason: RevisionFailed\n",
    "    severity: Info\n",
    "    status: \"False\"\n",
    "    type: PredictorConfigurationReady\n",
    "  - lastTransitionTime: \"2024-05-28T14:36:11Z\"\n",
    "    message: Revision \"mlflow-success6g-predictor-00001\" failed to become ready.\n",
    "    reason: RevisionMissing\n",
    "    status: \"False\"\n",
    "    type: PredictorReady\n",
    "  - lastTransitionTime: \"2024-05-28T14:36:11Z\"\n",
    "    message: Revision \"mlflow-success6g-predictor-00001\" failed to become ready.\n",
    "    reason: RevisionMissing\n",
    "    severity: Info\n",
    "    status: \"False\"\n",
    "    type: PredictorRouteReady\n",
    "  - lastTransitionTime: \"2024-05-28T14:36:11Z\"\n",
    "    reason: Predictor ingress not created\n",
    "    status: \"False\"\n",
    "    type: Ready\n",
    "  - lastTransitionTime: \"2024-05-28T14:36:11Z\"\n",
    "    reason: PredictorRouteReady not ready\n",
    "    severity: Info\n",
    "    status: \"False\"\n",
    "    type: RoutesReady\n",
    "  modelStatus:\n",
    "    copies:\n",
    "      failedCopies: 0\n",
    "      totalCopies: 1\n",
    "    states:\n",
    "      activeModelState: Loaded\n",
    "      targetModelState: Pending\n",
    "    transitionStatus: InProgress\n",
    "  observedGeneration: 1\n",
    "  url: http://mlflow-success6g.mlflow-kserve-success6g.svc.cluster.local\n",
    "\n",
    "pmulinka@saiacheron:~/kubernetes/kserve$ kubectl get events -n mlflow-kserve-success6g\n",
    "LAST SEEN   TYPE      REASON          OBJECT                                                             MESSAGE\n",
    "2m28s       Warning   BackOff         pod/mlflow-success6g-predictor-00001-deployment-8694fffb55-9wnb7   Back-off restarting failed container kserve-container in pod mlflow-success6g-predictor-00001-deployment-8694fffb55-9wnb7_mlflow-kserve-success6g(1ad2d6da-3a40-4b14-956a-0faee3ca9b3c)\n",
    "2m28s       Warning   InternalError   revision/mlflow-success6g-predictor-00001                          failed to update PA \"mlflow-success6g-predictor-00001\": Operation cannot be fulfilled on podautoscalers.autoscaling.internal.knative.dev \"mlflow-success6g-predictor-00001\": the object has been modified; please apply your changes to the latest version and try again\n",
    "\n",
    "```\n",
    "</details>\n",
    "\n",
    "<details><summary>debugging</summary>\n",
    "\n",
    "```\n",
    "# https://kserve.github.io/website/0.10/developer/debug/\n",
    "pmulinka@saiacheron:~/kubernetes/kserve$ kubectl get ksvc -n mlflow-kserve-success6g\n",
    "NAME                         URL                                                                           LATESTCREATED                      LATESTREADY                        READY   REASON\n",
    "mlflow-success6g-predictor   http://mlflow-success6g-predictor.mlflow-kserve-success6g.svc.cluster.local   mlflow-success6g-predictor-00001   mlflow-success6g-predictor-00001   False   RevisionMissing\n",
    "# RevisionMissing Error\n",
    "pmulinka@saiacheron:~/kubernetes/kserve$ kubectl get revision $(kubectl get configuration mlflow-success6g-predictor -n mlflow-kserve-success6g --output jsonpath=\"{.status.latestCreatedRevisionName}\")\n",
    "Error from server (NotFound): revisions.serving.knative.dev \"mlflow-success6g-predictor-00001\" not found\n",
    "pmulinka@saiacheron:~/kubernetes/kserve$ kubectl get pod -l serving.kserve.io/inferenceservice=mlflow-success6g -n mlflow-kserve-success6g\n",
    "NAME                                                           READY   STATUS             RESTARTS        AGE\n",
    "mlflow-success6g-predictor-00001-deployment-8694fffb55-9wnb7   0/2     CrashLoopBackOff   8 (4m51s ago)   43m\n",
    "pmulinka@saiacheron:~/kubernetes/kserve$ kubectl get pod -l serving.kserve.io/inferenceservice=mlflow-success6g -n mlflow-kserve-success6g\n",
    "NAME                                                           READY   STATUS    RESTARTS       AGE\n",
    "mlflow-success6g-predictor-00001-deployment-8694fffb55-9wnb7   2/2     Running   9 (7m7s ago)   45m\n",
    "pmulinka@saiacheron:~/kubernetes/kserve$ kubectl logs -l model=mlflow-success6g -n mlflow-kserve-success6g -c storage-initializer\n",
    "No resources found in mlflow-kserve-success6g namespace.\n",
    "pmulinka@saiacheron:~/kubernetes/kserve$ kubectl delete inferenceservice mlflow-success6g -n mlflow-kserve-success6g\n",
    "inferenceservice.serving.kserve.io \"mlflow-success6g\" deleted\n",
    "```\n",
    "</details>"
   ]
  }
 ],
 "metadata": {
  "@webio": {
   "lastCommId": null,
   "lastKernelId": null
  },
  "hide_input": false,
  "interpreter": {
   "hash": "607fd6e109c58f0c2b9243752eb24f156017faf2fedd41f01500ce520d155ec1"
  },
  "kernelspec": {
   "display_name": "Python 3 (ipykernel)",
   "language": "python",
   "name": "python3"
  },
  "language_info": {
   "codemirror_mode": {
    "name": "ipython",
    "version": 3
   },
   "file_extension": ".py",
   "mimetype": "text/x-python",
   "name": "python",
   "nbconvert_exporter": "python",
   "pygments_lexer": "ipython3",
   "version": "3.10.11"
  },
  "toc": {
   "base_numbering": 1,
   "nav_menu": {},
   "number_sections": true,
   "sideBar": true,
   "skip_h1_title": false,
   "title_cell": "Table of Contents",
   "title_sidebar": "Contents",
   "toc_cell": false,
   "toc_position": {
    "height": "calc(100% - 180px)",
    "left": "10px",
    "top": "150px",
    "width": "222.539px"
   },
   "toc_section_display": true,
   "toc_window_display": true
  },
  "toc-autonumbering": true
 },
 "nbformat": 4,
 "nbformat_minor": 4
}
